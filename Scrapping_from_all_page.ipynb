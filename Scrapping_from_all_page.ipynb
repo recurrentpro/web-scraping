{
 "cells": [
  {
   "cell_type": "code",
   "execution_count": 1,
   "id": "88e6b667",
   "metadata": {},
   "outputs": [],
   "source": [
    "import warnings\n",
    "warnings.filterwarnings(\"ignore\")\n",
    "\n",
    "import pandas as pd\n",
    "import numpy as np\n",
    "import matplotlib.pyplot as plt\n",
    "from bs4 import BeautifulSoup\n",
    "from urllib.request import urlopen, Request\n",
    "import requests"
   ]
  },
  {
   "cell_type": "code",
   "execution_count": 2,
   "id": "1861f128",
   "metadata": {},
   "outputs": [],
   "source": [
    "url_list = []\n",
    "for i in range(1, 42):\n",
    "    url = f\"https://www.flipkart.com/search?q=mobiles&as=on&as-show=on&otracker=AS_Query_HistoryAutoSuggest_1_6_na_na_na&otracker1=AS_Query_HistoryAutoSuggest_1_6_na_na_na&as-pos=1&as-type=HISTORY&suggestionId=mobiles&requestId=a4b17236-22a6-4fa3-800b-37acc52f0ff0&as-searchtext=mobile&page={i}\"\n",
    "    url_list.append(url)"
   ]
  },
  {
   "cell_type": "code",
   "execution_count": 3,
   "id": "aee15988",
   "metadata": {},
   "outputs": [],
   "source": [
    "def create_html_page(url):\n",
    "    uClient = urlopen(url)\n",
    "    page_html = uClient.read()\n",
    "    uClient.close()\n",
    "    page_soup = BeautifulSoup(page_html, features='html')\n",
    "    return page_soup"
   ]
  },
  {
   "cell_type": "code",
   "execution_count": 4,
   "id": "d4c8f0a6",
   "metadata": {},
   "outputs": [],
   "source": [
    "def create_final_data(page_soup):\n",
    "    data = {\"Product Name\": [],\n",
    "            \"Sale & Actual Price\": [],\n",
    "            \"Raview & Rattings\": [],\n",
    "            \"Offer\": [],\n",
    "            \"Camera\": [],\n",
    "            \"Memory\": [],\n",
    "            \"Battery\": [],\n",
    "            \"Display\": [],\n",
    "            \"Ratting Number\": []}\n",
    "\n",
    "    all_info_class_name = \"yKfJKb row\"\n",
    "    containers = page_soup.find_all(\"div\", {\"class\": all_info_class_name})\n",
    "    \n",
    "    for contain in containers:\n",
    "        product_name = contain.find_all(\"div\", {\"class\": \"KzDlHZ\"})[0].text\n",
    "        data[\"Product Name\"].append(product_name)\n",
    "\n",
    "        rr = contain.find_all(\"span\", {\"class\": \"Wphh3N\"})\n",
    "        if len(rr) == 0:\n",
    "            review_and_ratting = None\n",
    "            ratting_number = None\n",
    "        else:\n",
    "            review_and_ratting = rr[0].text\n",
    "            ratting_number = contain.find_all(\"div\", {\"class\": \"XQDdHH\"})[0].text\n",
    "\n",
    "        data[\"Raview & Rattings\"].append(review_and_ratting)\n",
    "        data[\"Ratting Number\"].append(ratting_number)\n",
    "\n",
    "        specifictations = contain.find_all(\"div\", {\"class\": \"_6NESgJ\"})[0]\n",
    "\n",
    "        data[\"Memory\"].append(specifictations.find_all('li')[0].text)\n",
    "        data[\"Display\"].append(specifictations.find_all('li')[1].text)\n",
    "        data[\"Camera\"].append(specifictations.find_all('li')[2].text)\n",
    "        data[\"Battery\"].append(specifictations.find_all('li')[3].text)\n",
    "\n",
    "        price = contain.find_all(\"div\", {\"class\": \"hl05eU\"})[0].text\n",
    "        data[\"Sale & Actual Price\"].append(price)\n",
    "\n",
    "        offer_list = contain.find_all(\"div\", {\"class\": \"UkUFwK\"})\n",
    "        if len(offer_list) == 0:\n",
    "            data[\"Offer\"].append(\"No Offer\")\n",
    "        else:\n",
    "            data[\"Offer\"].append(offer_list[0].text)\n",
    "        \n",
    "    return data\n",
    "    "
   ]
  },
  {
   "cell_type": "markdown",
   "id": "f7052870",
   "metadata": {},
   "source": [
    "# Main Section"
   ]
  },
  {
   "cell_type": "code",
   "execution_count": 12,
   "id": "24ce4e4b",
   "metadata": {
    "collapsed": true
   },
   "outputs": [
    {
     "name": "stdout",
     "output_type": "stream",
     "text": [
      "Started url page 1\n",
      "Started url page 2\n",
      "Started url page 3\n",
      "Started url page 4\n",
      "Started url page 5\n",
      "Started url page 6\n",
      "Started url page 7\n",
      "Started url page 8\n",
      "Started url page 9\n",
      "Started url page 10\n",
      "Started url page 11\n"
     ]
    },
    {
     "ename": "HTTPError",
     "evalue": "HTTP Error 429: Too Many Requests",
     "output_type": "error",
     "traceback": [
      "\u001b[1;31m---------------------------------------------------------------------------\u001b[0m",
      "\u001b[1;31mHTTPError\u001b[0m                                 Traceback (most recent call last)",
      "Cell \u001b[1;32mIn[12], line 4\u001b[0m\n\u001b[0;32m      2\u001b[0m \u001b[38;5;28;01mfor\u001b[39;00m i, url \u001b[38;5;129;01min\u001b[39;00m \u001b[38;5;28menumerate\u001b[39m(url_list):\n\u001b[0;32m      3\u001b[0m     \u001b[38;5;28mprint\u001b[39m(\u001b[38;5;124mf\u001b[39m\u001b[38;5;124m\"\u001b[39m\u001b[38;5;124mStarted url page \u001b[39m\u001b[38;5;132;01m{\u001b[39;00mi\u001b[38;5;241m+\u001b[39m\u001b[38;5;241m1\u001b[39m\u001b[38;5;132;01m}\u001b[39;00m\u001b[38;5;124m\"\u001b[39m)\n\u001b[1;32m----> 4\u001b[0m     page_soup \u001b[38;5;241m=\u001b[39m create_html_page(url)\n\u001b[0;32m      5\u001b[0m     data_info \u001b[38;5;241m=\u001b[39m create_final_data(page_soup)\n\u001b[0;32m      6\u001b[0m     data_frame_list\u001b[38;5;241m.\u001b[39mappend(data_info)\n",
      "Cell \u001b[1;32mIn[3], line 2\u001b[0m, in \u001b[0;36mcreate_html_page\u001b[1;34m(url)\u001b[0m\n\u001b[0;32m      1\u001b[0m \u001b[38;5;28;01mdef\u001b[39;00m \u001b[38;5;21mcreate_html_page\u001b[39m(url):\n\u001b[1;32m----> 2\u001b[0m     uClient \u001b[38;5;241m=\u001b[39m urlopen(url)\n\u001b[0;32m      3\u001b[0m     page_html \u001b[38;5;241m=\u001b[39m uClient\u001b[38;5;241m.\u001b[39mread()\n\u001b[0;32m      4\u001b[0m     uClient\u001b[38;5;241m.\u001b[39mclose()\n",
      "File \u001b[1;32m~\\anaconda3\\Lib\\urllib\\request.py:216\u001b[0m, in \u001b[0;36murlopen\u001b[1;34m(url, data, timeout, cafile, capath, cadefault, context)\u001b[0m\n\u001b[0;32m    214\u001b[0m \u001b[38;5;28;01melse\u001b[39;00m:\n\u001b[0;32m    215\u001b[0m     opener \u001b[38;5;241m=\u001b[39m _opener\n\u001b[1;32m--> 216\u001b[0m \u001b[38;5;28;01mreturn\u001b[39;00m opener\u001b[38;5;241m.\u001b[39mopen(url, data, timeout)\n",
      "File \u001b[1;32m~\\anaconda3\\Lib\\urllib\\request.py:525\u001b[0m, in \u001b[0;36mOpenerDirector.open\u001b[1;34m(self, fullurl, data, timeout)\u001b[0m\n\u001b[0;32m    523\u001b[0m \u001b[38;5;28;01mfor\u001b[39;00m processor \u001b[38;5;129;01min\u001b[39;00m \u001b[38;5;28mself\u001b[39m\u001b[38;5;241m.\u001b[39mprocess_response\u001b[38;5;241m.\u001b[39mget(protocol, []):\n\u001b[0;32m    524\u001b[0m     meth \u001b[38;5;241m=\u001b[39m \u001b[38;5;28mgetattr\u001b[39m(processor, meth_name)\n\u001b[1;32m--> 525\u001b[0m     response \u001b[38;5;241m=\u001b[39m meth(req, response)\n\u001b[0;32m    527\u001b[0m \u001b[38;5;28;01mreturn\u001b[39;00m response\n",
      "File \u001b[1;32m~\\anaconda3\\Lib\\urllib\\request.py:634\u001b[0m, in \u001b[0;36mHTTPErrorProcessor.http_response\u001b[1;34m(self, request, response)\u001b[0m\n\u001b[0;32m    631\u001b[0m \u001b[38;5;66;03m# According to RFC 2616, \"2xx\" code indicates that the client's\u001b[39;00m\n\u001b[0;32m    632\u001b[0m \u001b[38;5;66;03m# request was successfully received, understood, and accepted.\u001b[39;00m\n\u001b[0;32m    633\u001b[0m \u001b[38;5;28;01mif\u001b[39;00m \u001b[38;5;129;01mnot\u001b[39;00m (\u001b[38;5;241m200\u001b[39m \u001b[38;5;241m<\u001b[39m\u001b[38;5;241m=\u001b[39m code \u001b[38;5;241m<\u001b[39m \u001b[38;5;241m300\u001b[39m):\n\u001b[1;32m--> 634\u001b[0m     response \u001b[38;5;241m=\u001b[39m \u001b[38;5;28mself\u001b[39m\u001b[38;5;241m.\u001b[39mparent\u001b[38;5;241m.\u001b[39merror(\n\u001b[0;32m    635\u001b[0m         \u001b[38;5;124m'\u001b[39m\u001b[38;5;124mhttp\u001b[39m\u001b[38;5;124m'\u001b[39m, request, response, code, msg, hdrs)\n\u001b[0;32m    637\u001b[0m \u001b[38;5;28;01mreturn\u001b[39;00m response\n",
      "File \u001b[1;32m~\\anaconda3\\Lib\\urllib\\request.py:563\u001b[0m, in \u001b[0;36mOpenerDirector.error\u001b[1;34m(self, proto, *args)\u001b[0m\n\u001b[0;32m    561\u001b[0m \u001b[38;5;28;01mif\u001b[39;00m http_err:\n\u001b[0;32m    562\u001b[0m     args \u001b[38;5;241m=\u001b[39m (\u001b[38;5;28mdict\u001b[39m, \u001b[38;5;124m'\u001b[39m\u001b[38;5;124mdefault\u001b[39m\u001b[38;5;124m'\u001b[39m, \u001b[38;5;124m'\u001b[39m\u001b[38;5;124mhttp_error_default\u001b[39m\u001b[38;5;124m'\u001b[39m) \u001b[38;5;241m+\u001b[39m orig_args\n\u001b[1;32m--> 563\u001b[0m     \u001b[38;5;28;01mreturn\u001b[39;00m \u001b[38;5;28mself\u001b[39m\u001b[38;5;241m.\u001b[39m_call_chain(\u001b[38;5;241m*\u001b[39margs)\n",
      "File \u001b[1;32m~\\anaconda3\\Lib\\urllib\\request.py:496\u001b[0m, in \u001b[0;36mOpenerDirector._call_chain\u001b[1;34m(self, chain, kind, meth_name, *args)\u001b[0m\n\u001b[0;32m    494\u001b[0m \u001b[38;5;28;01mfor\u001b[39;00m handler \u001b[38;5;129;01min\u001b[39;00m handlers:\n\u001b[0;32m    495\u001b[0m     func \u001b[38;5;241m=\u001b[39m \u001b[38;5;28mgetattr\u001b[39m(handler, meth_name)\n\u001b[1;32m--> 496\u001b[0m     result \u001b[38;5;241m=\u001b[39m func(\u001b[38;5;241m*\u001b[39margs)\n\u001b[0;32m    497\u001b[0m     \u001b[38;5;28;01mif\u001b[39;00m result \u001b[38;5;129;01mis\u001b[39;00m \u001b[38;5;129;01mnot\u001b[39;00m \u001b[38;5;28;01mNone\u001b[39;00m:\n\u001b[0;32m    498\u001b[0m         \u001b[38;5;28;01mreturn\u001b[39;00m result\n",
      "File \u001b[1;32m~\\anaconda3\\Lib\\urllib\\request.py:643\u001b[0m, in \u001b[0;36mHTTPDefaultErrorHandler.http_error_default\u001b[1;34m(self, req, fp, code, msg, hdrs)\u001b[0m\n\u001b[0;32m    642\u001b[0m \u001b[38;5;28;01mdef\u001b[39;00m \u001b[38;5;21mhttp_error_default\u001b[39m(\u001b[38;5;28mself\u001b[39m, req, fp, code, msg, hdrs):\n\u001b[1;32m--> 643\u001b[0m     \u001b[38;5;28;01mraise\u001b[39;00m HTTPError(req\u001b[38;5;241m.\u001b[39mfull_url, code, msg, hdrs, fp)\n",
      "\u001b[1;31mHTTPError\u001b[0m: HTTP Error 429: Too Many Requests"
     ]
    }
   ],
   "source": [
    "data_frame_list = []\n",
    "for i, url in enumerate(url_list):\n",
    "    print(f\"Started url page {i+1}\")\n",
    "    page_soup = create_html_page(url)\n",
    "    data_info = create_final_data(page_soup)\n",
    "    data_frame_list.append(data_info)"
   ]
  },
  {
   "cell_type": "code",
   "execution_count": 15,
   "id": "60677422",
   "metadata": {},
   "outputs": [
    {
     "data": {
      "text/plain": [
       "10"
      ]
     },
     "execution_count": 15,
     "metadata": {},
     "output_type": "execute_result"
    }
   ],
   "source": [
    "len(data_frame_list)"
   ]
  },
  {
   "cell_type": "code",
   "execution_count": 25,
   "id": "02113f94",
   "metadata": {},
   "outputs": [],
   "source": [
    "df_all = []\n",
    "for i in range(len(data_frame_list)):\n",
    "    df = pd.DataFrame(data_frame_list[i])\n",
    "    df_all.append(df)"
   ]
  },
  {
   "cell_type": "code",
   "execution_count": 26,
   "id": "a37c7c12",
   "metadata": {},
   "outputs": [],
   "source": [
    "final_df = pd.concat(df_all, ignore_index=True)"
   ]
  },
  {
   "cell_type": "code",
   "execution_count": 27,
   "id": "861e0c78",
   "metadata": {},
   "outputs": [
    {
     "data": {
      "text/plain": [
       "(177,)"
      ]
     },
     "execution_count": 27,
     "metadata": {},
     "output_type": "execute_result"
    }
   ],
   "source": [
    "final_df[\"Product Name\"].unique().shape"
   ]
  },
  {
   "cell_type": "code",
   "execution_count": 29,
   "id": "8dbdf9bb",
   "metadata": {},
   "outputs": [
    {
     "data": {
      "text/plain": [
       "(240, 9)"
      ]
     },
     "execution_count": 29,
     "metadata": {},
     "output_type": "execute_result"
    }
   ],
   "source": [
    "final_df.shape"
   ]
  },
  {
   "cell_type": "code",
   "execution_count": 31,
   "id": "f743f5ed",
   "metadata": {},
   "outputs": [],
   "source": [
    "final_df.to_csv(\"flipkart_mobile_phones.csv\")"
   ]
  },
  {
   "cell_type": "code",
   "execution_count": null,
   "id": "7a8183e4",
   "metadata": {},
   "outputs": [],
   "source": []
  }
 ],
 "metadata": {
  "kernelspec": {
   "display_name": "Python 3 (ipykernel)",
   "language": "python",
   "name": "python3"
  },
  "language_info": {
   "codemirror_mode": {
    "name": "ipython",
    "version": 3
   },
   "file_extension": ".py",
   "mimetype": "text/x-python",
   "name": "python",
   "nbconvert_exporter": "python",
   "pygments_lexer": "ipython3",
   "version": "3.11.5"
  }
 },
 "nbformat": 4,
 "nbformat_minor": 5
}
