{
 "cells": [
  {
   "cell_type": "code",
   "execution_count": 2,
   "id": "56389582",
   "metadata": {},
   "outputs": [
    {
     "name": "stderr",
     "output_type": "stream",
     "text": [
      "C:\\Users\\myrit\\anaconda3\\Lib\\site-packages\\pandas\\core\\arrays\\masked.py:60: UserWarning: Pandas requires version '1.3.6' or newer of 'bottleneck' (version '1.3.5' currently installed).\n",
      "  from pandas.core import (\n"
     ]
    }
   ],
   "source": [
    "import pandas as pd\n",
    "import numpy as np\n",
    "import matplotlib.pyplot as plt"
   ]
  },
  {
   "cell_type": "code",
   "execution_count": 3,
   "id": "92a0f644",
   "metadata": {},
   "outputs": [],
   "source": [
    "import warnings\n",
    "warnings.filterwarnings(\"ignore\")"
   ]
  },
  {
   "cell_type": "code",
   "execution_count": 4,
   "id": "b42ca6bc",
   "metadata": {},
   "outputs": [],
   "source": [
    "from bs4 import BeautifulSoup\n",
    "from urllib.request import urlopen, Request\n",
    "import requests"
   ]
  },
  {
   "cell_type": "code",
   "execution_count": 5,
   "id": "01589b9e",
   "metadata": {},
   "outputs": [],
   "source": [
    "url = \"https://www.flipkart.com/search?q=mobiles&as=on&as-show=on&otracker=AS_Query_HistoryAutoSuggest_1_6_na_na_na&otracker1=AS_Query_HistoryAutoSuggest_1_6_na_na_na&as-pos=1&as-type=HISTORY&suggestionId=mobiles&requestId=a4b17236-22a6-4fa3-800b-37acc52f0ff0&as-searchtext=mobile&page=1\""
   ]
  },
  {
   "cell_type": "code",
   "execution_count": 6,
   "id": "5c446d51",
   "metadata": {},
   "outputs": [],
   "source": [
    "uClient = urlopen(url)\n",
    "page_html = uClient.read()\n",
    "uClient.close()"
   ]
  },
  {
   "cell_type": "code",
   "execution_count": 7,
   "id": "a343de6e",
   "metadata": {},
   "outputs": [],
   "source": [
    "page_soup = BeautifulSoup(page_html, features='html')"
   ]
  },
  {
   "cell_type": "code",
   "execution_count": null,
   "id": "5946882b",
   "metadata": {},
   "outputs": [],
   "source": []
  },
  {
   "cell_type": "markdown",
   "id": "671c3252",
   "metadata": {},
   "source": [
    "# Scrap product name"
   ]
  },
  {
   "cell_type": "code",
   "execution_count": 8,
   "id": "206d8340",
   "metadata": {
    "collapsed": true
   },
   "outputs": [
    {
     "name": "stdout",
     "output_type": "stream",
     "text": [
      "<!DOCTYPE html>\n",
      "<html lang=\"en\"><head><link href=\"https://rukminim2.flixcart.com\" rel=\"preconnect\"/><link href=\"//static-assets-web.flixcart.com/fk-p-linchpin-web/fk-cp-zion/css/app_modules.chunk.c48a12.css\" rel=\"stylesheet\"/><link href=\"//static-assets-web.flixcart.com/fk-p-linchpin-web/fk-cp-zion/css/app.chunk.066267.css\" rel=\"stylesheet\"/> <meta content=\"text/html; charset=utf-8\" http-equiv=\"Content-type\"/><meta content=\"IE=Edge\" http-equiv=\"X-UA-Compatible\"/><meta content=\"102988293558\" property=\"fb:page_id\"/><meta content=\"658873552,624500995,100000233612389\" property=\"fb:admins\"/><link href=\"https://static-assets-web.flixcart.com/www/promos/new/20150528-140547-favicon-retina.ico\" rel=\"shortcut icon\"/><link href=\"/osdd.xml?v=2\" rel=\"search\" type=\"application/opensearchdescription+xml\"/><meta content=\"website\" property=\"og:type\"/><meta content=\"Flipkart.com\" name=\"og_site_name\" property=\"og:site_name\"/><link href=\"/apple-touch-icon-57x57.png\" rel=\"apple-touch-icon\" sizes=\"57x57\"/><link href=\"/apple-touch-icon-72x72.png\" rel=\"apple-touch-icon\" sizes=\"72x72\"/><link href=\"/apple-touch-icon-114x114.png\" rel=\"apple-touch-icon\" sizes=\"114x114\"/><link href=\"/apple-touch-icon-144x144.png\" rel=\"apple-touch-icon\" sizes=\"144x144\"/><link href=\"/apple-touch-icon-57x57.png\" rel=\"apple-touch-icon\"/><meta content=\"app\" name=\"twitter:card\"/><meta content=\"@flipkart\" name=\"twitter:site\"/><meta content=\"@flipkart\" name=\"twitter:creator\"/><meta content=\"Mobiles- Buy Products Online at Best Price in India - All Categories | Flipkart.com\" name=\"twitter:title\"/><meta content=\"Shop for electronics, apparels &amp; more using our Flipkart app Free shipping &amp; COD.\" name=\"twitter:description\"/><meta content=\"in\" name=\"twitter:app:country\"/><meta content=\"Flipkart\" name=\"al:ios:app_name\"/><meta content=\"742044692\" name=\"al:ios:app_store_id\"/><meta content=\"Flipkart\" name=\"twitter:app:name:iphone\"/><meta content=\"742044692\" name=\"twitter:app:id:iphone\"/><meta content=\"http://dl.flipkart.com/dl/home?\" name=\"twitter:app:url:iphone\"/><meta content=\"Flipkart\" name=\"twitter:app:name:ipad\"/><meta content=\"742044692\" name=\"twitter:app:id:ipad\"/><meta content=\"http://dl.flipkart.com/dl/home?\" name=\"twitter:app:url:ipad\"/><meta content=\"Flipkart\" name=\"twitter:app:name:googleplay\"/><meta content=\"com.flipkart.android\" name=\"twitter:app:id:googleplay\"/><meta content=\"http://dl.flipkart.com/dl/home?\" name=\"twitter:app:url:googleplay\"/><style>#container {\n",
      "\t\t\theight: 100%;\n",
      "\t\t}</style> <link cust-ref-preload-css=\"preload-css-custom-option\" href=\"//static-assets-web.flixcart.com/fk-p-linchpin-web/fk-cp-zion/css/Browse.chunk.83db80.css\" rel=\"stylesheet\"/> <title>Mobiles- Buy Products Online at Best Price in India - All Categories | Flipkart.com</title><meta content=\"Mobiles- Buy Products Online at Best Price in India - All Categories | Flipkart.com\" name=\"og_title\" property=\"og:title\"/><meta content=\"Mobiles\" name=\"Keywords\"/> <meta content=\"Mobiles- Buy Products Online at Best Price in India. India's Leading E-commerce Company - Free Home Delivery - All Categories | Flipkart.com\" name=\"Description\"/><meta content=\"Mobiles- Buy Products Online at Best Price in India. India's Leading E-commerce Company - Free Home Delivery - All Categories | Flipkart.com\" property=\"og:description\"/> <meta content=\"F4EEB3A0AFFDD385992A06E6920C0AC3\" name=\"msvalidate.01\"/> <!--[if IE 9 ]>\n",
      "\t<script nonce=\"1490781247681810480\">\n",
      "\t\twindow.browserVersion = 'IE9';\n",
      "\t\tdocument.documentElement.className += ' ie9';\n",
      "\t</script>\n",
      "\t<![endif]--><!--[if !IE]><!--><script nonce=\"1490781247681810480\">if (/*@cc_on!@*/false) {\n",
      "\t\t\twindow.browserVersion = 'IE10';\n",
      "\t\t\tdocument.documentElement.className += ' ie10';\n",
      "\t\t}</script><!--<![endif]--> <link href=\"https://www.flipkart.com/search?q=mobiles&amp;as=on&amp;as-show=on&amp;otracker=AS_Query_HistoryAutoSuggest_1_6_na_na_na&amp;otracker1=AS_Query_HistoryAutoSuggest_1_6_na_na_na&amp;as-pos=1&amp;as-type=HISTORY&amp;suggestionId=mobiles&amp;requestId=a4b17236-22a6-4fa3-800b-37acc52f0ff0&amp;as-searchtext=mobile&amp;page=2\" id=\"next-page-link-tag\" rel=\"next\"/><script nonce=\"1490781247681810480\">!function(){if(\"PerformancePaintTiming\" in window){var e=window.__perf={e:[]};e.o=new PerformanceObserver(function(n){e.e=e.e.concat(n.getEntries())});try{e.o.observe({entryTypes:[\"paint\"]})}catch(e){}}}();\n",
      "\n",
      "\t\tif (requestAnimationFrame && performance && performance.mark) {\n",
      "\t\t\trequestAnimationFrame(function () {\n",
      "\t\t\t\twindow.first_paint = performance.now();\n",
      "\t\t\t\tperformance.mark(\"first_paint\");\n",
      "\t\t\t});\n",
      "\t\t}\n",
      "\n",
      "        // web-vitals polyfill for FID\n",
      "        !function(n,e){var t,o,i,c=[],f={passive:!0,capture:!0},r=new Date,a=\"pointerup\",u=\"pointercancel\";function p(n,c){t||(t=c,o=n,i=new Date,w(e),s())}function s(){o>=0&&o<i-r&&(c.forEach(function(n){n(o,t)}),c=[])}function l(t){if(t.cancelable){var o=(t.timeStamp>1e12?new Date:performance.now())-t.timeStamp;\"pointerdown\"==t.type?function(t,o){function i(){p(t,o),r()}function c(){r()}function r(){e(a,i,f),e(u,c,f)}n(a,i,f),n(u,c,f)}(o,t):p(o,t)}}function w(n){[\"click\",\"mousedown\",\"keydown\",\"touchstart\",\"pointerdown\"].forEach(function(e){n(e,l,f)})}w(n),self.perfMetrics=self.perfMetrics||{},self.perfMetrics.onFirstInputDelay=function(n){c.push(n),s()}}(addEventListener,removeEventListener);</script><script async=\"\" src=\"https://www.googletagmanager.com/gtag/js?id=AW-594691041\"></script><script nonce=\"1490781247681810480\">window.dataLayer = window.dataLayer || [];\n",
      "\t\tfunction gtag(){dataLayer.push(arguments)};\n",
      "\t\tgtag('js', new Date());\n",
      "\n",
      "\t\tconst pageUri = window.location.pathname;\n",
      "    \t\tif (pageUri && pageUri.includes('/travel')) {\n",
      "\t\t\tgtag('config', 'AW-16596706887');\n",
      "\t\t}</script></head><body><div id=\"container\"><div><div class=\"krHvwW\"><div class=\"J+HqMZ\"><div class=\"LOe-Xr\"></div><div class=\"Ja1j8k\"><div class=\"ngOQ7L\"><div class=\"F9+fd2\"><a href=\"/\"><img alt=\"Flipkart\" class=\"W5mR4e\" src=\"//static-assets-web.flixcart.com/fk-p-linchpin-web/fk-cp-zion/img/flipkart-plus_8d85f4.png\" title=\"Flipkart\" width=\"75\"/></a><a class=\"MwbhDR\" href=\"/plus\">Explore<!-- --> <span class=\"s4NJ5L\">Plus</span><img src=\"//static-assets-web.flixcart.com/fk-p-linchpin-web/fk-cp-zion/img/plus_aef861.png\" width=\"10\"/></a></div></div><div class=\"kRd8Cs\"><form action=\"/search\" class=\"Hy6F9O header-form-search\" method=\"GET\"><div class=\"col-12-12 BnmXvV\"><div class=\"MoPwtI\"><input autocomplete=\"off\" class=\"zDPmFV\" name=\"q\" placeholder=\"Search for products, brands and more\" title=\"Search for products, brands and more\" type=\"text\" value=\"mobiles\"/></div><button class=\"MJG8Up\" type=\"submit\"><svg class=\"\" height=\"20\" viewbox=\"0 0 17 18\" width=\"20\" xmlns=\"http://www.w3.org/2000/svg\"><g fill=\"#2874F1\" fill-rule=\"evenodd\"><path class=\"EwE-Fa\" d=\"m11.618 9.897l4.225 4.212c.092.092.101.232.02.313l-1.465 1.46c-.081.081-.221.072-.314-.02l-4.216-4.203\"></path><path class=\"EwE-Fa\" d=\"m6.486 10.901c-2.42 0-4.381-1.956-4.381-4.368 0-2.413 1.961-4.369 4.381-4.369 2.42 0 4.381 1.956 4.381 4.369 0 2.413-1.961 4.368-4.381 4.368m0-10.835c-3.582 0-6.486 2.895-6.486 6.467 0 3.572 2.904 6.467 6.486 6.467 3.582 0 6.486-2.895 6.486-6.467 0-3.572-2.904-6.467-6.486-6.467\"></path></g></svg></button><input name=\"otracker\" type=\"hidden\" value=\"search\"/><input name=\"otracker1\" type=\"hidden\" value=\"search\"/><input name=\"marketplace\" type=\"hidden\" value=\"FLIPKART\"/><input name=\"as-show\" type=\"hidden\" value=\"off\"/><input name=\"as\" type=\"hidden\" value=\"off\"/></div><ul class=\"col-12-12 bbjHWC\"></ul></form></div><div class=\"RbF1Du UB4mMK\"><div class=\"UL9nZx\"><div class=\"tP+nZg _2E9UgX\"><div><a class=\"wsejfv\" href=\"/account/login?ret=/search%3Fq%3Dmobiles%26as%3Don%26as-show%3Don%26otracker%3DAS_Query_HistoryAutoSuggest_1_6_na_na_na%26otracker1%3DAS_Query_HistoryAutoSuggest_1_6_na_na_na%26as-pos%3D1%26as-type%3DHISTORY%26suggestionId%3Dmobiles%26requestId%3Da4b17236-22a6-4fa3-800b-37acc52f0ff0%26as-searchtext%3Dmobile%26page%3D1\">Login</a></div></div></div></div><div class=\"RbF1Du\"><a class=\"CDJO0-\" href=\"https://seller.flipkart.com/sell-online/?utm_source=fkwebsite&amp;utm_medium=websitedirect\"><span>Become a Seller</span></a></div><div class=\"RbF1Du\"><div class=\"UL9nZx\"><div class=\"tP+nZg _2E9UgX\"><div><div class=\"_3ZeUN+\"> <!-- -->More<!-- --> </div></div></div><svg class=\"Wto0b0\" height=\"8\" viewbox=\"0 0 16 27\" width=\"4.7\" xmlns=\"http://www.w3.org/2000/svg\"><path class=\"-dC5Le\" d=\"M16 23.207L6.11 13.161 16 3.093 12.955 0 0 13.161l12.955 13.161z\" fill=\"#fff\"></path></svg></div></div><div class=\"RbF1Du\"><div class=\"tP+nZg\"><div class=\"cjMG1q\"><a class=\"_9Wy27C\" href=\"/viewcart?exploreMode=true&amp;preference=FLIPKART\"><svg class=\"GAbRIN\" height=\"14\" viewbox=\"0 0 16 16\" width=\"14\" xmlns=\"http://www.w3.org/2000/svg\"><path class=\"cziJ98\" d=\"M15.32 2.405H4.887C3 2.405 2.46.805 2.46.805L2.257.21C2.208.085 2.083 0 1.946 0H.336C.1 0-.064.24.024.46l.644 1.945L3.11 9.767c.047.137.175.23.32.23h8.418l-.493 1.958H3.768l.002.003c-.017 0-.033-.003-.05-.003-1.06 0-1.92.86-1.92 1.92s.86 1.92 1.92 1.92c.99 0 1.805-.75 1.91-1.712l5.55.076c.12.922.91 1.636 1.867 1.636 1.04 0 1.885-.844 1.885-1.885 0-.866-.584-1.593-1.38-1.814l2.423-8.832c.12-.433-.206-.86-.655-.86\" fill=\"#fff\"></path></svg><span>Cart</span></a></div></div></div></div><div class=\"LOe-Xr\"></div></div><div class=\"DlQjC4\"></div></div><div class=\"_5M58Mb\"></div><div class=\"nt6sNV JxFEK3 _48O0EI\"><div class=\"DOjaWF YJG4Cf\"><div class=\"DOjaWF gdgoEp col-2-12\" style=\"flex:0 0 280px;max-width:280px;padding:0px 10px 0px 0px\"><div class=\"DOjaWF gdgoEp col-12-12\"><div class=\"cPHDOP col-12-12\"><div class=\"_0BvurA\"><section class=\"pgRLLn _2OLUF3\"><div class=\"_3Owiq+\"><div class=\"rgHxCQ\"><span>Filters</span></div></div></section><div class=\"GSeM5C\"><section class=\"Iu4qXa\"><div class=\"WCyB2K\"><span>CATEGORIES</span></div><div><div class=\"esFpML\"><span><svg class=\"IZmjtf\" height=\"10\" viewbox=\"0 0 16 27\" width=\"10\" xmlns=\"http://www.w3.org/2000/svg\"><path class=\"P3pAQJ\" d=\"M16 23.207L6.11 13.161 16 3.093 12.955 0 0 13.161l12.955 13.161z\" fill=\"#fff\"></path></svg></span><a class=\"k17cBJ WyLc0s\" href=\"/mobiles-accessories/pr?sid=tyy&amp;q=mobiles&amp;otracker=categorytree\" title=\"Mobiles &amp; Accessories\">Mobiles &amp; Accessories</a></div></div><div><div class=\"esFpML\"><span><svg class=\"IZmjtf\" height=\"10\" viewbox=\"0 0 16 27\" width=\"10\" xmlns=\"http://www.w3.org/2000/svg\"><path class=\"\" d=\"M16 23.207L6.11 13.161 16 3.093 12.955 0 0 13.161l12.955 13.161z\" fill=\"#fff\"></path></svg></span><a class=\"hEjLuS WyLc0s\" href=\"/mobiles/pr?sid=tyy,4io&amp;q=mobiles&amp;otracker=categorytree\" title=\"Mobiles\">Mobiles</a></div></div></section></div><section class=\"FR+9+z _2OLUF3\"><div class=\"WNK7UT _3Owiq+\"><div class=\"RCE7R3 rgHxCQ\"><span>Price</span></div></div><div class=\"rkYFq7\"><div class=\"gFZVDw\"><div class=\"vVygGr\" style=\"height:0;width:0\"></div><div class=\"vVygGr\" style=\"height:0;width:0\"></div><div class=\"vVygGr\" style=\"height:0;width:0\"></div><div class=\"vVygGr\" style=\"height:0;width:0\"></div><div class=\"vVygGr\" style=\"height:0;width:0\"></div></div></div><div class=\"-suZGK\"><div class=\"Oyj7AF\"><div class=\"iToJ4v Kaqq1s\"><div class=\"PYKUdo\"></div></div><div class=\"iToJ4v D0puJn\"><div class=\"PYKUdo\"></div></div><div class=\"hZmZbn\"></div><div class=\"hZmZbn AQNm5W\"></div></div><div class=\"C+PahU\"><div class=\"JxsWRk\" style=\"width:undefinedpx\">.</div><div class=\"JxsWRk\" style=\"width:undefinedpx\">.</div><div class=\"JxsWRk\" style=\"width:undefinedpx\">.</div><div class=\"JxsWRk\" style=\"width:undefinedpx\">.</div><div class=\"JxsWRk\" style=\"width:undefinedpx\">.</div><div class=\"JxsWRk\" style=\"width:0px\">.</div></div></div><div class=\"BXgIa-\"><div class=\"suthUA\"><select class=\"Gn+jFg\"><option class=\"_0vP2OD\" selected=\"\" value=\"Min\">Min</option><option class=\"_0vP2OD\" value=\"10000\">₹10000</option><option class=\"_0vP2OD\" value=\"15000\">₹15000</option><option class=\"_0vP2OD\" value=\"20000\">₹20000</option><option class=\"_0vP2OD\" value=\"30000\">₹30000</option></select></div><div class=\"mhoEL5\">to</div><div class=\"tKgS7w\"><select class=\"Gn+jFg\"><option class=\"_0vP2OD\" value=\"10000\">₹10000</option><option class=\"_0vP2OD\" value=\"15000\">₹15000</option><option class=\"_0vP2OD\" value=\"20000\">₹20000</option><option class=\"_0vP2OD\" value=\"30000\">₹30000</option><option class=\"_0vP2OD\" selected=\"\" value=\"Max\">₹30000+</option></select></div></div></section><section class=\"-5qqlC _2OLUF3\"><div class=\"FtQCb2 _3Owiq+\"><div class=\"fxf7w6 rgHxCQ\">Brand</div><svg class=\"ukzDZP rZzKt4\" height=\"27\" viewbox=\"0 0 16 27\" width=\"16\" xmlns=\"http://www.w3.org/2000/svg\"><path class=\"SV+H35\" d=\"M16 23.207L6.11 13.161 16 3.093 12.955 0 0 13.161l12.955 13.161z\" fill=\"#fff\"></path></svg></div><div class=\"SDsN9S\"><div class=\"bs1+1t\"><div class=\"Cj5b5T\"><svg class=\"zmbstL\" height=\"20\" viewbox=\"0 0 17 18\" width=\"20\" xmlns=\"http://www.w3.org/2000/svg\"><g fill=\"#2874F1\" fill-rule=\"evenodd\"><path class=\"JVQyl9\" d=\"m11.618 9.897l4.225 4.212c.092.092.101.232.02.313l-1.465 1.46c-.081.081-.221.072-.314-.02l-4.216-4.203\"></path><path class=\"JVQyl9\" d=\"m6.486 10.901c-2.42 0-4.381-1.956-4.381-4.368 0-2.413 1.961-4.369 4.381-4.369 2.42 0 4.381 1.956 4.381 4.369 0 2.413-1.961 4.368-4.381 4.368m0-10.835c-3.582 0-6.486 2.895-6.486 6.467 0 3.572 2.904 6.467 6.486 6.467 3.582 0 6.486-2.895 6.486-6.467 0-3.572-2.904-6.467-6.486-6.467\"></path></g></svg><input class=\"XPD6hh\" placeholder=\"Search Brand\" type=\"text\" value=\"\"/></div><div class=\"ewzVkT _3DvUAf\" title=\"Apple\"><div class=\"QCKZip hpLdC3\"><label class=\"tJjCVx _3DvUAf\"><input class=\"vn9L2C\" readonly=\"\" type=\"checkbox\"/><div class=\"XqNaEv\"></div><div class=\"_6i1qKy\">Apple</div></label></div></div><div class=\"ewzVkT _3DvUAf\" title=\"Google\"><div class=\"QCKZip hpLdC3\"><label class=\"tJjCVx _3DvUAf\"><input class=\"vn9L2C\" readonly=\"\" type=\"checkbox\"/><div class=\"XqNaEv\"></div><div class=\"_6i1qKy\">Google</div></label></div></div><div class=\"ewzVkT _3DvUAf\" title=\"MOTOROLA\"><div class=\"QCKZip hpLdC3\"><label class=\"tJjCVx _3DvUAf\"><input class=\"vn9L2C\" readonly=\"\" type=\"checkbox\"/><div class=\"XqNaEv\"></div><div class=\"_6i1qKy\">MOTOROLA</div></label></div></div><div class=\"ewzVkT _3DvUAf\" title=\"vivo\"><div class=\"QCKZip hpLdC3\"><label class=\"tJjCVx _3DvUAf\"><input class=\"vn9L2C\" readonly=\"\" type=\"checkbox\"/><div class=\"XqNaEv\"></div><div class=\"_6i1qKy\">vivo</div></label></div></div><div class=\"ewzVkT _3DvUAf\" title=\"OPPO\"><div class=\"QCKZip hpLdC3\"><label class=\"tJjCVx _3DvUAf\"><input class=\"vn9L2C\" readonly=\"\" type=\"checkbox\"/><div class=\"XqNaEv\"></div><div class=\"_6i1qKy\">OPPO</div></label></div></div><div class=\"ewzVkT _3DvUAf\" title=\"Infinix\"><div class=\"QCKZip hpLdC3\"><label class=\"tJjCVx _3DvUAf\"><input class=\"vn9L2C\" readonly=\"\" type=\"checkbox\"/><div class=\"XqNaEv\"></div><div class=\"_6i1qKy\">Infinix</div></label></div></div></div><div class=\"e+xvXX KvHRYS\"><span>167 MORE</span></div></div></section><section class=\"_2OLUF3 _6gqfMo\"><label class=\"tJjCVx cnLG4I\"><input class=\"vn9L2C\" readonly=\"\" type=\"checkbox\"/><div class=\"XqNaEv eJE9fb\"></div><div class=\"_6i1qKy\"><div class=\"SwtzWS\"><img class=\"SwtzWS\" height=\"21\" src=\"//static-assets-web.flixcart.com/fk-p-linchpin-web/fk-cp-zion/img/fa_9e47c1.png\"/></div></div></label><div class=\"EjOX7q\"><span class=\"question\">?</span></div></section><section class=\"-5qqlC _2OLUF3\"><div class=\"FtQCb2 _3Owiq+\"><div class=\"fxf7w6 rgHxCQ\">Customer Ratings</div><svg class=\"ukzDZP rZzKt4\" height=\"27\" viewbox=\"0 0 16 27\" width=\"16\" xmlns=\"http://www.w3.org/2000/svg\"><path class=\"SV+H35\" d=\"M16 23.207L6.11 13.161 16 3.093 12.955 0 0 13.161l12.955 13.161z\" fill=\"#fff\"></path></svg></div><div class=\"SDsN9S\"><div class=\"bs1+1t\"><div class=\"ewzVkT _3DvUAf\" title=\"4★ &amp; above\"><div class=\"QCKZip hpLdC3\"><label class=\"tJjCVx _3DvUAf\"><input class=\"vn9L2C\" readonly=\"\" type=\"checkbox\"/><div class=\"XqNaEv\"></div><div class=\"_6i1qKy\">4★ &amp; above</div></label></div></div><div class=\"ewzVkT _3DvUAf\" title=\"3★ &amp; above\"><div class=\"QCKZip hpLdC3\"><label class=\"tJjCVx _3DvUAf\"><input class=\"vn9L2C\" readonly=\"\" type=\"checkbox\"/><div class=\"XqNaEv\"></div><div class=\"_6i1qKy\">3★ &amp; above</div></label></div></div></div></div></section><section class=\"-5qqlC _2OLUF3\"><div class=\"FtQCb2 _3Owiq+\"><div class=\"fxf7w6 rgHxCQ\">GST Invoice Available</div><svg class=\"ukzDZP\" height=\"27\" viewbox=\"0 0 16 27\" width=\"16\" xmlns=\"http://www.w3.org/2000/svg\"><path class=\"SV+H35\" d=\"M16 23.207L6.11 13.161 16 3.093 12.955 0 0 13.161l12.955 13.161z\" fill=\"#fff\"></path></svg></div></section><section class=\"-5qqlC _2OLUF3\"><div class=\"FtQCb2 _3Owiq+\"><div class=\"fxf7w6 rgHxCQ\">RAM</div><svg class=\"ukzDZP rZzKt4\" height=\"27\" viewbox=\"0 0 16 27\" width=\"16\" xmlns=\"http://www.w3.org/2000/svg\"><path class=\"SV+H35\" d=\"M16 23.207L6.11 13.161 16 3.093 12.955 0 0 13.161l12.955 13.161z\" fill=\"#fff\"></path></svg></div><div class=\"SDsN9S\"><div class=\"bs1+1t\"><div class=\"ewzVkT _3DvUAf\" title=\"4 GB\"><div class=\"QCKZip hpLdC3\"><label class=\"tJjCVx _3DvUAf\"><input class=\"vn9L2C\" readonly=\"\" type=\"checkbox\"/><div class=\"XqNaEv\"></div><div class=\"_6i1qKy\">4 GB</div></label></div></div><div class=\"ewzVkT _3DvUAf\" title=\"3 GB\"><div class=\"QCKZip hpLdC3\"><label class=\"tJjCVx _3DvUAf\"><input class=\"vn9L2C\" readonly=\"\" type=\"checkbox\"/><div class=\"XqNaEv\"></div><div class=\"_6i1qKy\">3 GB</div></label></div></div><div class=\"ewzVkT _3DvUAf\" title=\"2 GB\"><div class=\"QCKZip hpLdC3\"><label class=\"tJjCVx _3DvUAf\"><input class=\"vn9L2C\" readonly=\"\" type=\"checkbox\"/><div class=\"XqNaEv\"></div><div class=\"_6i1qKy\">2 GB</div></label></div></div><div class=\"ewzVkT _3DvUAf\" title=\"1GB and Below\"><div class=\"QCKZip hpLdC3\"><label class=\"tJjCVx _3DvUAf\"><input class=\"vn9L2C\" readonly=\"\" type=\"checkbox\"/><div class=\"XqNaEv\"></div><div class=\"_6i1qKy\">1GB and Below</div></label></div></div><div class=\"ewzVkT _3DvUAf\" title=\"8 GB and Above\"><div class=\"QCKZip hpLdC3\"><label class=\"tJjCVx _3DvUAf\"><input class=\"vn9L2C\" readonly=\"\" type=\"checkbox\"/><div class=\"XqNaEv\"></div><div class=\"_6i1qKy\">8 GB and Above</div></label></div></div><div class=\"ewzVkT _3DvUAf\" title=\"6 GB\"><div class=\"QCKZip hpLdC3\"><label class=\"tJjCVx _3DvUAf\"><input class=\"vn9L2C\" readonly=\"\" type=\"checkbox\"/><div class=\"XqNaEv\"></div><div class=\"_6i1qKy\">6 GB</div></label></div></div><div class=\"ewzVkT _3DvUAf\" title=\"6 GB  Above\"><div class=\"QCKZip hpLdC3\"><label class=\"tJjCVx _3DvUAf\"><input class=\"vn9L2C\" readonly=\"\" type=\"checkbox\"/><div class=\"XqNaEv\"></div><div class=\"_6i1qKy\">6 GB  Above</div></label></div></div></div></div></section><section class=\"-5qqlC _2OLUF3\"><div class=\"FtQCb2 _3Owiq+\"><div class=\"fxf7w6 rgHxCQ\">Internal Storage</div><svg class=\"ukzDZP\" height=\"27\" viewbox=\"0 0 16 27\" width=\"16\" xmlns=\"http://www.w3.org/2000/svg\"><path class=\"SV+H35\" d=\"M16 23.207L6.11 13.161 16 3.093 12.955 0 0 13.161l12.955 13.161z\" fill=\"#fff\"></path></svg></div></section><section class=\"-5qqlC _2OLUF3\"><div class=\"FtQCb2 _3Owiq+\"><div class=\"fxf7w6 rgHxCQ\">Battery Capacity</div><svg class=\"ukzDZP\" height=\"27\" viewbox=\"0 0 16 27\" width=\"16\" xmlns=\"http://www.w3.org/2000/svg\"><path class=\"SV+H35\" d=\"M16 23.207L6.11 13.161 16 3.093 12.955 0 0 13.161l12.955 13.161z\" fill=\"#fff\"></path></svg></div></section><section class=\"-5qqlC _2OLUF3\"><div class=\"FtQCb2 _3Owiq+\"><div class=\"fxf7w6 rgHxCQ\">Screen Size</div><svg class=\"ukzDZP\" height=\"27\" viewbox=\"0 0 16 27\" width=\"16\" xmlns=\"http://www.w3.org/2000/svg\"><path class=\"SV+H35\" d=\"M16 23.207L6.11 13.161 16 3.093 12.955 0 0 13.161l12.955 13.161z\" fill=\"#fff\"></path></svg></div></section><section class=\"-5qqlC _2OLUF3\"><div class=\"FtQCb2 _3Owiq+\"><div class=\"fxf7w6 rgHxCQ\">Primary Camera</div><svg class=\"ukzDZP\" height=\"27\" viewbox=\"0 0 16 27\" width=\"16\" xmlns=\"http://www.w3.org/2000/svg\"><path class=\"SV+H35\" d=\"M16 23.207L6.11 13.161 16 3.093 12.955 0 0 13.161l12.955 13.161z\" fill=\"#fff\"></path></svg></div></section><section class=\"-5qqlC _2OLUF3\"><div class=\"FtQCb2 _3Owiq+\"><div class=\"fxf7w6 rgHxCQ\">Secondary Camera</div><svg class=\"ukzDZP\" height=\"27\" viewbox=\"0 0 16 27\" width=\"16\" xmlns=\"http://www.w3.org/2000/svg\"><path class=\"SV+H35\" d=\"M16 23.207L6.11 13.161 16 3.093 12.955 0 0 13.161l12.955 13.161z\" fill=\"#fff\"></path></svg></div></section><section class=\"-5qqlC _2OLUF3\"><div class=\"FtQCb2 _3Owiq+\"><div class=\"fxf7w6 rgHxCQ\">Processor Brand</div><svg class=\"ukzDZP\" height=\"27\" viewbox=\"0 0 16 27\" width=\"16\" xmlns=\"http://www.w3.org/2000/svg\"><path class=\"SV+H35\" d=\"M16 23.207L6.11 13.161 16 3.093 12.955 0 0 13.161l12.955 13.161z\" fill=\"#fff\"></path></svg></div></section><section class=\"-5qqlC _2OLUF3\"><div class=\"FtQCb2 _3Owiq+\"><div class=\"fxf7w6 rgHxCQ\">Speciality</div><svg class=\"ukzDZP\" height=\"27\" viewbox=\"0 0 16 27\" width=\"16\" xmlns=\"http://www.w3.org/2000/svg\"><path class=\"SV+H35\" d=\"M16 23.207L6.11 13.161 16 3.093 12.955 0 0 13.161l12.955 13.161z\" fill=\"#fff\"></path></svg></div></section><section class=\"-5qqlC _2OLUF3\"><div class=\"FtQCb2 _3Owiq+\"><div class=\"fxf7w6 rgHxCQ\">Resolution Type</div><svg class=\"ukzDZP\" height=\"27\" viewbox=\"0 0 16 27\" width=\"16\" xmlns=\"http://www.w3.org/2000/svg\"><path class=\"SV+H35\" d=\"M16 23.207L6.11 13.161 16 3.093 12.955 0 0 13.161l12.955 13.161z\" fill=\"#fff\"></path></svg></div></section><section class=\"-5qqlC _2OLUF3\"><div class=\"FtQCb2 _3Owiq+\"><div class=\"fxf7w6 rgHxCQ\">Operating System</div><svg class=\"ukzDZP\" height=\"27\" viewbox=\"0 0 16 27\" width=\"16\" xmlns=\"http://www.w3.org/2000/svg\"><path class=\"SV+H35\" d=\"M16 23.207L6.11 13.161 16 3.093 12.955 0 0 13.161l12.955 13.161z\" fill=\"#fff\"></path></svg></div></section><section class=\"-5qqlC _2OLUF3\"><div class=\"FtQCb2 _3Owiq+\"><div class=\"fxf7w6 rgHxCQ\">Network Type</div><svg class=\"ukzDZP\" height=\"27\" viewbox=\"0 0 16 27\" width=\"16\" xmlns=\"http://www.w3.org/2000/svg\"><path class=\"SV+H35\" d=\"M16 23.207L6.11 13.161 16 3.093 12.955 0 0 13.161l12.955 13.161z\" fill=\"#fff\"></path></svg></div></section><section class=\"-5qqlC _2OLUF3\"><div class=\"FtQCb2 _3Owiq+\"><div class=\"fxf7w6 rgHxCQ\">Sim Type</div><svg class=\"ukzDZP\" height=\"27\" viewbox=\"0 0 16 27\" width=\"16\" xmlns=\"http://www.w3.org/2000/svg\"><path class=\"SV+H35\" d=\"M16 23.207L6.11 13.161 16 3.093 12.955 0 0 13.161l12.955 13.161z\" fill=\"#fff\"></path></svg></div></section><section class=\"-5qqlC _2OLUF3\"><div class=\"FtQCb2 _3Owiq+\"><div class=\"fxf7w6 rgHxCQ\">Offers</div><svg class=\"ukzDZP rZzKt4\" height=\"27\" viewbox=\"0 0 16 27\" width=\"16\" xmlns=\"http://www.w3.org/2000/svg\"><path class=\"SV+H35\" d=\"M16 23.207L6.11 13.161 16 3.093 12.955 0 0 13.161l12.955 13.161z\" fill=\"#fff\"></path></svg></div><div class=\"SDsN9S\"><div class=\"bs1+1t\"><div class=\"ewzVkT _3DvUAf\" title=\"Buy More, Save More\"><div class=\"QCKZip hpLdC3\"><label class=\"tJjCVx _3DvUAf\"><input class=\"vn9L2C\" readonly=\"\" type=\"checkbox\"/><div class=\"XqNaEv\"></div><div class=\"_6i1qKy\">Buy More, Save More</div></label></div></div><div class=\"ewzVkT _3DvUAf\" title=\"No Cost EMI\"><div class=\"QCKZip hpLdC3\"><label class=\"tJjCVx _3DvUAf\"><input class=\"vn9L2C\" readonly=\"\" type=\"checkbox\"/><div class=\"XqNaEv\"></div><div class=\"_6i1qKy\">No Cost EMI</div></label></div></div><div class=\"ewzVkT _3DvUAf\" title=\"Special Price\"><div class=\"QCKZip hpLdC3\"><label class=\"tJjCVx _3DvUAf\"><input class=\"vn9L2C\" readonly=\"\" type=\"checkbox\"/><div class=\"XqNaEv\"></div><div class=\"_6i1qKy\">Special Price</div></label></div></div></div></div></section><section class=\"-5qqlC _2OLUF3\"><div class=\"FtQCb2 _3Owiq+\"><div class=\"fxf7w6 rgHxCQ\">Features</div><svg class=\"ukzDZP\" height=\"27\" viewbox=\"0 0 16 27\" width=\"16\" xmlns=\"http://www.w3.org/2000/svg\"><path class=\"SV+H35\" d=\"M16 23.207L6.11 13.161 16 3.093 12.955 0 0 13.161l12.955 13.161z\" fill=\"#fff\"></path></svg></div></section><section class=\"-5qqlC _2OLUF3\"><div class=\"FtQCb2 _3Owiq+\"><div class=\"fxf7w6 rgHxCQ\">Type</div><svg class=\"ukzDZP\" height=\"27\" viewbox=\"0 0 16 27\" width=\"16\" xmlns=\"http://www.w3.org/2000/svg\"><path class=\"SV+H35\" d=\"M16 23.207L6.11 13.161 16 3.093 12.955 0 0 13.161l12.955 13.161z\" fill=\"#fff\"></path></svg></div></section><section class=\"-5qqlC _2OLUF3\"><div class=\"FtQCb2 _3Owiq+\"><div class=\"fxf7w6 rgHxCQ\">Number of Cores</div><svg class=\"ukzDZP\" height=\"27\" viewbox=\"0 0 16 27\" width=\"16\" xmlns=\"http://www.w3.org/2000/svg\"><path class=\"SV+H35\" d=\"M16 23.207L6.11 13.161 16 3.093 12.955 0 0 13.161l12.955 13.161z\" fill=\"#fff\"></path></svg></div></section><section class=\"-5qqlC _2OLUF3\"><div class=\"FtQCb2 _3Owiq+\"><div class=\"fxf7w6 rgHxCQ\">Availability</div><svg class=\"ukzDZP\" height=\"27\" viewbox=\"0 0 16 27\" width=\"16\" xmlns=\"http://www.w3.org/2000/svg\"><path class=\"SV+H35\" d=\"M16 23.207L6.11 13.161 16 3.093 12.955 0 0 13.161l12.955 13.161z\" fill=\"#fff\"></path></svg></div></section><section class=\"-5qqlC _2OLUF3\"><div class=\"FtQCb2 _3Owiq+\"><div class=\"fxf7w6 rgHxCQ\">Discount</div><svg class=\"ukzDZP rZzKt4\" height=\"27\" viewbox=\"0 0 16 27\" width=\"16\" xmlns=\"http://www.w3.org/2000/svg\"><path class=\"SV+H35\" d=\"M16 23.207L6.11 13.161 16 3.093 12.955 0 0 13.161l12.955 13.161z\" fill=\"#fff\"></path></svg></div><div class=\"SDsN9S\"><div class=\"bs1+1t\"><div class=\"ewzVkT _3DvUAf\" title=\"50% or more\"><div class=\"QCKZip hpLdC3\"><label class=\"tJjCVx _3DvUAf\"><input class=\"vn9L2C\" readonly=\"\" type=\"checkbox\"/><div class=\"XqNaEv\"></div><div class=\"_6i1qKy\">50% or more</div></label></div></div><div class=\"ewzVkT _3DvUAf\" title=\"40% or more\"><div class=\"QCKZip hpLdC3\"><label class=\"tJjCVx _3DvUAf\"><input class=\"vn9L2C\" readonly=\"\" type=\"checkbox\"/><div class=\"XqNaEv\"></div><div class=\"_6i1qKy\">40% or more</div></label></div></div><div class=\"ewzVkT _3DvUAf\" title=\"30% or more\"><div class=\"QCKZip hpLdC3\"><label class=\"tJjCVx _3DvUAf\"><input class=\"vn9L2C\" readonly=\"\" type=\"checkbox\"/><div class=\"XqNaEv\"></div><div class=\"_6i1qKy\">30% or more</div></label></div></div><div class=\"ewzVkT _3DvUAf\" title=\"20% or more\"><div class=\"QCKZip hpLdC3\"><label class=\"tJjCVx _3DvUAf\"><input class=\"vn9L2C\" readonly=\"\" type=\"checkbox\"/><div class=\"XqNaEv\"></div><div class=\"_6i1qKy\">20% or more</div></label></div></div><div class=\"ewzVkT _3DvUAf\" title=\"10% or more\"><div class=\"QCKZip hpLdC3\"><label class=\"tJjCVx _3DvUAf\"><input class=\"vn9L2C\" readonly=\"\" type=\"checkbox\"/><div class=\"XqNaEv\"></div><div class=\"_6i1qKy\">10% or more</div></label></div></div></div></div></section><section class=\"-5qqlC _2OLUF3\"><div class=\"FtQCb2 _3Owiq+\"><div class=\"fxf7w6 rgHxCQ\">Operating System Version Name</div><svg class=\"ukzDZP\" height=\"27\" viewbox=\"0 0 16 27\" width=\"16\" xmlns=\"http://www.w3.org/2000/svg\"><path class=\"SV+H35\" d=\"M16 23.207L6.11 13.161 16 3.093 12.955 0 0 13.161l12.955 13.161z\" fill=\"#fff\"></path></svg></div></section><section class=\"-5qqlC _2OLUF3\"><div class=\"FtQCb2 _3Owiq+\"><div class=\"fxf7w6 rgHxCQ\">Clock Speed</div><svg class=\"ukzDZP\" height=\"27\" viewbox=\"0 0 16 27\" width=\"16\" xmlns=\"http://www.w3.org/2000/svg\"><path class=\"SV+H35\" d=\"M16 23.207L6.11 13.161 16 3.093 12.955 0 0 13.161l12.955 13.161z\" fill=\"#fff\"></path></svg></div></section></div></div><div class=\"cPHDOP col-12-12\"><a class=\"_4JdVq1\" href=\"/buying-guide/mobiles?sid=tyy,4io&amp;otracker=bg_from_browse_lhs\" title=\"Buying Guide\"><div><span>Need help?</span></div><div class=\"e1wDS3\"><span>Help me decide</span><svg class=\"VQiHOk\" height=\"27\" viewbox=\"0 0 16 27\" width=\"16\" xmlns=\"http://www.w3.org/2000/svg\"><path class=\"jVpjWi\" d=\"M16 23.207L6.11 13.161 16 3.093 12.955 0 0 13.161l12.955 13.161z\" fill=\"#fff\"></path></svg></div><img alt=\"Buying Guide\" src=\"//static-assets-web.flixcart.com/fk-p-linchpin-web/fk-cp-zion/img/buying-guide-illustration_4dd325.png\"/></a></div></div></div><div class=\"DOjaWF gdgoEp\" style=\"flex-grow:1;overflow:auto\"><div class=\"DOjaWF YJG4Cf col-12-12\" style=\"background-color:#ffffff;align-items:flex-end\"><div class=\"cPHDOP\" style=\"flex-grow:1;overflow:auto\"><div class=\"WOvzF4\"><div class=\"_7dPnhA\"><div class=\"r2CdBx\"><a class=\"R0cyWM\" href=\"/\">Home</a><svg class=\"sfneHK\" height=\"27\" viewbox=\"0 0 16 27\" width=\"16\" xmlns=\"http://www.w3.org/2000/svg\"><path class=\"wMLTcO\" d=\"M16 23.207L6.11 13.161 16 3.093 12.955 0 0 13.161l12.955 13.161z\" fill=\"#fff\"></path></svg></div><div class=\"r2CdBx\"><a class=\"R0cyWM\" href=\"/mobiles-accessories/pr?sid=tyy&amp;marketplace=FLIPKART\">Mobiles &amp; Accessories</a><svg class=\"sfneHK\" height=\"27\" viewbox=\"0 0 16 27\" width=\"16\" xmlns=\"http://www.w3.org/2000/svg\"><path class=\"wMLTcO\" d=\"M16 23.207L6.11 13.161 16 3.093 12.955 0 0 13.161l12.955 13.161z\" fill=\"#fff\"></path></svg></div><div class=\"r2CdBx\"><a class=\"R0cyWM\" href=\"/mobiles/pr?sid=tyy,4io&amp;marketplace=FLIPKART\">Mobiles</a><svg class=\"sfneHK\" height=\"27\" viewbox=\"0 0 16 27\" width=\"16\" xmlns=\"http://www.w3.org/2000/svg\"><path class=\"wMLTcO\" d=\"M16 23.207L6.11 13.161 16 3.093 12.955 0 0 13.161l12.955 13.161z\" fill=\"#fff\"></path></svg></div></div><span class=\"BUOuZu\">Showing 1 – 24 of 11,796 results for \"<span>mobiles</span>\"</span><div class=\"sHCOk2\"><span class=\"viJOii\">Sort By</span><div class=\"zg-M3Z _0H7xSG\">Relevance</div><div class=\"zg-M3Z\">Popularity</div><div class=\"zg-M3Z\">Price -- Low to High</div><div class=\"zg-M3Z\">Price -- High to Low</div><div class=\"zg-M3Z\">Newest First</div></div></div></div></div><div class=\"cPHDOP col-12-12\"><div class=\"_75nlfW\"><div data-id=\"MOBHAFVJURDB9QYR\" style=\"width:100%\"><div class=\"tUxRFH\"><a class=\"CGtC98\" href=\"/poco-c71-cool-blue-128-gb/p/itmfb10bdbf02c6e?pid=MOBHAFVJURDB9QYR&amp;lid=LSTMOBHAFVJURDB9QYRYNBHTJ&amp;marketplace=FLIPKART&amp;q=mobiles&amp;store=tyy%2F4io&amp;srno=s_1_1&amp;otracker=AS_Query_HistoryAutoSuggest_1_6_na_na_na&amp;otracker1=AS_Query_HistoryAutoSuggest_1_6_na_na_na&amp;fm=organic&amp;iid=c5ec3324-e01e-40b6-9b71-46d214890fe9.MOBHAFVJURDB9QYR.SEARCH&amp;ppt=None&amp;ppn=None&amp;ssid=z6wz3476rk0000001751655956048&amp;qH=eb4af0bf07c16429\" rel=\"noopener noreferrer\" target=\"_blank\"><div class=\"Otbq5D\"><div class=\"yPq5Io\"><div><div class=\"_4WELSP\" style=\"height:200px;width:200px\"><img alt=\"POCO C71 (Cool Blue, 128 GB)\" class=\"DByuf4\" loading=\"eager\" src=\"https://rukminim2.flixcart.com/image/312/312/xif0q/mobile/r/5/z/-original-imahawgarmg5f8ff.jpeg?q=70\"/></div></div></div><div class=\"qaR90o\"><div class=\"A8uQAd\"><span class=\"Lni97G\"><label class=\"tJjCVx\"><input class=\"vn9L2C\" readonly=\"\" type=\"checkbox\"/><div class=\"XqNaEv\"></div></label></span><label class=\"uu79Xy\"><span>Add to Compare</span></label></div></div><div class=\"oUss6M ssUU08\"><div class=\"+7E521\"><svg class=\"N1bADF\" height=\"16\" viewbox=\"0 0 20 16\" width=\"16\" xmlns=\"http://www.w3.org/2000/svg\"><path class=\"x1UMqG\" d=\"M8.695 16.682C4.06 12.382 1 9.536 1 6.065 1 3.219 3.178 1 5.95 1c1.566 0 3.069.746 4.05 1.915C10.981 1.745 12.484 1 14.05 1 16.822 1 19 3.22 19 6.065c0 3.471-3.06 6.316-7.695 10.617L10 17.897l-1.305-1.215z\" fill=\"#2874F0\" fill-rule=\"evenodd\" opacity=\".9\" stroke=\"#FFF\"></path></svg></div></div></div><div class=\"yKfJKb row\"><div class=\"col col-7-12\"><div class=\"KzDlHZ\">POCO C71 (Cool Blue, 128 GB)</div><div class=\"_5OesEi\"><span class=\"Y1HWO0\" id=\"productRating_LSTMOBHAFVJURDB9QYRYNBHTJ_MOBHAFVJURDB9QYR_\"><div class=\"XQDdHH\">4.1<img class=\"Rza2QY\" src=\"data:image/svg+xml;base64,PHN2ZyB4bWxucz0iaHR0cDovL3d3dy53My5vcmcvMjAwMC9zdmciIHdpZHRoPSIxMyIgaGVpZ2h0PSIxMiI+PHBhdGggZmlsbD0iI0ZGRiIgZD0iTTYuNSA5LjQzOWwtMy42NzQgMi4yMy45NC00LjI2LTMuMjEtMi44ODMgNC4yNTQtLjQwNEw2LjUuMTEybDEuNjkgNC4wMSA0LjI1NC40MDQtMy4yMSAyLjg4Mi45NCA0LjI2eiIvPjwvc3ZnPg==\"/></div></span><span class=\"Wphh3N\"><span><span>5,334 Ratings </span><span class=\"hG7V+4\">&amp;</span><span> 324 Reviews</span></span></span></div><div class=\"_6NESgJ\"><ul class=\"G4BRas\"><li class=\"J+igdf\">6 GB RAM | 128 GB ROM | Expandable Upto 2 TB</li><li class=\"J+igdf\">17.48 cm (6.88 inch) HD+ Display</li><li class=\"J+igdf\">32MP Rear Camera | 8MP Front Camera</li><li class=\"J+igdf\">5200 mAh Battery</li><li class=\"J+igdf\">Unisoc T7250\n",
      "Max clock speed: \n",
      "2 x A75@1.8GHz\n",
      "6 x A55@1.6GHz Processor</li><li class=\"J+igdf\">1 Year Manufacturer Warranty for Phone and 6 Months Warranty for In the Box Accessories</li></ul></div></div><div class=\"col col-5-12 BfVC2z\"><div class=\"cN1yYO\"><div class=\"hl05eU\"><div class=\"Nx9bqj _4b5DiR\">₹6,999</div><div class=\"yRaY8j ZYYwLA\">₹<!-- -->9,999</div><div class=\"UkUFwK\"><span>30% off</span></div></div></div><div class=\"_0CSTHy\"><img height=\"21\" src=\"//static-assets-web.flixcart.com/fk-p-linchpin-web/fk-cp-zion/img/fa_9e47c1.png\"/></div><div class=\"M4DNwV\"><div class=\"n5vj9c\"><div class=\"yiggsN O5Fpg8\" style=\"color:#000000;font-size:14px;font-style:normal;font-weight:400\">Upto </div><div class=\"yiggsN O5Fpg8\" style=\"color:#000000;font-size:14px;font-style:normal;font-weight:700\">₹5,700</div><div class=\"yiggsN O5Fpg8\" style=\"color:#000000;font-size:14px;font-style:normal;font-weight:400\"> Off on Exchange</div></div></div><div class=\"M4DNwV\"><div class=\"n5vj9c\"><div class=\"yiggsN O5Fpg8\" style=\"color:#26A541;font-size:14px;font-weight:700\">Bank Offer</div></div></div></div></div></a></div></div></div></div><div class=\"cPHDOP col-12-12\"><div class=\"_75nlfW\"><div data-id=\"MOBH4GTXZ9ZRQ3SU\" style=\"width:100%\"><div class=\"tUxRFH\"><a class=\"CGtC98\" href=\"/samsung-galaxy-f05-twilight-blue-64-gb/p/itm84a914081ab93?pid=MOBH4GTXZ9ZRQ3SU&amp;lid=LSTMOBH4GTXZ9ZRQ3SUXCBGGE&amp;marketplace=FLIPKART&amp;q=mobiles&amp;store=tyy%2F4io&amp;srno=s_1_2&amp;otracker=AS_Query_HistoryAutoSuggest_1_6_na_na_na&amp;otracker1=AS_Query_HistoryAutoSuggest_1_6_na_na_na&amp;fm=organic&amp;iid=c5ec3324-e01e-40b6-9b71-46d214890fe9.MOBH4GTXZ9ZRQ3SU.SEARCH&amp;ppt=None&amp;ppn=None&amp;ssid=z6wz3476rk0000001751655956048&amp;qH=eb4af0bf07c16429\" rel=\"noopener noreferrer\" target=\"_blank\"><div class=\"Otbq5D\"><div class=\"yPq5Io\"><div><div class=\"_4WELSP\" style=\"height:200px;width:200px\"><img alt=\"Samsung Galaxy F05 (Twilight Blue, 64 GB)\" class=\"DByuf4\" loading=\"eager\" src=\"https://rukminim2.flixcart.com/image/312/312/xif0q/mobile/e/r/f/-original-imah56hkgehywn5b.jpeg?q=70\"/></div></div></div><div class=\"qaR90o\"><div class=\"A8uQAd\"><span class=\"Lni97G\"><label class=\"tJjCVx\"><input class=\"vn9L2C\" readonly=\"\" type=\"checkbox\"/><div class=\"XqNaEv\"></div></label></span><label class=\"uu79Xy\"><span>Add to Compare</span></label></div></div><div class=\"oUss6M ssUU08\"><div class=\"+7E521\"><svg class=\"N1bADF\" height=\"16\" viewbox=\"0 0 20 16\" width=\"16\" xmlns=\"http://www.w3.org/2000/svg\"><path class=\"x1UMqG\" d=\"M8.695 16.682C4.06 12.382 1 9.536 1 6.065 1 3.219 3.178 1 5.95 1c1.566 0 3.069.746 4.05 1.915C10.981 1.745 12.484 1 14.05 1 16.822 1 19 3.22 19 6.065c0 3.471-3.06 6.316-7.695 10.617L10 17.897l-1.305-1.215z\" fill=\"#2874F0\" fill-rule=\"evenodd\" opacity=\".9\" stroke=\"#FFF\"></path></svg></div></div></div><div class=\"yKfJKb row\"><div class=\"col col-7-12\"><div class=\"KzDlHZ\">Samsung Galaxy F05 (Twilight Blue, 64 GB)</div><div class=\"_5OesEi\"><span class=\"Y1HWO0\" id=\"productRating_LSTMOBH4GTXZ9ZRQ3SUXCBGGE_MOBH4GTXZ9ZRQ3SU_\"><div class=\"XQDdHH\">4.2<img class=\"Rza2QY\" src=\"data:image/svg+xml;base64,PHN2ZyB4bWxucz0iaHR0cDovL3d3dy53My5vcmcvMjAwMC9zdmciIHdpZHRoPSIxMyIgaGVpZ2h0PSIxMiI+PHBhdGggZmlsbD0iI0ZGRiIgZD0iTTYuNSA5LjQzOWwtMy42NzQgMi4yMy45NC00LjI2LTMuMjEtMi44ODMgNC4yNTQtLjQwNEw2LjUuMTEybDEuNjkgNC4wMSA0LjI1NC40MDQtMy4yMSAyLjg4Mi45NCA0LjI2eiIvPjwvc3ZnPg==\"/></div></span><span class=\"Wphh3N\"><span><span>55,419 Ratings </span><span class=\"hG7V+4\">&amp;</span><span> 3,257 Reviews</span></span></span></div><div class=\"_6NESgJ\"><ul class=\"G4BRas\"><li class=\"J+igdf\">4 GB RAM | 64 GB ROM | Expandable Upto 1 TB</li><li class=\"J+igdf\">17.12 cm (6.74 inch) HD+ Display</li><li class=\"J+igdf\">50MP + 2MP | 8MP Front Camera</li><li class=\"J+igdf\">5000 mAh Battery</li><li class=\"J+igdf\">Helio G85 Processor</li><li class=\"J+igdf\">1 Year Manufacturer Warranty for Device and 6 Months for In-Box Accessories</li></ul></div></div><div class=\"col col-5-12 BfVC2z\"><div class=\"cN1yYO\"><div class=\"hl05eU\"><div class=\"Nx9bqj _4b5DiR\">₹6,499</div><div class=\"yRaY8j ZYYwLA\">₹<!-- -->9,999</div><div class=\"UkUFwK\"><span>35% off</span></div></div></div><div class=\"_0CSTHy\"><img height=\"21\" src=\"//static-assets-web.flixcart.com/fk-p-linchpin-web/fk-cp-zion/img/fa_9e47c1.png\"/></div><div class=\"M4DNwV\"><div class=\"n5vj9c\"><div class=\"yiggsN O5Fpg8\" style=\"color:#000000;font-size:14px;font-style:normal;font-weight:400\">Upto </div><div class=\"yiggsN O5Fpg8\" style=\"color:#000000;font-size:14px;font-style:normal;font-weight:700\">₹5,250</div><div class=\"yiggsN O5Fpg8\" style=\"color:#000000;font-size:14px;font-style:normal;font-weight:400\"> Off on Exchange</div></div></div><div class=\"M4DNwV\"><div class=\"n5vj9c\"><div class=\"yiggsN O5Fpg8\" style=\"color:#26A541;font-size:14px;font-weight:700\">Bank Offer</div></div></div></div></div></a></div></div></div></div><div class=\"cPHDOP col-12-12\"><div class=\"_75nlfW\"><div data-id=\"MOBH7443MMBCWPPG\" style=\"width:100%\"><div class=\"tUxRFH\"><a class=\"CGtC98\" href=\"/poco-c75-5g-aqua-bliss-64-gb/p/itm10b3f6f1bc616?pid=MOBH7443MMBCWPPG&amp;lid=LSTMOBH7443MMBCWPPGVOR2LC&amp;marketplace=FLIPKART&amp;q=mobiles&amp;store=tyy%2F4io&amp;srno=s_1_3&amp;otracker=AS_Query_HistoryAutoSuggest_1_6_na_na_na&amp;otracker1=AS_Query_HistoryAutoSuggest_1_6_na_na_na&amp;fm=organic&amp;iid=c5ec3324-e01e-40b6-9b71-46d214890fe9.MOBH7443MMBCWPPG.SEARCH&amp;ppt=None&amp;ppn=None&amp;ssid=z6wz3476rk0000001751655956048&amp;qH=eb4af0bf07c16429\" rel=\"noopener noreferrer\" target=\"_blank\"><div class=\"Otbq5D\"><div class=\"yPq5Io\"><div><div class=\"_4WELSP\" style=\"height:200px;width:200px\"><img alt=\"POCO C75 5G (Aqua Bliss, 64 GB)\" class=\"DByuf4\" loading=\"eager\" src=\"https://rukminim2.flixcart.com/image/312/312/xif0q/mobile/o/2/g/-original-imahbr2cz5apcwze.jpeg?q=70\"/></div></div></div><div class=\"qaR90o\"><div class=\"A8uQAd\"><span class=\"Lni97G\"><label class=\"tJjCVx\"><input class=\"vn9L2C\" readonly=\"\" type=\"checkbox\"/><div class=\"XqNaEv\"></div></label></span><label class=\"uu79Xy\"><span>Add to Compare</span></label></div></div><div class=\"oUss6M ssUU08\"><div class=\"+7E521\"><svg class=\"N1bADF\" height=\"16\" viewbox=\"0 0 20 16\" width=\"16\" xmlns=\"http://www.w3.org/2000/svg\"><path class=\"x1UMqG\" d=\"M8.695 16.682C4.06 12.382 1 9.536 1 6.065 1 3.219 3.178 1 5.95 1c1.566 0 3.069.746 4.05 1.915C10.981 1.745 12.484 1 14.05 1 16.822 1 19 3.22 19 6.065c0 3.471-3.06 6.316-7.695 10.617L10 17.897l-1.305-1.215z\" fill=\"#2874F0\" fill-rule=\"evenodd\" opacity=\".9\" stroke=\"#FFF\"></path></svg></div></div></div><div class=\"yKfJKb row\"><div class=\"col col-7-12\"><div class=\"KzDlHZ\">POCO C75 5G (Aqua Bliss, 64 GB)</div><div class=\"_5OesEi\"><span class=\"Y1HWO0\" id=\"productRating_LSTMOBH7443MMBCWPPGVOR2LC_MOBH7443MMBCWPPG_\"><div class=\"XQDdHH\">4.3<img class=\"Rza2QY\" src=\"data:image/svg+xml;base64,PHN2ZyB4bWxucz0iaHR0cDovL3d3dy53My5vcmcvMjAwMC9zdmciIHdpZHRoPSIxMyIgaGVpZ2h0PSIxMiI+PHBhdGggZmlsbD0iI0ZGRiIgZD0iTTYuNSA5LjQzOWwtMy42NzQgMi4yMy45NC00LjI2LTMuMjEtMi44ODMgNC4yNTQtLjQwNEw2LjUuMTEybDEuNjkgNC4wMSA0LjI1NC40MDQtMy4yMSAyLjg4Mi45NCA0LjI2eiIvPjwvc3ZnPg==\"/></div></span><span class=\"Wphh3N\"><span><span>70,650 Ratings </span><span class=\"hG7V+4\">&amp;</span><span> 3,673 Reviews</span></span></span></div><div class=\"_6NESgJ\"><ul class=\"G4BRas\"><li class=\"J+igdf\">4 GB RAM | 64 GB ROM | Expandable Upto 1 TB</li><li class=\"J+igdf\">17.48 cm (6.88 inch) HD+ Display</li><li class=\"J+igdf\">50MP Rear Camera | 5MP Front Camera</li><li class=\"J+igdf\">5160 mAh Battery</li><li class=\"J+igdf\">4s Gen 2 5G Processor</li><li class=\"J+igdf\">1 Year Manufacturer Warranty for Phone and 6 Months Warranty for In the Box Accessories</li></ul></div></div><div class=\"col col-5-12 BfVC2z\"><div class=\"cN1yYO\"><div class=\"hl05eU\"><div class=\"Nx9bqj _4b5DiR\">₹7,699</div><div class=\"yRaY8j ZYYwLA\">₹<!-- -->10,999</div><div class=\"UkUFwK\"><span>30% off</span></div></div></div><div class=\"_0CSTHy\"><img height=\"21\" src=\"//static-assets-web.flixcart.com/fk-p-linchpin-web/fk-cp-zion/img/fa_9e47c1.png\"/></div><div class=\"M4DNwV\"><div class=\"n5vj9c\"><div class=\"yiggsN O5Fpg8\" style=\"color:#000000;font-size:14px;font-style:normal;font-weight:400\">Upto </div><div class=\"yiggsN O5Fpg8\" style=\"color:#000000;font-size:14px;font-style:normal;font-weight:700\">₹6,350</div><div class=\"yiggsN O5Fpg8\" style=\"color:#000000;font-size:14px;font-style:normal;font-weight:400\"> Off on Exchange</div></div></div><div class=\"M4DNwV\"><div class=\"n5vj9c\"><div class=\"yiggsN O5Fpg8\" style=\"color:#26A541;font-size:14px;font-weight:700\">Bank Offer</div></div></div></div></div></a></div></div></div></div><div class=\"cPHDOP col-12-12\"><div class=\"_75nlfW\"><div data-id=\"MOBH2YYZES7Y5H8K\" style=\"width:100%\"><div class=\"tUxRFH\"><a class=\"CGtC98\" href=\"/redmi-a3x-midnight-black-64-gb/p/itmae02f9f3f765a?pid=MOBH2YYZES7Y5H8K&amp;lid=LSTMOBH2YYZES7Y5H8KOV8JEN&amp;marketplace=FLIPKART&amp;q=mobiles&amp;store=tyy%2F4io&amp;srno=s_1_4&amp;otracker=AS_Query_HistoryAutoSuggest_1_6_na_na_na&amp;otracker1=AS_Query_HistoryAutoSuggest_1_6_na_na_na&amp;fm=organic&amp;iid=c5ec3324-e01e-40b6-9b71-46d214890fe9.MOBH2YYZES7Y5H8K.SEARCH&amp;ppt=None&amp;ppn=None&amp;ssid=z6wz3476rk0000001751655956048&amp;qH=eb4af0bf07c16429\" rel=\"noopener noreferrer\" target=\"_blank\"><div class=\"Otbq5D\"><div class=\"yPq5Io\"><div><div class=\"_4WELSP\" style=\"height:200px;width:200px\"><img alt=\"REDMI A3X (Midnight Black, 64 GB)\" class=\"DByuf4\" loading=\"eager\" src=\"https://rukminim2.flixcart.com/image/312/312/xif0q/mobile/w/t/c/-original-imah2hfpxtwagduh.jpeg?q=70\"/></div></div></div><div class=\"qaR90o\"><div class=\"A8uQAd\"><span class=\"Lni97G\"><label class=\"tJjCVx\"><input class=\"vn9L2C\" readonly=\"\" type=\"checkbox\"/><div class=\"XqNaEv\"></div></label></span><label class=\"uu79Xy\"><span>Add to Compare</span></label></div></div><div class=\"oUss6M ssUU08\"><div class=\"+7E521\"><svg class=\"N1bADF\" height=\"16\" viewbox=\"0 0 20 16\" width=\"16\" xmlns=\"http://www.w3.org/2000/svg\"><path class=\"x1UMqG\" d=\"M8.695 16.682C4.06 12.382 1 9.536 1 6.065 1 3.219 3.178 1 5.95 1c1.566 0 3.069.746 4.05 1.915C10.981 1.745 12.484 1 14.05 1 16.822 1 19 3.22 19 6.065c0 3.471-3.06 6.316-7.695 10.617L10 17.897l-1.305-1.215z\" fill=\"#2874F0\" fill-rule=\"evenodd\" opacity=\".9\" stroke=\"#FFF\"></path></svg></div></div></div><div class=\"yKfJKb row\"><div class=\"col col-7-12\"><div class=\"KzDlHZ\">REDMI A3X (Midnight Black, 64 GB)</div><div class=\"_5OesEi\"><span class=\"Y1HWO0\" id=\"productRating_LSTMOBH2YYZES7Y5H8KOV8JEN_MOBH2YYZES7Y5H8K_\"><div class=\"XQDdHH\">4.1<img class=\"Rza2QY\" src=\"data:image/svg+xml;base64,PHN2ZyB4bWxucz0iaHR0cDovL3d3dy53My5vcmcvMjAwMC9zdmciIHdpZHRoPSIxMyIgaGVpZ2h0PSIxMiI+PHBhdGggZmlsbD0iI0ZGRiIgZD0iTTYuNSA5LjQzOWwtMy42NzQgMi4yMy45NC00LjI2LTMuMjEtMi44ODMgNC4yNTQtLjQwNEw2LjUuMTEybDEuNjkgNC4wMSA0LjI1NC40MDQtMy4yMSAyLjg4Mi45NCA0LjI2eiIvPjwvc3ZnPg==\"/></div></span><span class=\"Wphh3N\"><span><span>7,906 Ratings </span><span class=\"hG7V+4\">&amp;</span><span> 355 Reviews</span></span></span></div><div class=\"_6NESgJ\"><ul class=\"G4BRas\"><li class=\"J+igdf\">3 GB RAM | 64 GB ROM | Expandable Upto 1 TB</li><li class=\"J+igdf\">17.04 cm (6.71 inch) HD+ Display</li><li class=\"J+igdf\">8MP Rear Camera | 5MP Front Camera</li><li class=\"J+igdf\">5000 mAh Battery</li><li class=\"J+igdf\">1 Year Manufacturer Warranty for Phone and 6 Months Warranty for In the Box Accessories</li></ul></div></div><div class=\"col col-5-12 BfVC2z\"><div class=\"cN1yYO\"><div class=\"hl05eU\"><div class=\"Nx9bqj _4b5DiR\">₹5,999</div><div class=\"yRaY8j ZYYwLA\">₹<!-- -->9,999</div><div class=\"UkUFwK\"><span>40% off</span></div></div></div><div class=\"_0CSTHy\"><img height=\"21\" src=\"//static-assets-web.flixcart.com/fk-p-linchpin-web/fk-cp-zion/img/fa_9e47c1.png\"/></div><div class=\"M4DNwV\"><div class=\"n5vj9c\"><div class=\"yiggsN O5Fpg8\" style=\"color:#000000;font-size:14px;font-style:normal;font-weight:400\">Upto </div><div class=\"yiggsN O5Fpg8\" style=\"color:#000000;font-size:14px;font-style:normal;font-weight:700\">₹4,850</div><div class=\"yiggsN O5Fpg8\" style=\"color:#000000;font-size:14px;font-style:normal;font-weight:400\"> Off on Exchange</div></div></div><div class=\"M4DNwV\"><div class=\"n5vj9c\"><div class=\"yiggsN O5Fpg8\" style=\"color:#26A541;font-size:14px;font-weight:700\">Bank Offer</div></div></div></div></div></a></div></div></div></div><div class=\"cPHDOP col-12-12\"><div class=\"_75nlfW\"><div data-id=\"MOBH9JUSZHCX3JRG\" style=\"width:100%\"><div class=\"tUxRFH\"><a class=\"CGtC98\" href=\"/vivo-t4x-5g-pronto-purple-128-gb/p/itm017656bdd097b?pid=MOBH9JUSZHCX3JRG&amp;lid=LSTMOBH9JUSZHCX3JRGEPZVNT&amp;marketplace=FLIPKART&amp;q=mobiles&amp;store=tyy%2F4io&amp;srno=s_1_5&amp;otracker=AS_Query_HistoryAutoSuggest_1_6_na_na_na&amp;otracker1=AS_Query_HistoryAutoSuggest_1_6_na_na_na&amp;fm=organic&amp;iid=c5ec3324-e01e-40b6-9b71-46d214890fe9.MOBH9JUSZHCX3JRG.SEARCH&amp;ppt=None&amp;ppn=None&amp;ssid=z6wz3476rk0000001751655956048&amp;qH=eb4af0bf07c16429\" rel=\"noopener noreferrer\" target=\"_blank\"><div class=\"Otbq5D\"><div class=\"yPq5Io\"><div><div class=\"_4WELSP\" style=\"height:200px;width:200px\"><img alt=\"vivo T4x 5G (Pronto Purple, 128 GB)\" class=\"DByuf4\" loading=\"eager\" src=\"https://rukminim2.flixcart.com/image/312/312/xif0q/mobile/j/t/v/-original-imahavdv28z4nrkn.jpeg?q=70\"/></div></div></div><div class=\"qaR90o\"><div class=\"A8uQAd\"><span class=\"Lni97G\"><label class=\"tJjCVx\"><input class=\"vn9L2C\" readonly=\"\" type=\"checkbox\"/><div class=\"XqNaEv\"></div></label></span><label class=\"uu79Xy\"><span>Add to Compare</span></label></div></div><div class=\"oUss6M ssUU08\"><div class=\"+7E521\"><svg class=\"N1bADF\" height=\"16\" viewbox=\"0 0 20 16\" width=\"16\" xmlns=\"http://www.w3.org/2000/svg\"><path class=\"x1UMqG\" d=\"M8.695 16.682C4.06 12.382 1 9.536 1 6.065 1 3.219 3.178 1 5.95 1c1.566 0 3.069.746 4.05 1.915C10.981 1.745 12.484 1 14.05 1 16.822 1 19 3.22 19 6.065c0 3.471-3.06 6.316-7.695 10.617L10 17.897l-1.305-1.215z\" fill=\"#2874F0\" fill-rule=\"evenodd\" opacity=\".9\" stroke=\"#FFF\"></path></svg></div></div></div><div class=\"yKfJKb row\"><div class=\"col col-7-12\"><div class=\"KzDlHZ\">vivo T4x 5G (Pronto Purple, 128 GB)</div><div class=\"_5OesEi\"><span class=\"Y1HWO0\" id=\"productRating_LSTMOBH9JUSZHCX3JRGEPZVNT_MOBH9JUSZHCX3JRG_\"><div class=\"XQDdHH\">4.5<img class=\"Rza2QY\" src=\"data:image/svg+xml;base64,PHN2ZyB4bWxucz0iaHR0cDovL3d3dy53My5vcmcvMjAwMC9zdmciIHdpZHRoPSIxMyIgaGVpZ2h0PSIxMiI+PHBhdGggZmlsbD0iI0ZGRiIgZD0iTTYuNSA5LjQzOWwtMy42NzQgMi4yMy45NC00LjI2LTMuMjEtMi44ODMgNC4yNTQtLjQwNEw2LjUuMTEybDEuNjkgNC4wMSA0LjI1NC40MDQtMy4yMSAyLjg4Mi45NCA0LjI2eiIvPjwvc3ZnPg==\"/></div></span><span class=\"Wphh3N\"><span><span>53,828 Ratings </span><span class=\"hG7V+4\">&amp;</span><span> 3,165 Reviews</span></span></span></div><div class=\"_6NESgJ\"><ul class=\"G4BRas\"><li class=\"J+igdf\">8 GB RAM | 128 GB ROM</li><li class=\"J+igdf\">17.07 cm (6.72 inch) Display</li><li class=\"J+igdf\">50MP + 2MP | 8MP Front Camera</li><li class=\"J+igdf\">6500 mAh Battery</li><li class=\"J+igdf\">Dimensity 7300 5G Processor</li><li class=\"J+igdf\">1 Year Warranty for Device and 6 Months Warranty for Accessories</li></ul></div></div><div class=\"col col-5-12 BfVC2z\"><div class=\"cN1yYO\"><div class=\"hl05eU\"><div class=\"Nx9bqj _4b5DiR\">₹14,999</div><div class=\"yRaY8j ZYYwLA\">₹<!-- -->19,499</div><div class=\"UkUFwK\"><span>23% off</span></div></div></div><div class=\"_0CSTHy\"><img height=\"21\" src=\"//static-assets-web.flixcart.com/fk-p-linchpin-web/fk-cp-zion/img/fa_9e47c1.png\"/></div><div class=\"M4DNwV\"><div class=\"n5vj9c\" style=\"padding-top:4px;padding-right:4px;padding-bottom:4px;padding-left:4px;border-radius:2px;background-color:#E7F8EC\"><div class=\"yiggsN O5Fpg8\" style=\"color:#26A541;font-size:12px;font-weight:700\">Lowest price since launch</div></div></div><div class=\"M4DNwV\"><div class=\"n5vj9c\"><div class=\"yiggsN O5Fpg8\" style=\"color:#000000;font-size:14px;font-style:normal;font-weight:400\">Upto </div><div class=\"yiggsN O5Fpg8\" style=\"color:#000000;font-size:14px;font-style:normal;font-weight:700\">₹12,550</div><div class=\"yiggsN O5Fpg8\" style=\"color:#000000;font-size:14px;font-style:normal;font-weight:400\"> Off on Exchange</div></div></div></div></div></a></div></div></div></div><div class=\"cPHDOP col-12-12\"><div class=\"_75nlfW\"><div data-id=\"MOBHD6FJ37GZFJBD\" style=\"width:100%\"><div class=\"tUxRFH\"><a class=\"CGtC98\" href=\"/infinix-note-50s-5g-titanium-grey-128-gb/p/itmfbc62747a37e7?pid=MOBHD6FJ37GZFJBD&amp;lid=LSTMOBHD6FJ37GZFJBDUEVZKR&amp;marketplace=FLIPKART&amp;q=mobiles&amp;store=tyy%2F4io&amp;srno=s_1_6&amp;otracker=AS_Query_HistoryAutoSuggest_1_6_na_na_na&amp;otracker1=AS_Query_HistoryAutoSuggest_1_6_na_na_na&amp;fm=organic&amp;iid=c5ec3324-e01e-40b6-9b71-46d214890fe9.MOBHD6FJ37GZFJBD.SEARCH&amp;ppt=None&amp;ppn=None&amp;ssid=z6wz3476rk0000001751655956048&amp;qH=eb4af0bf07c16429\" rel=\"noopener noreferrer\" target=\"_blank\"><div class=\"Otbq5D\"><div class=\"yPq5Io\"><div><div class=\"_4WELSP\" style=\"height:200px;width:200px\"><img alt=\"Infinix Note 50s 5G+ (Titanium Grey, 128 GB)\" class=\"DByuf4\" loading=\"eager\" src=\"https://rukminim2.flixcart.com/image/312/312/xif0q/mobile/o/s/z/-original-imahdg6srhwshjuz.jpeg?q=70\"/></div></div></div><div class=\"qaR90o\"><div class=\"A8uQAd\"><span class=\"Lni97G\"><label class=\"tJjCVx\"><input class=\"vn9L2C\" readonly=\"\" type=\"checkbox\"/><div class=\"XqNaEv\"></div></label></span><label class=\"uu79Xy\"><span>Add to Compare</span></label></div></div><div class=\"oUss6M ssUU08\"><div class=\"+7E521\"><svg class=\"N1bADF\" height=\"16\" viewbox=\"0 0 20 16\" width=\"16\" xmlns=\"http://www.w3.org/2000/svg\"><path class=\"x1UMqG\" d=\"M8.695 16.682C4.06 12.382 1 9.536 1 6.065 1 3.219 3.178 1 5.95 1c1.566 0 3.069.746 4.05 1.915C10.981 1.745 12.484 1 14.05 1 16.822 1 19 3.22 19 6.065c0 3.471-3.06 6.316-7.695 10.617L10 17.897l-1.305-1.215z\" fill=\"#2874F0\" fill-rule=\"evenodd\" opacity=\".9\" stroke=\"#FFF\"></path></svg></div></div></div><div class=\"yKfJKb row\"><div class=\"col col-7-12\"><div class=\"KzDlHZ\">Infinix Note 50s 5G+ (Titanium Grey, 128 GB)</div><div class=\"_5OesEi\"><span class=\"Y1HWO0\" id=\"productRating_LSTMOBHD6FJ37GZFJBDUEVZKR_MOBHD6FJ37GZFJBD_\"><div class=\"XQDdHH\">4.4<img class=\"Rza2QY\" src=\"data:image/svg+xml;base64,PHN2ZyB4bWxucz0iaHR0cDovL3d3dy53My5vcmcvMjAwMC9zdmciIHdpZHRoPSIxMyIgaGVpZ2h0PSIxMiI+PHBhdGggZmlsbD0iI0ZGRiIgZD0iTTYuNSA5LjQzOWwtMy42NzQgMi4yMy45NC00LjI2LTMuMjEtMi44ODMgNC4yNTQtLjQwNEw2LjUuMTEybDEuNjkgNC4wMSA0LjI1NC40MDQtMy4yMSAyLjg4Mi45NCA0LjI2eiIvPjwvc3ZnPg==\"/></div></span><span class=\"Wphh3N\"><span><span>127 Ratings </span><span class=\"hG7V+4\">&amp;</span><span> 14 Reviews</span></span></span></div><div class=\"_6NESgJ\"><ul class=\"G4BRas\"><li class=\"J+igdf\">6 GB RAM | 128 GB ROM</li><li class=\"J+igdf\">17.22 cm (6.78 inch) Full HD+ Display</li><li class=\"J+igdf\">64MP + 2MP | 13MP Front Camera</li><li class=\"J+igdf\">5500 mAh Battery</li><li class=\"J+igdf\">Dimensity 7300 Ultimate Processor</li><li class=\"J+igdf\">1 Year Warranty for Handset and 6 Months Warranty for Accessories</li></ul></div></div><div class=\"col col-5-12 BfVC2z\"><div class=\"cN1yYO\"><div class=\"hl05eU\"><div class=\"Nx9bqj _4b5DiR\">₹14,999</div><div class=\"yRaY8j ZYYwLA\">₹<!-- -->19,999</div><div class=\"UkUFwK\"><span>25% off</span></div></div></div><div class=\"_0CSTHy\"><img height=\"21\" src=\"//static-assets-web.flixcart.com/fk-p-linchpin-web/fk-cp-zion/img/fa_9e47c1.png\"/></div><div class=\"M4DNwV\"><div class=\"n5vj9c\"><div class=\"yiggsN O5Fpg8\" style=\"color:#000000;font-size:14px;font-style:normal;font-weight:400\">Upto </div><div class=\"yiggsN O5Fpg8\" style=\"color:#000000;font-size:14px;font-style:normal;font-weight:700\">₹12,550</div><div class=\"yiggsN O5Fpg8\" style=\"color:#000000;font-size:14px;font-style:normal;font-weight:400\"> Off on Exchange</div></div></div><div class=\"M4DNwV\"><div class=\"n5vj9c\"><div class=\"yiggsN O5Fpg8\" style=\"color:#26A541;font-size:14px;font-weight:700\">Bank Offer</div></div></div></div></div></a></div></div></div></div><div class=\"cPHDOP col-12-12\"><div class=\"_75nlfW\"><div data-id=\"MOBHBPPGHSQDKVUQ\" style=\"width:100%\"><div class=\"tUxRFH\"><a class=\"CGtC98\" href=\"/samsung-guru-music-2-b310ed/p/itm519b6093383c5?pid=MOBHBPPGHSQDKVUQ&amp;lid=LSTMOBHBPPGHSQDKVUQABMIE1&amp;marketplace=FLIPKART&amp;q=mobiles&amp;store=tyy%2F4io&amp;srno=s_1_7&amp;otracker=AS_Query_HistoryAutoSuggest_1_6_na_na_na&amp;otracker1=AS_Query_HistoryAutoSuggest_1_6_na_na_na&amp;fm=organic&amp;iid=c5ec3324-e01e-40b6-9b71-46d214890fe9.MOBHBPPGHSQDKVUQ.SEARCH&amp;ppt=None&amp;ppn=None&amp;ssid=z6wz3476rk0000001751655956048&amp;qH=eb4af0bf07c16429\" rel=\"noopener noreferrer\" target=\"_blank\"><div class=\"Otbq5D\"><div class=\"yPq5Io\"><div><div class=\"_4WELSP\" style=\"height:200px;width:200px\"><img alt=\"Samsung Guru Music 2 B310ED\" class=\"DByuf4\" loading=\"eager\" src=\"https://rukminim2.flixcart.com/image/312/312/xif0q/mobile/q/e/0/guru-music-2-b310ed-guru-music-2-samsung-original-imahbppg8etzvztv.jpeg?q=70\"/></div></div></div><div class=\"qaR90o\"><div class=\"A8uQAd\"><span class=\"Lni97G\"><label class=\"tJjCVx\"><input class=\"vn9L2C\" readonly=\"\" type=\"checkbox\"/><div class=\"XqNaEv\"></div></label></span><label class=\"uu79Xy\"><span>Add to Compare</span></label></div></div><div class=\"oUss6M ssUU08\"><div class=\"+7E521\"><svg class=\"N1bADF\" height=\"16\" viewbox=\"0 0 20 16\" width=\"16\" xmlns=\"http://www.w3.org/2000/svg\"><path class=\"x1UMqG\" d=\"M8.695 16.682C4.06 12.382 1 9.536 1 6.065 1 3.219 3.178 1 5.95 1c1.566 0 3.069.746 4.05 1.915C10.981 1.745 12.484 1 14.05 1 16.822 1 19 3.22 19 6.065c0 3.471-3.06 6.316-7.695 10.617L10 17.897l-1.305-1.215z\" fill=\"#2874F0\" fill-rule=\"evenodd\" opacity=\".9\" stroke=\"#FFF\"></path></svg></div></div></div><div class=\"yKfJKb row\"><div class=\"col col-7-12\"><div class=\"KzDlHZ\">Samsung Guru Music 2 B310ED</div><div class=\"_5OesEi\"><span class=\"Y1HWO0\" id=\"productRating_LSTMOBHBPPGHSQDKVUQABMIE1_MOBHBPPGHSQDKVUQ_\"><div class=\"XQDdHH\">3.2<img class=\"Rza2QY\" src=\"data:image/svg+xml;base64,PHN2ZyB4bWxucz0iaHR0cDovL3d3dy53My5vcmcvMjAwMC9zdmciIHdpZHRoPSIxMyIgaGVpZ2h0PSIxMiI+PHBhdGggZmlsbD0iI0ZGRiIgZD0iTTYuNSA5LjQzOWwtMy42NzQgMi4yMy45NC00LjI2LTMuMjEtMi44ODMgNC4yNTQtLjQwNEw2LjUuMTEybDEuNjkgNC4wMSA0LjI1NC40MDQtMy4yMSAyLjg4Mi45NCA0LjI2eiIvPjwvc3ZnPg==\"/></div></span><span class=\"Wphh3N\"><span><span>12,843 Ratings </span><span class=\"hG7V+4\">&amp;</span><span> 1,016 Reviews</span></span></span></div><div class=\"_6NESgJ\"><ul class=\"G4BRas\"><li class=\"J+igdf\">32 MB RAM | 32 MB ROM</li><li class=\"J+igdf\">4.57 cm (1.8 inch) Display</li><li class=\"J+igdf\">800 mAh Battery</li><li class=\"J+igdf\">No Warranty</li></ul></div></div><div class=\"col col-5-12 BfVC2z\"><div class=\"cN1yYO\"><div class=\"hl05eU\"><div class=\"Nx9bqj _4b5DiR\">₹990</div><div class=\"yRaY8j ZYYwLA\">₹<!-- -->1,899</div><div class=\"UkUFwK\"><span>47% off</span></div></div></div><div class=\"M4DNwV\"><div class=\"n5vj9c\"><div class=\"yiggsN O5Fpg8\" style=\"color:#C70055;font-size:12px;font-weight:700\">Only few left</div></div></div><div class=\"M4DNwV\"><div class=\"n5vj9c\"><div class=\"yiggsN O5Fpg8\" style=\"color:#26A541;font-size:14px;font-weight:700\">Bank Offer</div></div></div></div></div></a></div></div></div></div><div class=\"cPHDOP col-12-12\"><div class=\"_75nlfW\"><div data-id=\"MOBH9JUSTWEMVADU\" style=\"width:100%\"><div class=\"tUxRFH\"><a class=\"CGtC98\" href=\"/vivo-t4x-5g-marine-blue-128-gb/p/itm017656bdd097b?pid=MOBH9JUSTWEMVADU&amp;lid=LSTMOBH9JUSTWEMVADU5W2ENU&amp;marketplace=FLIPKART&amp;q=mobiles&amp;store=tyy%2F4io&amp;spotlightTagId=default_BestsellerId_tyy%2F4io&amp;srno=s_1_8&amp;otracker=AS_Query_HistoryAutoSuggest_1_6_na_na_na&amp;otracker1=AS_Query_HistoryAutoSuggest_1_6_na_na_na&amp;fm=organic&amp;iid=c5ec3324-e01e-40b6-9b71-46d214890fe9.MOBH9JUSTWEMVADU.SEARCH&amp;ppt=None&amp;ppn=None&amp;ssid=z6wz3476rk0000001751655956048&amp;qH=eb4af0bf07c16429\" rel=\"noopener noreferrer\" target=\"_blank\"><div></div><div class=\"Otbq5D\"><div class=\"yPq5Io\"><div><div class=\"_4WELSP\" style=\"height:200px;width:200px\"><img alt=\"vivo T4x 5G (Marine Blue, 128 GB)\" class=\"DByuf4\" loading=\"eager\" src=\"https://rukminim2.flixcart.com/image/312/312/xif0q/mobile/m/n/v/-original-imahavdveeghweea.jpeg?q=70\"/></div></div></div><div class=\"qaR90o\"><div class=\"A8uQAd\"><span class=\"Lni97G\"><label class=\"tJjCVx\"><input class=\"vn9L2C\" readonly=\"\" type=\"checkbox\"/><div class=\"XqNaEv\"></div></label></span><label class=\"uu79Xy\"><span>Add to Compare</span></label></div></div><div class=\"oUss6M ssUU08\"><div class=\"+7E521\"><svg class=\"N1bADF\" height=\"16\" viewbox=\"0 0 20 16\" width=\"16\" xmlns=\"http://www.w3.org/2000/svg\"><path class=\"x1UMqG\" d=\"M8.695 16.682C4.06 12.382 1 9.536 1 6.065 1 3.219 3.178 1 5.95 1c1.566 0 3.069.746 4.05 1.915C10.981 1.745 12.484 1 14.05 1 16.822 1 19 3.22 19 6.065c0 3.471-3.06 6.316-7.695 10.617L10 17.897l-1.305-1.215z\" fill=\"#2874F0\" fill-rule=\"evenodd\" opacity=\".9\" stroke=\"#FFF\"></path></svg></div></div></div><div class=\"yKfJKb row\"><div class=\"col col-7-12\"><div class=\"KzDlHZ\">vivo T4x 5G (Marine Blue, 128 GB)</div><div class=\"_5OesEi\"><span class=\"Y1HWO0\" id=\"productRating_LSTMOBH9JUSTWEMVADU5W2ENU_MOBH9JUSTWEMVADU_\"><div class=\"XQDdHH\">4.4<img class=\"Rza2QY\" src=\"data:image/svg+xml;base64,PHN2ZyB4bWxucz0iaHR0cDovL3d3dy53My5vcmcvMjAwMC9zdmciIHdpZHRoPSIxMyIgaGVpZ2h0PSIxMiI+PHBhdGggZmlsbD0iI0ZGRiIgZD0iTTYuNSA5LjQzOWwtMy42NzQgMi4yMy45NC00LjI2LTMuMjEtMi44ODMgNC4yNTQtLjQwNEw2LjUuMTEybDEuNjkgNC4wMSA0LjI1NC40MDQtMy4yMSAyLjg4Mi45NCA0LjI2eiIvPjwvc3ZnPg==\"/></div></span><span class=\"Wphh3N\"><span><span>70,982 Ratings </span><span class=\"hG7V+4\">&amp;</span><span> 3,914 Reviews</span></span></span></div><div class=\"_6NESgJ\"><ul class=\"G4BRas\"><li class=\"J+igdf\">6 GB RAM | 128 GB ROM</li><li class=\"J+igdf\">17.07 cm (6.72 inch) Display</li><li class=\"J+igdf\">50MP + 2MP | 8MP Front Camera</li><li class=\"J+igdf\">6500 mAh Battery</li><li class=\"J+igdf\">Dimensity 7300 5G Processor</li><li class=\"J+igdf\">1 Year Warranty for Device and 6 Months Warranty for Accessories</li></ul></div></div><div class=\"col col-5-12 BfVC2z\"><div class=\"cN1yYO\"><div class=\"hl05eU\"><div class=\"Nx9bqj _4b5DiR\">₹13,999</div><div class=\"yRaY8j ZYYwLA\">₹<!-- -->17,999</div><div class=\"UkUFwK\"><span>22% off</span></div></div></div><div class=\"_0CSTHy\"><img height=\"21\" src=\"//static-assets-web.flixcart.com/fk-p-linchpin-web/fk-cp-zion/img/fa_9e47c1.png\"/></div><div class=\"M4DNwV\"><div class=\"n5vj9c\" style=\"padding-top:4px;padding-right:4px;padding-bottom:4px;padding-left:4px;border-radius:2px;background-color:#E7F8EC\"><div class=\"yiggsN O5Fpg8\" style=\"color:#26A541;font-size:12px;font-weight:700\">Lowest price since launch</div></div></div><div class=\"M4DNwV\"><div class=\"n5vj9c\"><div class=\"yiggsN O5Fpg8\" style=\"color:#000000;font-size:14px;font-style:normal;font-weight:400\">Upto </div><div class=\"yiggsN O5Fpg8\" style=\"color:#000000;font-size:14px;font-style:normal;font-weight:700\">₹11,700</div><div class=\"yiggsN O5Fpg8\" style=\"color:#000000;font-size:14px;font-style:normal;font-weight:400\"> Off on Exchange</div></div></div></div></div></a></div></div></div></div><div class=\"cPHDOP col-12-12\"><div class=\"_75nlfW\"><div data-id=\"MOBH3YGPWZZB9ZZK\" style=\"width:100%\"><div class=\"tUxRFH\"><a class=\"CGtC98\" href=\"/motorola-g35-5g-guava-red-128-gb/p/itm39bba58f6cdfc?pid=MOBH3YGPWZZB9ZZK&amp;lid=LSTMOBH3YGPWZZB9ZZKFWIZWR&amp;marketplace=FLIPKART&amp;q=mobiles&amp;store=tyy%2F4io&amp;srno=s_1_9&amp;otracker=AS_Query_HistoryAutoSuggest_1_6_na_na_na&amp;otracker1=AS_Query_HistoryAutoSuggest_1_6_na_na_na&amp;fm=organic&amp;iid=c5ec3324-e01e-40b6-9b71-46d214890fe9.MOBH3YGPWZZB9ZZK.SEARCH&amp;ppt=None&amp;ppn=None&amp;ssid=z6wz3476rk0000001751655956048&amp;qH=eb4af0bf07c16429\" rel=\"noopener noreferrer\" target=\"_blank\"><div class=\"Otbq5D\"><div class=\"yPq5Io\"><div><div class=\"_4WELSP\" style=\"height:200px;width:200px\"><img alt=\"MOTOROLA g35 5G (Guava Red, 128 GB)\" class=\"DByuf4\" loading=\"eager\" src=\"https://rukminim2.flixcart.com/image/312/312/xif0q/mobile/e/6/4/g35-5g-pb3h0002in-motorola-original-imah7c6wzezymef7.jpeg?q=70\"/></div></div></div><div class=\"qaR90o\"><div class=\"A8uQAd\"><span class=\"Lni97G\"><label class=\"tJjCVx\"><input class=\"vn9L2C\" readonly=\"\" type=\"checkbox\"/><div class=\"XqNaEv\"></div></label></span><label class=\"uu79Xy\"><span>Add to Compare</span></label></div></div><div class=\"oUss6M ssUU08\"><div class=\"+7E521\"><svg class=\"N1bADF\" height=\"16\" viewbox=\"0 0 20 16\" width=\"16\" xmlns=\"http://www.w3.org/2000/svg\"><path class=\"x1UMqG\" d=\"M8.695 16.682C4.06 12.382 1 9.536 1 6.065 1 3.219 3.178 1 5.95 1c1.566 0 3.069.746 4.05 1.915C10.981 1.745 12.484 1 14.05 1 16.822 1 19 3.22 19 6.065c0 3.471-3.06 6.316-7.695 10.617L10 17.897l-1.305-1.215z\" fill=\"#2874F0\" fill-rule=\"evenodd\" opacity=\".9\" stroke=\"#FFF\"></path></svg></div></div></div><div class=\"yKfJKb row\"><div class=\"col col-7-12\"><div class=\"KzDlHZ\">MOTOROLA g35 5G (Guava Red, 128 GB)</div><div class=\"_5OesEi\"><span class=\"Y1HWO0\" id=\"productRating_LSTMOBH3YGPWZZB9ZZKFWIZWR_MOBH3YGPWZZB9ZZK_\"><div class=\"XQDdHH\">4.2<img class=\"Rza2QY\" src=\"data:image/svg+xml;base64,PHN2ZyB4bWxucz0iaHR0cDovL3d3dy53My5vcmcvMjAwMC9zdmciIHdpZHRoPSIxMyIgaGVpZ2h0PSIxMiI+PHBhdGggZmlsbD0iI0ZGRiIgZD0iTTYuNSA5LjQzOWwtMy42NzQgMi4yMy45NC00LjI2LTMuMjEtMi44ODMgNC4yNTQtLjQwNEw2LjUuMTEybDEuNjkgNC4wMSA0LjI1NC40MDQtMy4yMSAyLjg4Mi45NCA0LjI2eiIvPjwvc3ZnPg==\"/></div></span><span class=\"Wphh3N\"><span><span>56,851 Ratings </span><span class=\"hG7V+4\">&amp;</span><span> 4,373 Reviews</span></span></span></div><div class=\"_6NESgJ\"><ul class=\"G4BRas\"><li class=\"J+igdf\">4 GB RAM | 128 GB ROM | Expandable Upto 1 TB</li><li class=\"J+igdf\">17.07 cm (6.72 inch) Full HD+ Display</li><li class=\"J+igdf\">50MP + 8MP | 16MP Front Camera</li><li class=\"J+igdf\">5000 mAh Battery</li><li class=\"J+igdf\">T760 Processor</li><li class=\"J+igdf\">12 5G Bands with VoNR|4K Video Recording|Vision Booster Technology</li><li class=\"J+igdf\">1 Year on Handset and 6 Months on Accessories</li></ul></div></div><div class=\"col col-5-12 BfVC2z\"><div class=\"cN1yYO\"><div class=\"hl05eU\"><div class=\"Nx9bqj _4b5DiR\">₹9,999</div><div class=\"yRaY8j ZYYwLA\">₹<!-- -->12,499</div><div class=\"UkUFwK\"><span>20% off</span></div></div></div><div class=\"_0CSTHy\"><img height=\"21\" src=\"//static-assets-web.flixcart.com/fk-p-linchpin-web/fk-cp-zion/img/fa_9e47c1.png\"/></div><div class=\"M4DNwV\"><div class=\"n5vj9c\"><div class=\"yiggsN O5Fpg8\" style=\"color:#000000;font-size:14px;font-style:normal;font-weight:400\">Upto </div><div class=\"yiggsN O5Fpg8\" style=\"color:#000000;font-size:14px;font-style:normal;font-weight:700\">₹8,300</div><div class=\"yiggsN O5Fpg8\" style=\"color:#000000;font-size:14px;font-style:normal;font-weight:400\"> Off on Exchange</div></div></div><div class=\"M4DNwV\"><div class=\"n5vj9c\"><div class=\"yiggsN O5Fpg8\" style=\"color:#26A541;font-size:14px;font-weight:700\">Bank Offer</div></div></div></div></div></a></div></div></div></div><div class=\"cPHDOP col-12-12\"><div class=\"_75nlfW\"><div data-id=\"MOBH7443VEGWXG4G\" style=\"width:100%\"><div class=\"tUxRFH\"><a class=\"CGtC98\" href=\"/poco-c75-5g-enchanted-green-64-gb/p/itmf8fdd88f80fcc?pid=MOBH7443VEGWXG4G&amp;lid=LSTMOBH7443VEGWXG4GOW118G&amp;marketplace=FLIPKART&amp;q=mobiles&amp;store=tyy%2F4io&amp;srno=s_1_10&amp;otracker=AS_Query_HistoryAutoSuggest_1_6_na_na_na&amp;otracker1=AS_Query_HistoryAutoSuggest_1_6_na_na_na&amp;fm=organic&amp;iid=c5ec3324-e01e-40b6-9b71-46d214890fe9.MOBH7443VEGWXG4G.SEARCH&amp;ppt=None&amp;ppn=None&amp;ssid=z6wz3476rk0000001751655956048&amp;qH=eb4af0bf07c16429\" rel=\"noopener noreferrer\" target=\"_blank\"><div class=\"Otbq5D\"><div class=\"yPq5Io\"><div><div class=\"_4WELSP\" style=\"height:200px;width:200px\"><img alt=\"POCO C75 5G (Enchanted Green, 64 GB)\" class=\"DByuf4\" loading=\"eager\" src=\"https://rukminim2.flixcart.com/image/312/312/xif0q/mobile/y/v/f/-original-imahbr2cmpwexghw.jpeg?q=70\"/></div></div></div><div class=\"qaR90o\"><div class=\"A8uQAd\"><span class=\"Lni97G\"><label class=\"tJjCVx\"><input class=\"vn9L2C\" readonly=\"\" type=\"checkbox\"/><div class=\"XqNaEv\"></div></label></span><label class=\"uu79Xy\"><span>Add to Compare</span></label></div></div><div class=\"oUss6M ssUU08\"><div class=\"+7E521\"><svg class=\"N1bADF\" height=\"16\" viewbox=\"0 0 20 16\" width=\"16\" xmlns=\"http://www.w3.org/2000/svg\"><path class=\"x1UMqG\" d=\"M8.695 16.682C4.06 12.382 1 9.536 1 6.065 1 3.219 3.178 1 5.95 1c1.566 0 3.069.746 4.05 1.915C10.981 1.745 12.484 1 14.05 1 16.822 1 19 3.22 19 6.065c0 3.471-3.06 6.316-7.695 10.617L10 17.897l-1.305-1.215z\" fill=\"#2874F0\" fill-rule=\"evenodd\" opacity=\".9\" stroke=\"#FFF\"></path></svg></div></div></div><div class=\"yKfJKb row\"><div class=\"col col-7-12\"><div class=\"KzDlHZ\">POCO C75 5G (Enchanted Green, 64 GB)</div><div class=\"_5OesEi\"><span class=\"Y1HWO0\" id=\"productRating_LSTMOBH7443VEGWXG4GOW118G_MOBH7443VEGWXG4G_\"><div class=\"XQDdHH\">4.3<img class=\"Rza2QY\" src=\"data:image/svg+xml;base64,PHN2ZyB4bWxucz0iaHR0cDovL3d3dy53My5vcmcvMjAwMC9zdmciIHdpZHRoPSIxMyIgaGVpZ2h0PSIxMiI+PHBhdGggZmlsbD0iI0ZGRiIgZD0iTTYuNSA5LjQzOWwtMy42NzQgMi4yMy45NC00LjI2LTMuMjEtMi44ODMgNC4yNTQtLjQwNEw2LjUuMTEybDEuNjkgNC4wMSA0LjI1NC40MDQtMy4yMSAyLjg4Mi45NCA0LjI2eiIvPjwvc3ZnPg==\"/></div></span><span class=\"Wphh3N\"><span><span>70,650 Ratings </span><span class=\"hG7V+4\">&amp;</span><span> 3,673 Reviews</span></span></span></div><div class=\"_6NESgJ\"><ul class=\"G4BRas\"><li class=\"J+igdf\">4 GB RAM | 64 GB ROM | Expandable Upto 1 TB</li><li class=\"J+igdf\">17.48 cm (6.88 inch) HD+ Display</li><li class=\"J+igdf\">50MP Rear Camera | 5MP Front Camera</li><li class=\"J+igdf\">5160 mAh Battery</li><li class=\"J+igdf\">4s Gen 2 5G Processor</li><li class=\"J+igdf\">1 Year Manufacturer Warranty for Phone and 6 Months Warranty for In the Box Accessories</li></ul></div></div><div class=\"col col-5-12 BfVC2z\"><div class=\"cN1yYO\"><div class=\"hl05eU\"><div class=\"Nx9bqj _4b5DiR\">₹7,699</div><div class=\"yRaY8j ZYYwLA\">₹<!-- -->10,999</div><div class=\"UkUFwK\"><span>30% off</span></div></div></div><div class=\"_0CSTHy\"><img height=\"21\" src=\"//static-assets-web.flixcart.com/fk-p-linchpin-web/fk-cp-zion/img/fa_9e47c1.png\"/></div><div class=\"M4DNwV\"><div class=\"n5vj9c\"><div class=\"yiggsN O5Fpg8\" style=\"color:#000000;font-size:14px;font-style:normal;font-weight:400\">Upto </div><div class=\"yiggsN O5Fpg8\" style=\"color:#000000;font-size:14px;font-style:normal;font-weight:700\">₹6,350</div><div class=\"yiggsN O5Fpg8\" style=\"color:#000000;font-size:14px;font-style:normal;font-weight:400\"> Off on Exchange</div></div></div><div class=\"M4DNwV\"><div class=\"n5vj9c\"><div class=\"yiggsN O5Fpg8\" style=\"color:#26A541;font-size:14px;font-weight:700\">Bank Offer</div></div></div></div></div></a></div></div></div></div><div class=\"cPHDOP col-12-12\"><div class=\"_75nlfW\"><div data-id=\"MOBGWZUWRM7SF3FH\" style=\"width:100%\"><div class=\"tUxRFH\"><a class=\"CGtC98\" href=\"/nokia-105-classic-charger/p/itmce67f340bc3c1?pid=MOBGWZUWRM7SF3FH&amp;lid=LSTMOBGWZUWRM7SF3FHQUS8ER&amp;marketplace=FLIPKART&amp;q=mobiles&amp;store=tyy%2F4io&amp;srno=s_1_11&amp;otracker=AS_Query_HistoryAutoSuggest_1_6_na_na_na&amp;otracker1=AS_Query_HistoryAutoSuggest_1_6_na_na_na&amp;fm=organic&amp;iid=c5ec3324-e01e-40b6-9b71-46d214890fe9.MOBGWZUWRM7SF3FH.SEARCH&amp;ppt=None&amp;ppn=None&amp;ssid=z6wz3476rk0000001751655956048&amp;qH=eb4af0bf07c16429\" rel=\"noopener noreferrer\" target=\"_blank\"><div class=\"Otbq5D\"><div class=\"yPq5Io\"><div><div class=\"_4WELSP\" style=\"height:200px;width:200px\"><img alt=\"Nokia 105 Classic with Charger\" class=\"DByuf4\" loading=\"eager\" src=\"https://rukminim2.flixcart.com/image/312/312/xif0q/mobile/p/o/i/105-single-sim-keypad-mobile-phone-with-wireless-fm-radio-nokia-original-imah2xgc9z6cwcqv.jpeg?q=70\"/></div></div></div><div class=\"qaR90o\"><div class=\"A8uQAd\"><span class=\"Lni97G\"><label class=\"tJjCVx\"><input class=\"vn9L2C\" readonly=\"\" type=\"checkbox\"/><div class=\"XqNaEv\"></div></label></span><label class=\"uu79Xy\"><span>Add to Compare</span></label></div></div><div class=\"oUss6M ssUU08\"><div class=\"+7E521\"><svg class=\"N1bADF\" height=\"16\" viewbox=\"0 0 20 16\" width=\"16\" xmlns=\"http://www.w3.org/2000/svg\"><path class=\"x1UMqG\" d=\"M8.695 16.682C4.06 12.382 1 9.536 1 6.065 1 3.219 3.178 1 5.95 1c1.566 0 3.069.746 4.05 1.915C10.981 1.745 12.484 1 14.05 1 16.822 1 19 3.22 19 6.065c0 3.471-3.06 6.316-7.695 10.617L10 17.897l-1.305-1.215z\" fill=\"#2874F0\" fill-rule=\"evenodd\" opacity=\".9\" stroke=\"#FFF\"></path></svg></div></div></div><div class=\"yKfJKb row\"><div class=\"col col-7-12\"><div class=\"KzDlHZ\">Nokia 105 Classic with Charger</div><div class=\"_5OesEi\"><span class=\"Y1HWO0\" id=\"productRating_LSTMOBGWZUWRM7SF3FHQUS8ER_MOBGWZUWRM7SF3FH_\"><div class=\"XQDdHH\">3.7<img class=\"Rza2QY\" src=\"data:image/svg+xml;base64,PHN2ZyB4bWxucz0iaHR0cDovL3d3dy53My5vcmcvMjAwMC9zdmciIHdpZHRoPSIxMyIgaGVpZ2h0PSIxMiI+PHBhdGggZmlsbD0iI0ZGRiIgZD0iTTYuNSA5LjQzOWwtMy42NzQgMi4yMy45NC00LjI2LTMuMjEtMi44ODMgNC4yNTQtLjQwNEw2LjUuMTEybDEuNjkgNC4wMSA0LjI1NC40MDQtMy4yMSAyLjg4Mi45NCA0LjI2eiIvPjwvc3ZnPg==\"/></div></span><span class=\"Wphh3N\"><span><span>5,435 Ratings </span><span class=\"hG7V+4\">&amp;</span><span> 350 Reviews</span></span></span></div><div class=\"_6NESgJ\"><ul class=\"G4BRas\"><li class=\"J+igdf\">32 MB RAM | 32 MB ROM</li><li class=\"J+igdf\">4.5 cm (1.77 inch) Display</li><li class=\"J+igdf\">0MP Front Camera</li><li class=\"J+igdf\">800 mAh Battery</li><li class=\"J+igdf\">SC6531E Processor</li><li class=\"J+igdf\">1 Month Company Domestic Warranty by Company Authorized Service Center.</li></ul></div></div><div class=\"col col-5-12 BfVC2z\"><div class=\"cN1yYO\"><div class=\"hl05eU\"><div class=\"Nx9bqj _4b5DiR\">₹935</div><div class=\"yRaY8j ZYYwLA\">₹<!-- -->1,499</div><div class=\"UkUFwK\"><span>37% off</span></div></div></div><div class=\"M4DNwV\"><div class=\"n5vj9c\"><div class=\"yiggsN O5Fpg8\" style=\"color:#C70055;font-size:12px;font-weight:700\">Only few left</div></div></div><div class=\"M4DNwV\"><div class=\"n5vj9c\"><div class=\"yiggsN O5Fpg8\" style=\"color:#26A541;font-size:14px;font-weight:700\">Bank Offer</div></div></div></div></div></a></div></div></div></div><div class=\"cPHDOP col-12-12\"><div class=\"_75nlfW\"><div data-id=\"MOBH74433ZER9U4P\" style=\"width:100%\"><div class=\"tUxRFH\"><a class=\"CGtC98\" href=\"/poco-c75-5g-silver-stardust-64-gb/p/itm8e3f17ac2e724?pid=MOBH74433ZER9U4P&amp;lid=LSTMOBH74433ZER9U4PIUMZCQ&amp;marketplace=FLIPKART&amp;q=mobiles&amp;store=tyy%2F4io&amp;srno=s_1_12&amp;otracker=AS_Query_HistoryAutoSuggest_1_6_na_na_na&amp;otracker1=AS_Query_HistoryAutoSuggest_1_6_na_na_na&amp;fm=organic&amp;iid=c5ec3324-e01e-40b6-9b71-46d214890fe9.MOBH74433ZER9U4P.SEARCH&amp;ppt=None&amp;ppn=None&amp;ssid=z6wz3476rk0000001751655956048&amp;qH=eb4af0bf07c16429\" rel=\"noopener noreferrer\" target=\"_blank\"><div class=\"Otbq5D\"><div class=\"yPq5Io\"><div><div class=\"_4WELSP\" style=\"height:200px;width:200px\"><img alt=\"POCO C75 5G (Silver Stardust, 64 GB)\" class=\"DByuf4\" loading=\"eager\" src=\"https://rukminim2.flixcart.com/image/312/312/xif0q/mobile/i/b/b/-original-imahbr2czzcrgfx7.jpeg?q=70\"/></div></div></div><div class=\"qaR90o\"><div class=\"A8uQAd\"><span class=\"Lni97G\"><label class=\"tJjCVx\"><input class=\"vn9L2C\" readonly=\"\" type=\"checkbox\"/><div class=\"XqNaEv\"></div></label></span><label class=\"uu79Xy\"><span>Add to Compare</span></label></div></div><div class=\"oUss6M ssUU08\"><div class=\"+7E521\"><svg class=\"N1bADF\" height=\"16\" viewbox=\"0 0 20 16\" width=\"16\" xmlns=\"http://www.w3.org/2000/svg\"><path class=\"x1UMqG\" d=\"M8.695 16.682C4.06 12.382 1 9.536 1 6.065 1 3.219 3.178 1 5.95 1c1.566 0 3.069.746 4.05 1.915C10.981 1.745 12.484 1 14.05 1 16.822 1 19 3.22 19 6.065c0 3.471-3.06 6.316-7.695 10.617L10 17.897l-1.305-1.215z\" fill=\"#2874F0\" fill-rule=\"evenodd\" opacity=\".9\" stroke=\"#FFF\"></path></svg></div></div></div><div class=\"yKfJKb row\"><div class=\"col col-7-12\"><div class=\"KzDlHZ\">POCO C75 5G (Silver Stardust, 64 GB)</div><div class=\"_5OesEi\"><span class=\"Y1HWO0\" id=\"productRating_LSTMOBH74433ZER9U4PIUMZCQ_MOBH74433ZER9U4P_\"><div class=\"XQDdHH\">4.3<img class=\"Rza2QY\" src=\"data:image/svg+xml;base64,PHN2ZyB4bWxucz0iaHR0cDovL3d3dy53My5vcmcvMjAwMC9zdmciIHdpZHRoPSIxMyIgaGVpZ2h0PSIxMiI+PHBhdGggZmlsbD0iI0ZGRiIgZD0iTTYuNSA5LjQzOWwtMy42NzQgMi4yMy45NC00LjI2LTMuMjEtMi44ODMgNC4yNTQtLjQwNEw2LjUuMTEybDEuNjkgNC4wMSA0LjI1NC40MDQtMy4yMSAyLjg4Mi45NCA0LjI2eiIvPjwvc3ZnPg==\"/></div></span><span class=\"Wphh3N\"><span><span>70,650 Ratings </span><span class=\"hG7V+4\">&amp;</span><span> 3,673 Reviews</span></span></span></div><div class=\"_6NESgJ\"><ul class=\"G4BRas\"><li class=\"J+igdf\">4 GB RAM | 64 GB ROM | Expandable Upto 1 TB</li><li class=\"J+igdf\">17.48 cm (6.88 inch) HD+ Display</li><li class=\"J+igdf\">50MP Rear Camera | 5MP Front Camera</li><li class=\"J+igdf\">5160 mAh Battery</li><li class=\"J+igdf\">4s Gen 2 5G Processor</li><li class=\"J+igdf\">1 Year Manufacturer Warranty for Phone and 6 Months Warranty for In the Box Accessories</li></ul></div></div><div class=\"col col-5-12 BfVC2z\"><div class=\"cN1yYO\"><div class=\"hl05eU\"><div class=\"Nx9bqj _4b5DiR\">₹7,699</div><div class=\"yRaY8j ZYYwLA\">₹<!-- -->10,999</div><div class=\"UkUFwK\"><span>30% off</span></div></div></div><div class=\"_0CSTHy\"><img height=\"21\" src=\"//static-assets-web.flixcart.com/fk-p-linchpin-web/fk-cp-zion/img/fa_9e47c1.png\"/></div><div class=\"M4DNwV\"><div class=\"n5vj9c\"><div class=\"yiggsN O5Fpg8\" style=\"color:#000000;font-size:14px;font-style:normal;font-weight:400\">Upto </div><div class=\"yiggsN O5Fpg8\" style=\"color:#000000;font-size:14px;font-style:normal;font-weight:700\">₹6,350</div><div class=\"yiggsN O5Fpg8\" style=\"color:#000000;font-size:14px;font-style:normal;font-weight:400\"> Off on Exchange</div></div></div><div class=\"M4DNwV\"><div class=\"n5vj9c\"><div class=\"yiggsN O5Fpg8\" style=\"color:#26A541;font-size:14px;font-weight:700\">Bank Offer</div></div></div></div></div></a></div></div></div></div><div class=\"cPHDOP col-12-12\"><div class=\"_75nlfW\"><div data-id=\"MOBHAFVJ8WXHR5FT\" style=\"width:100%\"><div class=\"tUxRFH\"><a class=\"CGtC98\" href=\"/poco-c71-desert-gold-128-gb/p/itm2a2ad903f91f4?pid=MOBHAFVJ8WXHR5FT&amp;lid=LSTMOBHAFVJ8WXHR5FTKIOCQ2&amp;marketplace=FLIPKART&amp;q=mobiles&amp;store=tyy%2F4io&amp;srno=s_1_13&amp;otracker=AS_Query_HistoryAutoSuggest_1_6_na_na_na&amp;otracker1=AS_Query_HistoryAutoSuggest_1_6_na_na_na&amp;fm=organic&amp;iid=c5ec3324-e01e-40b6-9b71-46d214890fe9.MOBHAFVJ8WXHR5FT.SEARCH&amp;ppt=None&amp;ppn=None&amp;ssid=z6wz3476rk0000001751655956048&amp;qH=eb4af0bf07c16429\" rel=\"noopener noreferrer\" target=\"_blank\"><div class=\"Otbq5D\"><div class=\"yPq5Io\"><div><div class=\"_4WELSP\" style=\"height:200px;width:200px\"><img alt=\"POCO C71 (Desert Gold, 128 GB)\" class=\"DByuf4\" loading=\"eager\" src=\"https://rukminim2.flixcart.com/image/312/312/xif0q/mobile/u/c/i/-original-imahawgayvnqkzaz.jpeg?q=70\"/></div></div></div><div class=\"qaR90o\"><div class=\"A8uQAd\"><span class=\"Lni97G\"><label class=\"tJjCVx\"><input class=\"vn9L2C\" readonly=\"\" type=\"checkbox\"/><div class=\"XqNaEv\"></div></label></span><label class=\"uu79Xy\"><span>Add to Compare</span></label></div></div><div class=\"oUss6M ssUU08\"><div class=\"+7E521\"><svg class=\"N1bADF\" height=\"16\" viewbox=\"0 0 20 16\" width=\"16\" xmlns=\"http://www.w3.org/2000/svg\"><path class=\"x1UMqG\" d=\"M8.695 16.682C4.06 12.382 1 9.536 1 6.065 1 3.219 3.178 1 5.95 1c1.566 0 3.069.746 4.05 1.915C10.981 1.745 12.484 1 14.05 1 16.822 1 19 3.22 19 6.065c0 3.471-3.06 6.316-7.695 10.617L10 17.897l-1.305-1.215z\" fill=\"#2874F0\" fill-rule=\"evenodd\" opacity=\".9\" stroke=\"#FFF\"></path></svg></div></div></div><div class=\"yKfJKb row\"><div class=\"col col-7-12\"><div class=\"KzDlHZ\">POCO C71 (Desert Gold, 128 GB)</div><div class=\"_5OesEi\"><span class=\"Y1HWO0\" id=\"productRating_LSTMOBHAFVJ8WXHR5FTKIOCQ2_MOBHAFVJ8WXHR5FT_\"><div class=\"XQDdHH\">4.1<img class=\"Rza2QY\" src=\"data:image/svg+xml;base64,PHN2ZyB4bWxucz0iaHR0cDovL3d3dy53My5vcmcvMjAwMC9zdmciIHdpZHRoPSIxMyIgaGVpZ2h0PSIxMiI+PHBhdGggZmlsbD0iI0ZGRiIgZD0iTTYuNSA5LjQzOWwtMy42NzQgMi4yMy45NC00LjI2LTMuMjEtMi44ODMgNC4yNTQtLjQwNEw2LjUuMTEybDEuNjkgNC4wMSA0LjI1NC40MDQtMy4yMSAyLjg4Mi45NCA0LjI2eiIvPjwvc3ZnPg==\"/></div></span><span class=\"Wphh3N\"><span><span>5,334 Ratings </span><span class=\"hG7V+4\">&amp;</span><span> 324 Reviews</span></span></span></div><div class=\"_6NESgJ\"><ul class=\"G4BRas\"><li class=\"J+igdf\">6 GB RAM | 128 GB ROM | Expandable Upto 2 TB</li><li class=\"J+igdf\">17.48 cm (6.88 inch) HD+ Display</li><li class=\"J+igdf\">32MP Rear Camera | 8MP Front Camera</li><li class=\"J+igdf\">5200 mAh Battery</li><li class=\"J+igdf\">Unisoc T7250\n",
      "Max clock speed: \n",
      "2 x A75@1.8GHz\n",
      "6 x A55@1.6GHz Processor</li><li class=\"J+igdf\">1 Year Manufacturer Warranty for Phone and 6 Months Warranty for In the Box Accessories</li></ul></div></div><div class=\"col col-5-12 BfVC2z\"><div class=\"cN1yYO\"><div class=\"hl05eU\"><div class=\"Nx9bqj _4b5DiR\">₹6,999</div><div class=\"yRaY8j ZYYwLA\">₹<!-- -->9,999</div><div class=\"UkUFwK\"><span>30% off</span></div></div></div><div class=\"_0CSTHy\"><img height=\"21\" src=\"//static-assets-web.flixcart.com/fk-p-linchpin-web/fk-cp-zion/img/fa_9e47c1.png\"/></div><div class=\"M4DNwV\"><div class=\"n5vj9c\"><div class=\"yiggsN O5Fpg8\" style=\"color:#000000;font-size:14px;font-style:normal;font-weight:400\">Upto </div><div class=\"yiggsN O5Fpg8\" style=\"color:#000000;font-size:14px;font-style:normal;font-weight:700\">₹5,700</div><div class=\"yiggsN O5Fpg8\" style=\"color:#000000;font-size:14px;font-style:normal;font-weight:400\"> Off on Exchange</div></div></div><div class=\"M4DNwV\"><div class=\"n5vj9c\"><div class=\"yiggsN O5Fpg8\" style=\"color:#26A541;font-size:14px;font-weight:700\">Bank Offer</div></div></div></div></div></a></div></div></div></div><div class=\"cPHDOP col-12-12\"><div class=\"_75nlfW\"><div data-id=\"MOBH5F3QKFHEGBFS\" style=\"width:100%\"><div class=\"tUxRFH\"><a class=\"CGtC98\" href=\"/motorola-g05-plum-red-64-gb/p/itm87af8109384d4?pid=MOBH5F3QKFHEGBFS&amp;lid=LSTMOBH5F3QKFHEGBFSYF5LHW&amp;marketplace=FLIPKART&amp;q=mobiles&amp;store=tyy%2F4io&amp;srno=s_1_14&amp;otracker=AS_Query_HistoryAutoSuggest_1_6_na_na_na&amp;otracker1=AS_Query_HistoryAutoSuggest_1_6_na_na_na&amp;fm=organic&amp;iid=c5ec3324-e01e-40b6-9b71-46d214890fe9.MOBH5F3QKFHEGBFS.SEARCH&amp;ppt=None&amp;ppn=None&amp;ssid=z6wz3476rk0000001751655956048&amp;qH=eb4af0bf07c16429\" rel=\"noopener noreferrer\" target=\"_blank\"><div class=\"Otbq5D\"><div class=\"yPq5Io\"><div><div class=\"_4WELSP\" style=\"height:200px;width:200px\"><img alt=\"MOTOROLA g05 (Plum Red, 64 GB)\" class=\"DByuf4\" loading=\"eager\" src=\"https://rukminim2.flixcart.com/image/312/312/xif0q/mobile/d/j/b/-original-imah83ezvx8m7hs6.jpeg?q=70\"/></div></div></div><div class=\"qaR90o\"><div class=\"A8uQAd\"><span class=\"Lni97G\"><label class=\"tJjCVx\"><input class=\"vn9L2C\" readonly=\"\" type=\"checkbox\"/><div class=\"XqNaEv\"></div></label></span><label class=\"uu79Xy\"><span>Add to Compare</span></label></div></div><div class=\"oUss6M ssUU08\"><div class=\"+7E521\"><svg class=\"N1bADF\" height=\"16\" viewbox=\"0 0 20 16\" width=\"16\" xmlns=\"http://www.w3.org/2000/svg\"><path class=\"x1UMqG\" d=\"M8.695 16.682C4.06 12.382 1 9.536 1 6.065 1 3.219 3.178 1 5.95 1c1.566 0 3.069.746 4.05 1.915C10.981 1.745 12.484 1 14.05 1 16.822 1 19 3.22 19 6.065c0 3.471-3.06 6.316-7.695 10.617L10 17.897l-1.305-1.215z\" fill=\"#2874F0\" fill-rule=\"evenodd\" opacity=\".9\" stroke=\"#FFF\"></path></svg></div></div></div><div class=\"yKfJKb row\"><div class=\"col col-7-12\"><div class=\"KzDlHZ\">MOTOROLA g05 (Plum Red, 64 GB)</div><div class=\"_5OesEi\"><span class=\"Y1HWO0\" id=\"productRating_LSTMOBH5F3QKFHEGBFSYF5LHW_MOBH5F3QKFHEGBFS_\"><div class=\"XQDdHH\">4.2<img class=\"Rza2QY\" src=\"data:image/svg+xml;base64,PHN2ZyB4bWxucz0iaHR0cDovL3d3dy53My5vcmcvMjAwMC9zdmciIHdpZHRoPSIxMyIgaGVpZ2h0PSIxMiI+PHBhdGggZmlsbD0iI0ZGRiIgZD0iTTYuNSA5LjQzOWwtMy42NzQgMi4yMy45NC00LjI2LTMuMjEtMi44ODMgNC4yNTQtLjQwNEw2LjUuMTEybDEuNjkgNC4wMSA0LjI1NC40MDQtMy4yMSAyLjg4Mi45NCA0LjI2eiIvPjwvc3ZnPg==\"/></div></span><span class=\"Wphh3N\"><span><span>36,685 Ratings </span><span class=\"hG7V+4\">&amp;</span><span> 2,753 Reviews</span></span></span></div><div class=\"_6NESgJ\"><ul class=\"G4BRas\"><li class=\"J+igdf\">4 GB RAM | 64 GB ROM | Expandable Upto 1 TB</li><li class=\"J+igdf\">16.94 cm (6.67 inch) HD+ Display</li><li class=\"J+igdf\">50MP Rear Camera | 8MP Front Camera</li><li class=\"J+igdf\">5200 mAh Battery</li><li class=\"J+igdf\">Helio G81 Processor</li><li class=\"J+igdf\">1 Year Warranty on Handset and 6 Months Warranty on Accessories</li></ul></div></div><div class=\"col col-5-12 BfVC2z\"><div class=\"cN1yYO\"><div class=\"hl05eU\"><div class=\"Nx9bqj _4b5DiR\">₹7,299</div><div class=\"yRaY8j ZYYwLA\">₹<!-- -->9,999</div><div class=\"UkUFwK\"><span>27% off</span></div></div></div><div class=\"_0CSTHy\"><img height=\"21\" src=\"//static-assets-web.flixcart.com/fk-p-linchpin-web/fk-cp-zion/img/fa_9e47c1.png\"/></div><div class=\"M4DNwV\"><div class=\"n5vj9c\"><div class=\"yiggsN O5Fpg8\" style=\"color:#000000;font-size:14px;font-style:normal;font-weight:400\">Upto </div><div class=\"yiggsN O5Fpg8\" style=\"color:#000000;font-size:14px;font-style:normal;font-weight:700\">₹5,950</div><div class=\"yiggsN O5Fpg8\" style=\"color:#000000;font-size:14px;font-style:normal;font-weight:400\"> Off on Exchange</div></div></div><div class=\"M4DNwV\"><div class=\"n5vj9c\"><div class=\"yiggsN O5Fpg8\" style=\"color:#26A541;font-size:14px;font-weight:700\">Bank Offer</div></div></div></div></div></a></div></div></div></div><div class=\"cPHDOP col-12-12\"><div class=\"_75nlfW\"><div data-id=\"MOBHB2HGNGFWXSGA\" style=\"width:100%\"><div class=\"tUxRFH\"><a class=\"CGtC98\" href=\"/redmi-a5-just-black-64-gb/p/itm2b4357effaa74?pid=MOBHB2HGNGFWXSGA&amp;lid=LSTMOBHB2HGNGFWXSGAEDTCWH&amp;marketplace=FLIPKART&amp;q=mobiles&amp;store=tyy%2F4io&amp;srno=s_1_15&amp;otracker=AS_Query_HistoryAutoSuggest_1_6_na_na_na&amp;otracker1=AS_Query_HistoryAutoSuggest_1_6_na_na_na&amp;fm=organic&amp;iid=c5ec3324-e01e-40b6-9b71-46d214890fe9.MOBHB2HGNGFWXSGA.SEARCH&amp;ppt=None&amp;ppn=None&amp;ssid=z6wz3476rk0000001751655956048&amp;qH=eb4af0bf07c16429\" rel=\"noopener noreferrer\" target=\"_blank\"><div class=\"Otbq5D\"><div class=\"yPq5Io\"><div><div class=\"_4WELSP\" style=\"height:200px;width:200px\"><img alt=\"REDMI A5 (Just Black, 64 GB)\" class=\"DByuf4\" loading=\"eager\" src=\"https://rukminim2.flixcart.com/image/312/312/xif0q/mobile/p/4/r/-original-imahb56zdgszp7tg.jpeg?q=70\"/></div></div></div><div class=\"qaR90o\"><div class=\"A8uQAd\"><span class=\"Lni97G\"><label class=\"tJjCVx\"><input class=\"vn9L2C\" readonly=\"\" type=\"checkbox\"/><div class=\"XqNaEv\"></div></label></span><label class=\"uu79Xy\"><span>Add to Compare</span></label></div></div><div class=\"oUss6M ssUU08\"><div class=\"+7E521\"><svg class=\"N1bADF\" height=\"16\" viewbox=\"0 0 20 16\" width=\"16\" xmlns=\"http://www.w3.org/2000/svg\"><path class=\"x1UMqG\" d=\"M8.695 16.682C4.06 12.382 1 9.536 1 6.065 1 3.219 3.178 1 5.95 1c1.566 0 3.069.746 4.05 1.915C10.981 1.745 12.484 1 14.05 1 16.822 1 19 3.22 19 6.065c0 3.471-3.06 6.316-7.695 10.617L10 17.897l-1.305-1.215z\" fill=\"#2874F0\" fill-rule=\"evenodd\" opacity=\".9\" stroke=\"#FFF\"></path></svg></div></div></div><div class=\"yKfJKb row\"><div class=\"col col-7-12\"><div class=\"KzDlHZ\">REDMI A5 (Just Black, 64 GB)</div><div class=\"_5OesEi\"><span class=\"Y1HWO0\" id=\"productRating_LSTMOBHB2HGNGFWXSGAEDTCWH_MOBHB2HGNGFWXSGA_\"><div class=\"XQDdHH\">4.2<img class=\"Rza2QY\" src=\"data:image/svg+xml;base64,PHN2ZyB4bWxucz0iaHR0cDovL3d3dy53My5vcmcvMjAwMC9zdmciIHdpZHRoPSIxMyIgaGVpZ2h0PSIxMiI+PHBhdGggZmlsbD0iI0ZGRiIgZD0iTTYuNSA5LjQzOWwtMy42NzQgMi4yMy45NC00LjI2LTMuMjEtMi44ODMgNC4yNTQtLjQwNEw2LjUuMTEybDEuNjkgNC4wMSA0LjI1NC40MDQtMy4yMSAyLjg4Mi45NCA0LjI2eiIvPjwvc3ZnPg==\"/></div></span><span class=\"Wphh3N\"><span><span>1,547 Ratings </span><span class=\"hG7V+4\">&amp;</span><span> 79 Reviews</span></span></span></div><div class=\"_6NESgJ\"><ul class=\"G4BRas\"><li class=\"J+igdf\">3 GB RAM | 64 GB ROM | Expandable Upto 2 TB</li><li class=\"J+igdf\">17.48 cm (6.88 inch) HD+ Display</li><li class=\"J+igdf\">32MP Rear Camera | 8MP Front Camera</li><li class=\"J+igdf\">5200 mAh Battery</li><li class=\"J+igdf\">T7250 Processor</li><li class=\"J+igdf\">1 Year Manufacturer Warranty for Handset and 6 Months Warranty for In the Box Accessories</li></ul></div></div><div class=\"col col-5-12 BfVC2z\"><div class=\"cN1yYO\"><div class=\"hl05eU\"><div class=\"Nx9bqj _4b5DiR\">₹6,499</div><div class=\"yRaY8j ZYYwLA\">₹<!-- -->8,999</div><div class=\"UkUFwK\"><span>27% off</span></div></div></div><div class=\"_0CSTHy\"><img height=\"21\" src=\"//static-assets-web.flixcart.com/fk-p-linchpin-web/fk-cp-zion/img/fa_9e47c1.png\"/></div><div class=\"M4DNwV\"><div class=\"n5vj9c\"><div class=\"yiggsN O5Fpg8\" style=\"color:#000000;font-size:14px;font-style:normal;font-weight:400\">Upto </div><div class=\"yiggsN O5Fpg8\" style=\"color:#000000;font-size:14px;font-style:normal;font-weight:700\">₹5,250</div><div class=\"yiggsN O5Fpg8\" style=\"color:#000000;font-size:14px;font-style:normal;font-weight:400\"> Off on Exchange</div></div></div><div class=\"M4DNwV\"><div class=\"n5vj9c\"><div class=\"yiggsN O5Fpg8\" style=\"color:#26A541;font-size:14px;font-weight:700\">Bank Offer</div></div></div></div></div></a></div></div></div></div><div class=\"cPHDOP col-12-12\"><div class=\"_75nlfW\"><div data-id=\"MOBH2YYZTAGANHRG\" style=\"width:100%\"><div class=\"tUxRFH\"><a class=\"CGtC98\" href=\"/redmi-a3x-ocean-green-64-gb/p/itmae02f9f3f765a?pid=MOBH2YYZTAGANHRG&amp;lid=LSTMOBH2YYZTAGANHRGESK4PY&amp;marketplace=FLIPKART&amp;q=mobiles&amp;store=tyy%2F4io&amp;srno=s_1_16&amp;otracker=AS_Query_HistoryAutoSuggest_1_6_na_na_na&amp;otracker1=AS_Query_HistoryAutoSuggest_1_6_na_na_na&amp;fm=organic&amp;iid=c5ec3324-e01e-40b6-9b71-46d214890fe9.MOBH2YYZTAGANHRG.SEARCH&amp;ppt=None&amp;ppn=None&amp;ssid=z6wz3476rk0000001751655956048&amp;qH=eb4af0bf07c16429\" rel=\"noopener noreferrer\" target=\"_blank\"><div class=\"Otbq5D\"><div class=\"yPq5Io\"><div><div class=\"_4WELSP\" style=\"height:200px;width:200px\"><img alt=\"REDMI A3X (Ocean Green, 64 GB)\" class=\"DByuf4\" loading=\"eager\" src=\"https://rukminim2.flixcart.com/image/312/312/xif0q/mobile/y/s/d/a3x-24048rn6cl-redmi-original-imah8zszncah24z8.jpeg?q=70\"/></div></div></div><div class=\"qaR90o\"><div class=\"A8uQAd\"><span class=\"Lni97G\"><label class=\"tJjCVx\"><input class=\"vn9L2C\" readonly=\"\" type=\"checkbox\"/><div class=\"XqNaEv\"></div></label></span><label class=\"uu79Xy\"><span>Add to Compare</span></label></div></div><div class=\"oUss6M ssUU08\"><div class=\"+7E521\"><svg class=\"N1bADF\" height=\"16\" viewbox=\"0 0 20 16\" width=\"16\" xmlns=\"http://www.w3.org/2000/svg\"><path class=\"x1UMqG\" d=\"M8.695 16.682C4.06 12.382 1 9.536 1 6.065 1 3.219 3.178 1 5.95 1c1.566 0 3.069.746 4.05 1.915C10.981 1.745 12.484 1 14.05 1 16.822 1 19 3.22 19 6.065c0 3.471-3.06 6.316-7.695 10.617L10 17.897l-1.305-1.215z\" fill=\"#2874F0\" fill-rule=\"evenodd\" opacity=\".9\" stroke=\"#FFF\"></path></svg></div></div></div><div class=\"yKfJKb row\"><div class=\"col col-7-12\"><div class=\"KzDlHZ\">REDMI A3X (Ocean Green, 64 GB)</div><div class=\"_5OesEi\"><span class=\"Y1HWO0\" id=\"productRating_LSTMOBH2YYZTAGANHRGESK4PY_MOBH2YYZTAGANHRG_\"><div class=\"XQDdHH\">4.1<img class=\"Rza2QY\" src=\"data:image/svg+xml;base64,PHN2ZyB4bWxucz0iaHR0cDovL3d3dy53My5vcmcvMjAwMC9zdmciIHdpZHRoPSIxMyIgaGVpZ2h0PSIxMiI+PHBhdGggZmlsbD0iI0ZGRiIgZD0iTTYuNSA5LjQzOWwtMy42NzQgMi4yMy45NC00LjI2LTMuMjEtMi44ODMgNC4yNTQtLjQwNEw2LjUuMTEybDEuNjkgNC4wMSA0LjI1NC40MDQtMy4yMSAyLjg4Mi45NCA0LjI2eiIvPjwvc3ZnPg==\"/></div></span><span class=\"Wphh3N\"><span><span>7,906 Ratings </span><span class=\"hG7V+4\">&amp;</span><span> 355 Reviews</span></span></span></div><div class=\"_6NESgJ\"><ul class=\"G4BRas\"><li class=\"J+igdf\">3 GB RAM | 64 GB ROM | Expandable Upto 1 TB</li><li class=\"J+igdf\">17.04 cm (6.71 inch) HD+ Display</li><li class=\"J+igdf\">8MP Rear Camera | 5MP Front Camera</li><li class=\"J+igdf\">5000 mAh Battery</li><li class=\"J+igdf\">1 Year Manufacturer Warranty for Phone and 6 Months Warranty for In the Box Accessories</li></ul></div></div><div class=\"col col-5-12 BfVC2z\"><div class=\"cN1yYO\"><div class=\"hl05eU\"><div class=\"Nx9bqj _4b5DiR\">₹5,999</div><div class=\"yRaY8j ZYYwLA\">₹<!-- -->9,999</div><div class=\"UkUFwK\"><span>40% off</span></div></div></div><div class=\"_0CSTHy\"><img height=\"21\" src=\"//static-assets-web.flixcart.com/fk-p-linchpin-web/fk-cp-zion/img/fa_9e47c1.png\"/></div><div class=\"M4DNwV\"><div class=\"n5vj9c\"><div class=\"yiggsN O5Fpg8\" style=\"color:#000000;font-size:14px;font-style:normal;font-weight:400\">Upto </div><div class=\"yiggsN O5Fpg8\" style=\"color:#000000;font-size:14px;font-style:normal;font-weight:700\">₹4,850</div><div class=\"yiggsN O5Fpg8\" style=\"color:#000000;font-size:14px;font-style:normal;font-weight:400\"> Off on Exchange</div></div></div><div class=\"M4DNwV\"><div class=\"n5vj9c\"><div class=\"yiggsN O5Fpg8\" style=\"color:#26A541;font-size:14px;font-weight:700\">Bank Offer</div></div></div></div></div></a></div></div></div></div><div class=\"cPHDOP col-12-12\"><div class=\"_75nlfW\"><div data-id=\"MOBH2YYZPZ32HS9T\" style=\"width:100%\"><div class=\"tUxRFH\"><a class=\"CGtC98\" href=\"/redmi-a3x-olive-green-64-gb/p/itmae02f9f3f765a?pid=MOBH2YYZPZ32HS9T&amp;lid=LSTMOBH2YYZPZ32HS9TBHHZP4&amp;marketplace=FLIPKART&amp;q=mobiles&amp;store=tyy%2F4io&amp;srno=s_1_17&amp;otracker=AS_Query_HistoryAutoSuggest_1_6_na_na_na&amp;otracker1=AS_Query_HistoryAutoSuggest_1_6_na_na_na&amp;fm=organic&amp;iid=c5ec3324-e01e-40b6-9b71-46d214890fe9.MOBH2YYZPZ32HS9T.SEARCH&amp;ppt=None&amp;ppn=None&amp;ssid=z6wz3476rk0000001751655956048&amp;qH=eb4af0bf07c16429\" rel=\"noopener noreferrer\" target=\"_blank\"><div class=\"Otbq5D\"><div class=\"yPq5Io\"><div><div class=\"_4WELSP\" style=\"height:200px;width:200px\"><img alt=\"REDMI A3X (Olive Green, 64 GB)\" class=\"DByuf4\" loading=\"eager\" src=\"https://rukminim2.flixcart.com/image/312/312/xif0q/mobile/r/b/s/-original-imah2hfpqxjnkvts.jpeg?q=70\"/></div></div></div><div class=\"qaR90o\"><div class=\"A8uQAd\"><span class=\"Lni97G\"><label class=\"tJjCVx\"><input class=\"vn9L2C\" readonly=\"\" type=\"checkbox\"/><div class=\"XqNaEv\"></div></label></span><label class=\"uu79Xy\"><span>Add to Compare</span></label></div></div><div class=\"oUss6M ssUU08\"><div class=\"+7E521\"><svg class=\"N1bADF\" height=\"16\" viewbox=\"0 0 20 16\" width=\"16\" xmlns=\"http://www.w3.org/2000/svg\"><path class=\"x1UMqG\" d=\"M8.695 16.682C4.06 12.382 1 9.536 1 6.065 1 3.219 3.178 1 5.95 1c1.566 0 3.069.746 4.05 1.915C10.981 1.745 12.484 1 14.05 1 16.822 1 19 3.22 19 6.065c0 3.471-3.06 6.316-7.695 10.617L10 17.897l-1.305-1.215z\" fill=\"#2874F0\" fill-rule=\"evenodd\" opacity=\".9\" stroke=\"#FFF\"></path></svg></div></div></div><div class=\"yKfJKb row\"><div class=\"col col-7-12\"><div class=\"KzDlHZ\">REDMI A3X (Olive Green, 64 GB)</div><div class=\"_5OesEi\"><span class=\"Y1HWO0\" id=\"productRating_LSTMOBH2YYZPZ32HS9TBHHZP4_MOBH2YYZPZ32HS9T_\"><div class=\"XQDdHH\">4.1<img class=\"Rza2QY\" src=\"data:image/svg+xml;base64,PHN2ZyB4bWxucz0iaHR0cDovL3d3dy53My5vcmcvMjAwMC9zdmciIHdpZHRoPSIxMyIgaGVpZ2h0PSIxMiI+PHBhdGggZmlsbD0iI0ZGRiIgZD0iTTYuNSA5LjQzOWwtMy42NzQgMi4yMy45NC00LjI2LTMuMjEtMi44ODMgNC4yNTQtLjQwNEw2LjUuMTEybDEuNjkgNC4wMSA0LjI1NC40MDQtMy4yMSAyLjg4Mi45NCA0LjI2eiIvPjwvc3ZnPg==\"/></div></span><span class=\"Wphh3N\"><span><span>7,906 Ratings </span><span class=\"hG7V+4\">&amp;</span><span> 355 Reviews</span></span></span></div><div class=\"_6NESgJ\"><ul class=\"G4BRas\"><li class=\"J+igdf\">3 GB RAM | 64 GB ROM | Expandable Upto 1 TB</li><li class=\"J+igdf\">17.04 cm (6.71 inch) HD+ Display</li><li class=\"J+igdf\">8MP Rear Camera | 5MP Front Camera</li><li class=\"J+igdf\">5000 mAh Battery</li><li class=\"J+igdf\">1 Year Manufacturer Warranty for Phone and 6 Months Warranty for In the Box Accessories</li></ul></div></div><div class=\"col col-5-12 BfVC2z\"><div class=\"cN1yYO\"><div class=\"hl05eU\"><div class=\"Nx9bqj _4b5DiR\">₹5,999</div><div class=\"yRaY8j ZYYwLA\">₹<!-- -->9,999</div><div class=\"UkUFwK\"><span>40% off</span></div></div></div><div class=\"_0CSTHy\"><img height=\"21\" src=\"//static-assets-web.flixcart.com/fk-p-linchpin-web/fk-cp-zion/img/fa_9e47c1.png\"/></div><div class=\"M4DNwV\"><div class=\"n5vj9c\"><div class=\"yiggsN O5Fpg8\" style=\"color:#000000;font-size:14px;font-style:normal;font-weight:400\">Upto </div><div class=\"yiggsN O5Fpg8\" style=\"color:#000000;font-size:14px;font-style:normal;font-weight:700\">₹4,850</div><div class=\"yiggsN O5Fpg8\" style=\"color:#000000;font-size:14px;font-style:normal;font-weight:400\"> Off on Exchange</div></div></div><div class=\"M4DNwV\"><div class=\"n5vj9c\"><div class=\"yiggsN O5Fpg8\" style=\"color:#26A541;font-size:14px;font-weight:700\">Bank Offer</div></div></div></div></div></a></div></div></div></div><div class=\"cPHDOP col-12-12\"><div class=\"_75nlfW\"><div data-id=\"MOBH7443YUP5EJXZ\" style=\"width:100%\"><div class=\"tUxRFH\"><a class=\"CGtC98\" href=\"/poco-m7-pro-5g-lunar-dust-128-gb/p/itm59a079d57519a?pid=MOBH7443YUP5EJXZ&amp;lid=LSTMOBH7443YUP5EJXZN5B3CD&amp;marketplace=FLIPKART&amp;q=mobiles&amp;store=tyy%2F4io&amp;srno=s_1_18&amp;otracker=AS_Query_HistoryAutoSuggest_1_6_na_na_na&amp;otracker1=AS_Query_HistoryAutoSuggest_1_6_na_na_na&amp;fm=organic&amp;iid=c5ec3324-e01e-40b6-9b71-46d214890fe9.MOBH7443YUP5EJXZ.SEARCH&amp;ppt=None&amp;ppn=None&amp;ssid=z6wz3476rk0000001751655956048&amp;qH=eb4af0bf07c16429\" rel=\"noopener noreferrer\" target=\"_blank\"><div class=\"Otbq5D\"><div class=\"yPq5Io\"><div><div class=\"_4WELSP\" style=\"height:200px;width:200px\"><img alt=\"POCO M7 Pro 5G (Lunar Dust, 128 GB)\" class=\"DByuf4\" loading=\"eager\" src=\"https://rukminim2.flixcart.com/image/312/312/xif0q/mobile/v/m/x/-original-imah7jspd8dcxfut.jpeg?q=70\"/></div></div></div><div class=\"qaR90o\"><div class=\"A8uQAd\"><span class=\"Lni97G\"><label class=\"tJjCVx\"><input class=\"vn9L2C\" readonly=\"\" type=\"checkbox\"/><div class=\"XqNaEv\"></div></label></span><label class=\"uu79Xy\"><span>Add to Compare</span></label></div></div><div class=\"oUss6M ssUU08\"><div class=\"+7E521\"><svg class=\"N1bADF\" height=\"16\" viewbox=\"0 0 20 16\" width=\"16\" xmlns=\"http://www.w3.org/2000/svg\"><path class=\"x1UMqG\" d=\"M8.695 16.682C4.06 12.382 1 9.536 1 6.065 1 3.219 3.178 1 5.95 1c1.566 0 3.069.746 4.05 1.915C10.981 1.745 12.484 1 14.05 1 16.822 1 19 3.22 19 6.065c0 3.471-3.06 6.316-7.695 10.617L10 17.897l-1.305-1.215z\" fill=\"#2874F0\" fill-rule=\"evenodd\" opacity=\".9\" stroke=\"#FFF\"></path></svg></div></div></div><div class=\"yKfJKb row\"><div class=\"col col-7-12\"><div class=\"KzDlHZ\">POCO M7 Pro 5G (Lunar Dust, 128 GB)</div><div class=\"_5OesEi\"><span class=\"Y1HWO0\" id=\"productRating_LSTMOBH7443YUP5EJXZN5B3CD_MOBH7443YUP5EJXZ_\"><div class=\"XQDdHH\">4.3<img class=\"Rza2QY\" src=\"data:image/svg+xml;base64,PHN2ZyB4bWxucz0iaHR0cDovL3d3dy53My5vcmcvMjAwMC9zdmciIHdpZHRoPSIxMyIgaGVpZ2h0PSIxMiI+PHBhdGggZmlsbD0iI0ZGRiIgZD0iTTYuNSA5LjQzOWwtMy42NzQgMi4yMy45NC00LjI2LTMuMjEtMi44ODMgNC4yNTQtLjQwNEw2LjUuMTEybDEuNjkgNC4wMSA0LjI1NC40MDQtMy4yMSAyLjg4Mi45NCA0LjI2eiIvPjwvc3ZnPg==\"/></div></span><span class=\"Wphh3N\"><span><span>14,240 Ratings </span><span class=\"hG7V+4\">&amp;</span><span> 1,314 Reviews</span></span></span></div><div class=\"_6NESgJ\"><ul class=\"G4BRas\"><li class=\"J+igdf\">6 GB RAM | 128 GB ROM</li><li class=\"J+igdf\">16.94 cm (6.67 inch) Full HD+ Display</li><li class=\"J+igdf\">50MP + 2MP | 20MP Front Camera</li><li class=\"J+igdf\">5110 mAh Battery</li><li class=\"J+igdf\">Dimensity 7025 Ultra Processor</li><li class=\"J+igdf\">1 Year Manufacturer Warranty for Phone and 6 Months Warranty for In the Box Accessories</li></ul></div></div><div class=\"col col-5-12 BfVC2z\"><div class=\"cN1yYO\"><div class=\"hl05eU\"><div class=\"Nx9bqj _4b5DiR\">₹12,999</div><div class=\"yRaY8j ZYYwLA\">₹<!-- -->18,999</div><div class=\"UkUFwK\"><span>31% off</span></div></div></div><div class=\"_0CSTHy\"><img height=\"21\" src=\"//static-assets-web.flixcart.com/fk-p-linchpin-web/fk-cp-zion/img/fa_9e47c1.png\"/></div><div class=\"M4DNwV\"><div class=\"n5vj9c\"><div class=\"yiggsN O5Fpg8\" style=\"color:#000000;font-size:14px;font-style:normal;font-weight:400\">Upto </div><div class=\"yiggsN O5Fpg8\" style=\"color:#000000;font-size:14px;font-style:normal;font-weight:700\">₹10,900</div><div class=\"yiggsN O5Fpg8\" style=\"color:#000000;font-size:14px;font-style:normal;font-weight:400\"> Off on Exchange</div></div></div><div class=\"M4DNwV\"><div class=\"n5vj9c\"><div class=\"yiggsN O5Fpg8\" style=\"color:#26A541;font-size:14px;font-weight:700\">Bank Offer</div></div></div></div></div></a></div></div></div></div><div class=\"cPHDOP col-12-12\"><div class=\"_75nlfW\"><div data-id=\"MOBGQFVG9WPRN3TH\" style=\"width:100%\"><div class=\"tUxRFH\"><a class=\"CGtC98\" href=\"/nokia-105-single-sim-keypad-mobile-phone-wireless-fm-radio/p/itm1e2206f816463?pid=MOBGQFVG9WPRN3TH&amp;lid=LSTMOBGQFVG9WPRN3TH1E6AVL&amp;marketplace=FLIPKART&amp;q=mobiles&amp;store=tyy%2F4io&amp;srno=s_1_19&amp;otracker=AS_Query_HistoryAutoSuggest_1_6_na_na_na&amp;otracker1=AS_Query_HistoryAutoSuggest_1_6_na_na_na&amp;fm=organic&amp;iid=c5ec3324-e01e-40b6-9b71-46d214890fe9.MOBGQFVG9WPRN3TH.SEARCH&amp;ppt=None&amp;ppn=None&amp;ssid=z6wz3476rk0000001751655956048&amp;qH=eb4af0bf07c16429\" rel=\"noopener noreferrer\" target=\"_blank\"><div class=\"Otbq5D\"><div class=\"yPq5Io\"><div><div class=\"_4WELSP\" style=\"height:200px;width:200px\"><img alt=\"Nokia 105 Single SIM, Keypad Mobile Phone with Wireless FM Radio\" class=\"DByuf4\" loading=\"eager\" src=\"https://rukminim2.flixcart.com/image/312/312/xif0q/mobile/g/s/r/105-single-sim-keypad-mobile-phone-with-wireless-fm-radio-ta-original-imah53fqhhqyadgd.jpeg?q=70\"/></div></div></div><div class=\"qaR90o\"><div class=\"A8uQAd\"><span class=\"Lni97G\"><label class=\"tJjCVx\"><input class=\"vn9L2C\" readonly=\"\" type=\"checkbox\"/><div class=\"XqNaEv\"></div></label></span><label class=\"uu79Xy\"><span>Add to Compare</span></label></div></div><div class=\"oUss6M ssUU08\"><div class=\"+7E521\"><svg class=\"N1bADF\" height=\"16\" viewbox=\"0 0 20 16\" width=\"16\" xmlns=\"http://www.w3.org/2000/svg\"><path class=\"x1UMqG\" d=\"M8.695 16.682C4.06 12.382 1 9.536 1 6.065 1 3.219 3.178 1 5.95 1c1.566 0 3.069.746 4.05 1.915C10.981 1.745 12.484 1 14.05 1 16.822 1 19 3.22 19 6.065c0 3.471-3.06 6.316-7.695 10.617L10 17.897l-1.305-1.215z\" fill=\"#2874F0\" fill-rule=\"evenodd\" opacity=\".9\" stroke=\"#FFF\"></path></svg></div></div></div><div class=\"yKfJKb row\"><div class=\"col col-7-12\"><div class=\"KzDlHZ\">Nokia 105 Single SIM, Keypad Mobile Phone with Wireless FM Radio</div><div class=\"_5OesEi\"><span class=\"Y1HWO0\" id=\"productRating_LSTMOBGQFVG9WPRN3TH1E6AVL_MOBGQFVG9WPRN3TH_\"><div class=\"XQDdHH\">3.9<img class=\"Rza2QY\" src=\"data:image/svg+xml;base64,PHN2ZyB4bWxucz0iaHR0cDovL3d3dy53My5vcmcvMjAwMC9zdmciIHdpZHRoPSIxMyIgaGVpZ2h0PSIxMiI+PHBhdGggZmlsbD0iI0ZGRiIgZD0iTTYuNSA5LjQzOWwtMy42NzQgMi4yMy45NC00LjI2LTMuMjEtMi44ODMgNC4yNTQtLjQwNEw2LjUuMTEybDEuNjkgNC4wMSA0LjI1NC40MDQtMy4yMSAyLjg4Mi45NCA0LjI2eiIvPjwvc3ZnPg==\"/></div></span><span class=\"Wphh3N\"><span><span>1,57,035 Ratings </span><span class=\"hG7V+4\">&amp;</span><span> 9,914 Reviews</span></span></span></div><div class=\"_6NESgJ\"><ul class=\"G4BRas\"><li class=\"J+igdf\">32 MB RAM | 32 MB ROM</li><li class=\"J+igdf\">4.5 cm (1.77 inch) Display</li><li class=\"J+igdf\">0MP | 0MP Front Camera</li><li class=\"J+igdf\">1000 mAh Battery</li><li class=\"J+igdf\">SC6531E Processor</li><li class=\"J+igdf\">1YR BRAND WARRANTY ON HANDSET &amp; 6 MONTHS WARRANTY ON ACCESSORIES</li></ul></div></div><div class=\"col col-5-12 BfVC2z\"><div class=\"cN1yYO\"><div class=\"hl05eU\"><div class=\"Nx9bqj _4b5DiR\">₹989</div><div class=\"yRaY8j ZYYwLA\">₹<!-- -->1,499</div><div class=\"UkUFwK\"><span>34% off</span></div></div></div><div class=\"M4DNwV\"><div class=\"n5vj9c\"><div class=\"yiggsN O5Fpg8\" style=\"color:#C70055;font-size:12px;font-weight:700\">Only few left</div></div></div><div class=\"M4DNwV\"><div class=\"n5vj9c\"><div class=\"yiggsN O5Fpg8\" style=\"color:#26A541;font-size:14px;font-weight:700\">Bank Offer</div></div></div></div></div></a></div></div></div></div><div class=\"cPHDOP col-12-12\"><div class=\"_75nlfW\"><div data-id=\"MOBH9JUS4GGGPJHJ\" style=\"width:100%\"><div class=\"tUxRFH\"><a class=\"CGtC98\" href=\"/vivo-t4x-5g-pronto-purple-256-gb/p/itm017656bdd097b?pid=MOBH9JUS4GGGPJHJ&amp;lid=LSTMOBH9JUS4GGGPJHJMC4C45&amp;marketplace=FLIPKART&amp;q=mobiles&amp;store=tyy%2F4io&amp;srno=s_1_20&amp;otracker=AS_Query_HistoryAutoSuggest_1_6_na_na_na&amp;otracker1=AS_Query_HistoryAutoSuggest_1_6_na_na_na&amp;fm=organic&amp;iid=c5ec3324-e01e-40b6-9b71-46d214890fe9.MOBH9JUS4GGGPJHJ.SEARCH&amp;ppt=None&amp;ppn=None&amp;ssid=z6wz3476rk0000001751655956048&amp;qH=eb4af0bf07c16429\" rel=\"noopener noreferrer\" target=\"_blank\"><div class=\"Otbq5D\"><div class=\"yPq5Io\"><div><div class=\"_4WELSP\" style=\"height:200px;width:200px\"><img alt=\"vivo T4x 5G (Pronto Purple, 256 GB)\" class=\"DByuf4\" loading=\"eager\" src=\"https://rukminim2.flixcart.com/image/312/312/xif0q/mobile/j/t/v/-original-imahavdv28z4nrkn.jpeg?q=70\"/></div></div></div><div class=\"qaR90o\"><div class=\"A8uQAd\"><span class=\"Lni97G\"><label class=\"tJjCVx\"><input class=\"vn9L2C\" readonly=\"\" type=\"checkbox\"/><div class=\"XqNaEv\"></div></label></span><label class=\"uu79Xy\"><span>Add to Compare</span></label></div></div><div class=\"oUss6M ssUU08\"><div class=\"+7E521\"><svg class=\"N1bADF\" height=\"16\" viewbox=\"0 0 20 16\" width=\"16\" xmlns=\"http://www.w3.org/2000/svg\"><path class=\"x1UMqG\" d=\"M8.695 16.682C4.06 12.382 1 9.536 1 6.065 1 3.219 3.178 1 5.95 1c1.566 0 3.069.746 4.05 1.915C10.981 1.745 12.484 1 14.05 1 16.822 1 19 3.22 19 6.065c0 3.471-3.06 6.316-7.695 10.617L10 17.897l-1.305-1.215z\" fill=\"#2874F0\" fill-rule=\"evenodd\" opacity=\".9\" stroke=\"#FFF\"></path></svg></div></div></div><div class=\"yKfJKb row\"><div class=\"col col-7-12\"><div class=\"KzDlHZ\">vivo T4x 5G (Pronto Purple, 256 GB)</div><div class=\"_5OesEi\"><span class=\"Y1HWO0\" id=\"productRating_LSTMOBH9JUS4GGGPJHJMC4C45_MOBH9JUS4GGGPJHJ_\"><div class=\"XQDdHH\">4.5<img class=\"Rza2QY\" src=\"data:image/svg+xml;base64,PHN2ZyB4bWxucz0iaHR0cDovL3d3dy53My5vcmcvMjAwMC9zdmciIHdpZHRoPSIxMyIgaGVpZ2h0PSIxMiI+PHBhdGggZmlsbD0iI0ZGRiIgZD0iTTYuNSA5LjQzOWwtMy42NzQgMi4yMy45NC00LjI2LTMuMjEtMi44ODMgNC4yNTQtLjQwNEw2LjUuMTEybDEuNjkgNC4wMSA0LjI1NC40MDQtMy4yMSAyLjg4Mi45NCA0LjI2eiIvPjwvc3ZnPg==\"/></div></span><span class=\"Wphh3N\"><span><span>53,828 Ratings </span><span class=\"hG7V+4\">&amp;</span><span> 3,165 Reviews</span></span></span></div><div class=\"_6NESgJ\"><ul class=\"G4BRas\"><li class=\"J+igdf\">8 GB RAM | 256 GB ROM</li><li class=\"J+igdf\">17.07 cm (6.72 inch) Display</li><li class=\"J+igdf\">50MP + 2MP | 8MP Front Camera</li><li class=\"J+igdf\">6500 mAh Battery</li><li class=\"J+igdf\">Dimensity 7300 5G Processor</li><li class=\"J+igdf\">1 Year Warranty for Device and 6 Months Warranty for Accessories</li></ul></div></div><div class=\"col col-5-12 BfVC2z\"><div class=\"cN1yYO\"><div class=\"hl05eU\"><div class=\"Nx9bqj _4b5DiR\">₹16,999</div><div class=\"yRaY8j ZYYwLA\">₹<!-- -->20,999</div><div class=\"UkUFwK\"><span>19% off</span></div></div></div><div class=\"_0CSTHy\"><img height=\"21\" src=\"//static-assets-web.flixcart.com/fk-p-linchpin-web/fk-cp-zion/img/fa_9e47c1.png\"/></div><div class=\"M4DNwV\"><div class=\"n5vj9c\" style=\"padding-top:4px;padding-right:4px;padding-bottom:4px;padding-left:4px;border-radius:2px;background-color:#E7F8EC\"><div class=\"yiggsN O5Fpg8\" style=\"color:#26A541;font-size:12px;font-weight:700\">Lowest price since launch</div></div></div><div class=\"M4DNwV\"><div class=\"n5vj9c\"><div class=\"yiggsN O5Fpg8\" style=\"color:#000000;font-size:14px;font-style:normal;font-weight:400\">Upto </div><div class=\"yiggsN O5Fpg8\" style=\"color:#000000;font-size:14px;font-style:normal;font-weight:700\">₹14,100</div><div class=\"yiggsN O5Fpg8\" style=\"color:#000000;font-size:14px;font-style:normal;font-weight:400\"> Off on Exchange</div></div></div></div></div></a></div></div></div></div><div class=\"cPHDOP col-12-12\"><div class=\"_75nlfW\"><div data-id=\"MOBH3YKQT2HEAPAM\" style=\"width:100%\"><div class=\"tUxRFH\"><a class=\"CGtC98\" href=\"/motorola-g45-5g-brilliant-blue-128-gb/p/itmc45105311348e?pid=MOBH3YKQT2HEAPAM&amp;lid=LSTMOBH3YKQT2HEAPAMTX4TTX&amp;marketplace=FLIPKART&amp;q=mobiles&amp;store=tyy%2F4io&amp;srno=s_1_21&amp;otracker=AS_Query_HistoryAutoSuggest_1_6_na_na_na&amp;otracker1=AS_Query_HistoryAutoSuggest_1_6_na_na_na&amp;fm=organic&amp;iid=c5ec3324-e01e-40b6-9b71-46d214890fe9.MOBH3YKQT2HEAPAM.SEARCH&amp;ppt=None&amp;ppn=None&amp;ssid=z6wz3476rk0000001751655956048&amp;qH=eb4af0bf07c16429\" rel=\"noopener noreferrer\" target=\"_blank\"><div class=\"Otbq5D\"><div class=\"yPq5Io\"><div><div class=\"_4WELSP\" style=\"height:200px;width:200px\"><img alt=\"Motorola g45 5G (Brilliant Blue, 128 GB)\" class=\"DByuf4\" loading=\"eager\" src=\"https://rukminim2.flixcart.com/image/312/312/xif0q/mobile/r/l/c/-original-imah3xk892aj9gck.jpeg?q=70\"/></div></div></div><div class=\"qaR90o\"><div class=\"A8uQAd\"><span class=\"Lni97G\"><label class=\"tJjCVx\"><input class=\"vn9L2C\" readonly=\"\" type=\"checkbox\"/><div class=\"XqNaEv\"></div></label></span><label class=\"uu79Xy\"><span>Add to Compare</span></label></div></div><div class=\"oUss6M ssUU08\"><div class=\"+7E521\"><svg class=\"N1bADF\" height=\"16\" viewbox=\"0 0 20 16\" width=\"16\" xmlns=\"http://www.w3.org/2000/svg\"><path class=\"x1UMqG\" d=\"M8.695 16.682C4.06 12.382 1 9.536 1 6.065 1 3.219 3.178 1 5.95 1c1.566 0 3.069.746 4.05 1.915C10.981 1.745 12.484 1 14.05 1 16.822 1 19 3.22 19 6.065c0 3.471-3.06 6.316-7.695 10.617L10 17.897l-1.305-1.215z\" fill=\"#2874F0\" fill-rule=\"evenodd\" opacity=\".9\" stroke=\"#FFF\"></path></svg></div></div></div><div class=\"yKfJKb row\"><div class=\"col col-7-12\"><div class=\"KzDlHZ\">Motorola g45 5G (Brilliant Blue, 128 GB)</div><div class=\"_5OesEi\"><span class=\"Y1HWO0\" id=\"productRating_LSTMOBH3YKQT2HEAPAMTX4TTX_MOBH3YKQT2HEAPAM_\"><div class=\"XQDdHH\">4.3<img class=\"Rza2QY\" src=\"data:image/svg+xml;base64,PHN2ZyB4bWxucz0iaHR0cDovL3d3dy53My5vcmcvMjAwMC9zdmciIHdpZHRoPSIxMyIgaGVpZ2h0PSIxMiI+PHBhdGggZmlsbD0iI0ZGRiIgZD0iTTYuNSA5LjQzOWwtMy42NzQgMi4yMy45NC00LjI2LTMuMjEtMi44ODMgNC4yNTQtLjQwNEw2LjUuMTEybDEuNjkgNC4wMSA0LjI1NC40MDQtMy4yMSAyLjg4Mi45NCA0LjI2eiIvPjwvc3ZnPg==\"/></div></span><span class=\"Wphh3N\"><span><span>1,78,517 Ratings </span><span class=\"hG7V+4\">&amp;</span><span> 9,433 Reviews</span></span></span></div><div class=\"_6NESgJ\"><ul class=\"G4BRas\"><li class=\"J+igdf\">8 GB RAM | 128 GB ROM | Expandable Upto 1 TB</li><li class=\"J+igdf\">16.51 cm (6.5 inch) HD+ Display</li><li class=\"J+igdf\">50MP + 2MP | 16MP Front Camera</li><li class=\"J+igdf\">5000 mAh Battery</li><li class=\"J+igdf\">Snapdragon 6s Gen 3 Processor</li><li class=\"J+igdf\">1 Year Warranty on Handset and 6 Months Warranty on Accessories</li></ul></div></div><div class=\"col col-5-12 BfVC2z\"><div class=\"cN1yYO\"><div class=\"hl05eU\"><div class=\"Nx9bqj _4b5DiR\">₹11,999</div><div class=\"yRaY8j ZYYwLA\">₹<!-- -->14,999</div><div class=\"UkUFwK\"><span>20% off</span></div></div></div><div class=\"_0CSTHy\"><img height=\"21\" src=\"//static-assets-web.flixcart.com/fk-p-linchpin-web/fk-cp-zion/img/fa_9e47c1.png\"/></div><div class=\"M4DNwV\"><div class=\"n5vj9c\" style=\"padding-top:4px;padding-right:4px;padding-bottom:4px;padding-left:4px;border-radius:2px;background-color:#E7F8EC\"><div class=\"yiggsN O5Fpg8\" style=\"color:#26A541;font-size:12px;font-weight:700\">Lowest price since launch</div></div></div><div class=\"M4DNwV\"><div class=\"n5vj9c\"><div class=\"yiggsN O5Fpg8\" style=\"color:#000000;font-size:14px;font-style:normal;font-weight:400\">Upto </div><div class=\"yiggsN O5Fpg8\" style=\"color:#000000;font-size:14px;font-style:normal;font-weight:700\">₹10,100</div><div class=\"yiggsN O5Fpg8\" style=\"color:#000000;font-size:14px;font-style:normal;font-weight:400\"> Off on Exchange</div></div></div></div></div></a></div></div></div></div><div class=\"cPHDOP col-12-12\"><div class=\"_75nlfW\"><div data-id=\"MOBH7YRV6H3S2RZR\" style=\"width:100%\"><div class=\"tUxRFH\"><a class=\"CGtC98\" href=\"/motorola-g45-5g-pink-lavender-128-gb/p/itma6fda9356a204?pid=MOBH7YRV6H3S2RZR&amp;lid=LSTMOBH7YRV6H3S2RZRFJBYQU&amp;marketplace=FLIPKART&amp;q=mobiles&amp;store=tyy%2F4io&amp;srno=s_1_22&amp;otracker=AS_Query_HistoryAutoSuggest_1_6_na_na_na&amp;otracker1=AS_Query_HistoryAutoSuggest_1_6_na_na_na&amp;fm=organic&amp;iid=c5ec3324-e01e-40b6-9b71-46d214890fe9.MOBH7YRV6H3S2RZR.SEARCH&amp;ppt=None&amp;ppn=None&amp;ssid=z6wz3476rk0000001751655956048&amp;qH=eb4af0bf07c16429\" rel=\"noopener noreferrer\" target=\"_blank\"><div class=\"Otbq5D\"><div class=\"yPq5Io\"><div><div class=\"_4WELSP\" style=\"height:200px;width:200px\"><img alt=\"Motorola g45 5G (Pink Lavender, 128 GB)\" class=\"DByuf4\" loading=\"eager\" src=\"https://rukminim2.flixcart.com/image/312/312/xif0q/mobile/4/8/0/-original-imah8hd5nq8332tm.jpeg?q=70\"/></div></div></div><div class=\"qaR90o\"><div class=\"A8uQAd\"><span class=\"Lni97G\"><label class=\"tJjCVx\"><input class=\"vn9L2C\" readonly=\"\" type=\"checkbox\"/><div class=\"XqNaEv\"></div></label></span><label class=\"uu79Xy\"><span>Add to Compare</span></label></div></div><div class=\"oUss6M ssUU08\"><div class=\"+7E521\"><svg class=\"N1bADF\" height=\"16\" viewbox=\"0 0 20 16\" width=\"16\" xmlns=\"http://www.w3.org/2000/svg\"><path class=\"x1UMqG\" d=\"M8.695 16.682C4.06 12.382 1 9.536 1 6.065 1 3.219 3.178 1 5.95 1c1.566 0 3.069.746 4.05 1.915C10.981 1.745 12.484 1 14.05 1 16.822 1 19 3.22 19 6.065c0 3.471-3.06 6.316-7.695 10.617L10 17.897l-1.305-1.215z\" fill=\"#2874F0\" fill-rule=\"evenodd\" opacity=\".9\" stroke=\"#FFF\"></path></svg></div></div></div><div class=\"yKfJKb row\"><div class=\"col col-7-12\"><div class=\"KzDlHZ\">Motorola g45 5G (Pink Lavender, 128 GB)</div><div class=\"_5OesEi\"><span class=\"Y1HWO0\" id=\"productRating_LSTMOBH7YRV6H3S2RZRFJBYQU_MOBH7YRV6H3S2RZR_\"><div class=\"XQDdHH\">4.3<img class=\"Rza2QY\" src=\"data:image/svg+xml;base64,PHN2ZyB4bWxucz0iaHR0cDovL3d3dy53My5vcmcvMjAwMC9zdmciIHdpZHRoPSIxMyIgaGVpZ2h0PSIxMiI+PHBhdGggZmlsbD0iI0ZGRiIgZD0iTTYuNSA5LjQzOWwtMy42NzQgMi4yMy45NC00LjI2LTMuMjEtMi44ODMgNC4yNTQtLjQwNEw2LjUuMTEybDEuNjkgNC4wMSA0LjI1NC40MDQtMy4yMSAyLjg4Mi45NCA0LjI2eiIvPjwvc3ZnPg==\"/></div></span><span class=\"Wphh3N\"><span><span>45,456 Ratings </span><span class=\"hG7V+4\">&amp;</span><span> 2,848 Reviews</span></span></span></div><div class=\"_6NESgJ\"><ul class=\"G4BRas\"><li class=\"J+igdf\">4 GB RAM | 128 GB ROM | Expandable Upto 1 TB</li><li class=\"J+igdf\">16.51 cm (6.5 inch) HD+ Display</li><li class=\"J+igdf\">50MP + 2MP | 16MP Front Camera</li><li class=\"J+igdf\">5000 mAh Battery</li><li class=\"J+igdf\">Snapdragon 6s Gen 3 Processor</li><li class=\"J+igdf\">1 Year Warranty on Handset and 6 Months Warranty on Accessories</li></ul></div></div><div class=\"col col-5-12 BfVC2z\"><div class=\"cN1yYO\"><div class=\"hl05eU\"><div class=\"Nx9bqj _4b5DiR\">₹10,999</div><div class=\"yRaY8j ZYYwLA\">₹<!-- -->12,999</div><div class=\"UkUFwK\"><span>15% off</span></div></div></div><div class=\"_0CSTHy\"><img height=\"21\" src=\"//static-assets-web.flixcart.com/fk-p-linchpin-web/fk-cp-zion/img/fa_9e47c1.png\"/></div><div class=\"M4DNwV\"><div class=\"n5vj9c\"><div class=\"yiggsN O5Fpg8\" style=\"color:#000000;font-size:14px;font-style:normal;font-weight:400\">Upto </div><div class=\"yiggsN O5Fpg8\" style=\"color:#000000;font-size:14px;font-style:normal;font-weight:700\">₹9,150</div><div class=\"yiggsN O5Fpg8\" style=\"color:#000000;font-size:14px;font-style:normal;font-weight:400\"> Off on Exchange</div></div></div><div class=\"M4DNwV\"><div class=\"n5vj9c\"><div class=\"yiggsN O5Fpg8\" style=\"color:#26A541;font-size:14px;font-weight:700\">Bank Offer</div></div></div></div></div></a></div></div></div></div><div class=\"cPHDOP col-12-12\"><div class=\"_75nlfW\"><div data-id=\"MOBH2M2DTGYS9HPB\" style=\"width:100%\"><div class=\"tUxRFH\"><a class=\"CGtC98\" href=\"/poco-m6-plus-5g-ice-silver-128-gb/p/itm7e794d10838b4?pid=MOBH2M2DTGYS9HPB&amp;lid=LSTMOBH2M2DTGYS9HPB9DDDSP&amp;marketplace=FLIPKART&amp;q=mobiles&amp;store=tyy%2F4io&amp;srno=s_1_23&amp;otracker=AS_Query_HistoryAutoSuggest_1_6_na_na_na&amp;otracker1=AS_Query_HistoryAutoSuggest_1_6_na_na_na&amp;fm=organic&amp;iid=c5ec3324-e01e-40b6-9b71-46d214890fe9.MOBH2M2DTGYS9HPB.SEARCH&amp;ppt=None&amp;ppn=None&amp;ssid=z6wz3476rk0000001751655956048&amp;qH=eb4af0bf07c16429\" rel=\"noopener noreferrer\" target=\"_blank\"><div class=\"Otbq5D\"><div class=\"yPq5Io\"><div><div class=\"_4WELSP\" style=\"height:200px;width:200px\"><img alt=\"POCO M6 Plus 5G (Ice Silver, 128 GB)\" class=\"DByuf4\" loading=\"eager\" src=\"https://rukminim2.flixcart.com/image/312/312/xif0q/mobile/c/u/c/-original-imah3afneszgnrt6.jpeg?q=70\"/></div></div></div><div class=\"qaR90o\"><div class=\"A8uQAd\"><span class=\"Lni97G\"><label class=\"tJjCVx\"><input class=\"vn9L2C\" readonly=\"\" type=\"checkbox\"/><div class=\"XqNaEv\"></div></label></span><label class=\"uu79Xy\"><span>Add to Compare</span></label></div></div><div class=\"oUss6M ssUU08\"><div class=\"+7E521\"><svg class=\"N1bADF\" height=\"16\" viewbox=\"0 0 20 16\" width=\"16\" xmlns=\"http://www.w3.org/2000/svg\"><path class=\"x1UMqG\" d=\"M8.695 16.682C4.06 12.382 1 9.536 1 6.065 1 3.219 3.178 1 5.95 1c1.566 0 3.069.746 4.05 1.915C10.981 1.745 12.484 1 14.05 1 16.822 1 19 3.22 19 6.065c0 3.471-3.06 6.316-7.695 10.617L10 17.897l-1.305-1.215z\" fill=\"#2874F0\" fill-rule=\"evenodd\" opacity=\".9\" stroke=\"#FFF\"></path></svg></div></div></div><div class=\"yKfJKb row\"><div class=\"col col-7-12\"><div class=\"KzDlHZ\">POCO M6 Plus 5G (Ice Silver, 128 GB)</div><div class=\"_5OesEi\"><span class=\"Y1HWO0\" id=\"productRating_LSTMOBH2M2DTGYS9HPB9DDDSP_MOBH2M2DTGYS9HPB_\"><div class=\"XQDdHH\">4.2<img class=\"Rza2QY\" src=\"data:image/svg+xml;base64,PHN2ZyB4bWxucz0iaHR0cDovL3d3dy53My5vcmcvMjAwMC9zdmciIHdpZHRoPSIxMyIgaGVpZ2h0PSIxMiI+PHBhdGggZmlsbD0iI0ZGRiIgZD0iTTYuNSA5LjQzOWwtMy42NzQgMi4yMy45NC00LjI2LTMuMjEtMi44ODMgNC4yNTQtLjQwNEw2LjUuMTEybDEuNjkgNC4wMSA0LjI1NC40MDQtMy4yMSAyLjg4Mi45NCA0LjI2eiIvPjwvc3ZnPg==\"/></div></span><span class=\"Wphh3N\"><span><span>51,965 Ratings </span><span class=\"hG7V+4\">&amp;</span><span> 3,198 Reviews</span></span></span></div><div class=\"_6NESgJ\"><ul class=\"G4BRas\"><li class=\"J+igdf\">6 GB RAM | 128 GB ROM | Expandable Upto 1 TB</li><li class=\"J+igdf\">17.25 cm (6.79 inch) Full HD+ Display</li><li class=\"J+igdf\">108MP + 2MP | 13MP Front Camera</li><li class=\"J+igdf\">5030 mAh Battery</li><li class=\"J+igdf\">Snapdragon 4 Gen2 AE Processor</li><li class=\"J+igdf\">1 Year Manufacturer Warranty for Phone and 6 Months Warranty for In the Box Accessories</li></ul></div></div><div class=\"col col-5-12 BfVC2z\"><div class=\"cN1yYO\"><div class=\"hl05eU\"><div class=\"Nx9bqj _4b5DiR\">₹10,080</div><div class=\"yRaY8j ZYYwLA\">₹<!-- -->15,999</div><div class=\"UkUFwK\"><span>36% off</span></div></div></div><div class=\"_0CSTHy\"><img height=\"21\" src=\"//static-assets-web.flixcart.com/fk-p-linchpin-web/fk-cp-zion/img/fa_9e47c1.png\"/></div><div class=\"M4DNwV\"><div class=\"n5vj9c\"><div class=\"yiggsN O5Fpg8\" style=\"color:#000000;font-size:14px;font-style:normal;font-weight:400\">Upto </div><div class=\"yiggsN O5Fpg8\" style=\"color:#000000;font-size:14px;font-style:normal;font-weight:700\">₹8,400</div><div class=\"yiggsN O5Fpg8\" style=\"color:#000000;font-size:14px;font-style:normal;font-weight:400\"> Off on Exchange</div></div></div><div class=\"M4DNwV\"><div class=\"n5vj9c\"><div class=\"yiggsN O5Fpg8\" style=\"color:#26A541;font-size:14px;font-weight:700\">Bank Offer</div></div></div></div></div></a></div></div></div></div><div class=\"cPHDOP col-12-12\"><div class=\"_75nlfW\"><div data-id=\"MOBH45GGDNHMPRSD\" style=\"width:100%\"><div class=\"tUxRFH\"><a class=\"CGtC98\" href=\"/redmi-13-5g-orchid-pink-128-gb/p/itm315c71c2ffcce?pid=MOBH45GGDNHMPRSD&amp;lid=LSTMOBH45GGDNHMPRSDVNH3T5&amp;marketplace=FLIPKART&amp;q=mobiles&amp;store=tyy%2F4io&amp;srno=s_1_24&amp;otracker=AS_Query_HistoryAutoSuggest_1_6_na_na_na&amp;otracker1=AS_Query_HistoryAutoSuggest_1_6_na_na_na&amp;fm=organic&amp;iid=c5ec3324-e01e-40b6-9b71-46d214890fe9.MOBH45GGDNHMPRSD.SEARCH&amp;ppt=None&amp;ppn=None&amp;ssid=z6wz3476rk0000001751655956048&amp;qH=eb4af0bf07c16429\" rel=\"noopener noreferrer\" target=\"_blank\"><div class=\"Otbq5D\"><div class=\"yPq5Io\"><div><div class=\"_4WELSP\" style=\"height:200px;width:200px\"><img alt=\"REDMI 13 5G (Orchid Pink, 128 GB)\" class=\"DByuf4\" loading=\"eager\" src=\"https://rukminim2.flixcart.com/image/312/312/xif0q/mobile/a/p/v/-original-imah4smtqmxb2j2f.jpeg?q=70\"/></div></div></div><div class=\"qaR90o\"><div class=\"A8uQAd\"><span class=\"Lni97G\"><label class=\"tJjCVx\"><input class=\"vn9L2C\" readonly=\"\" type=\"checkbox\"/><div class=\"XqNaEv\"></div></label></span><label class=\"uu79Xy\"><span>Add to Compare</span></label></div></div><div class=\"oUss6M ssUU08\"><div class=\"+7E521\"><svg class=\"N1bADF\" height=\"16\" viewbox=\"0 0 20 16\" width=\"16\" xmlns=\"http://www.w3.org/2000/svg\"><path class=\"x1UMqG\" d=\"M8.695 16.682C4.06 12.382 1 9.536 1 6.065 1 3.219 3.178 1 5.95 1c1.566 0 3.069.746 4.05 1.915C10.981 1.745 12.484 1 14.05 1 16.822 1 19 3.22 19 6.065c0 3.471-3.06 6.316-7.695 10.617L10 17.897l-1.305-1.215z\" fill=\"#2874F0\" fill-rule=\"evenodd\" opacity=\".9\" stroke=\"#FFF\"></path></svg></div></div></div><div class=\"yKfJKb row\"><div class=\"col col-7-12\"><div class=\"KzDlHZ\">REDMI 13 5G (Orchid Pink, 128 GB)</div><div class=\"_5OesEi\"><span class=\"Y1HWO0\" id=\"productRating_LSTMOBH45GGDNHMPRSDVNH3T5_MOBH45GGDNHMPRSD_\"><div class=\"XQDdHH\">4.3<img class=\"Rza2QY\" src=\"data:image/svg+xml;base64,PHN2ZyB4bWxucz0iaHR0cDovL3d3dy53My5vcmcvMjAwMC9zdmciIHdpZHRoPSIxMyIgaGVpZ2h0PSIxMiI+PHBhdGggZmlsbD0iI0ZGRiIgZD0iTTYuNSA5LjQzOWwtMy42NzQgMi4yMy45NC00LjI2LTMuMjEtMi44ODMgNC4yNTQtLjQwNEw2LjUuMTEybDEuNjkgNC4wMSA0LjI1NC40MDQtMy4yMSAyLjg4Mi45NCA0LjI2eiIvPjwvc3ZnPg==\"/></div></span><span class=\"Wphh3N\"><span><span>39,203 Ratings </span><span class=\"hG7V+4\">&amp;</span><span> 2,047 Reviews</span></span></span></div><div class=\"_6NESgJ\"><ul class=\"G4BRas\"><li class=\"J+igdf\">6 GB RAM | 128 GB ROM | Expandable Upto 1 TB</li><li class=\"J+igdf\">17.25 cm (6.79 inch) Full HD+ Display</li><li class=\"J+igdf\">108MP + 2MP | 13MP Front Camera</li><li class=\"J+igdf\">5030 mAh Lithium Polymer Battery</li><li class=\"J+igdf\">4 Gen 2 AE Processor</li><li class=\"J+igdf\">1 Year Manufacturer Warranty for Phone and 6 Months Warranty for In the Box Accessories</li></ul></div></div><div class=\"col col-5-12 BfVC2z\"><div class=\"cN1yYO\"><div class=\"hl05eU\"><div class=\"Nx9bqj _4b5DiR\">₹12,499</div><div class=\"yRaY8j ZYYwLA\">₹<!-- -->17,999</div><div class=\"UkUFwK\"><span>30% off</span></div></div></div><div class=\"_0CSTHy\"><img height=\"21\" src=\"//static-assets-web.flixcart.com/fk-p-linchpin-web/fk-cp-zion/img/fa_9e47c1.png\"/></div><div class=\"M4DNwV\"><div class=\"n5vj9c\" style=\"padding-top:4px;padding-right:4px;padding-bottom:4px;padding-left:4px;border-radius:2px;background-color:#E7F8EC\"><div class=\"yiggsN O5Fpg8\" style=\"color:#26A541;font-size:12px;font-weight:700\">Hot Deal</div></div></div><div class=\"M4DNwV\"><div class=\"n5vj9c\"><div class=\"yiggsN O5Fpg8\" style=\"color:#C70055;font-size:12px;font-weight:700\">Only 1 left</div></div></div></div></div></a></div></div></div></div><div class=\"cPHDOP col-12-12\"><div><div class=\"_1G0WLw\"><span>Page 1 of 492</span><nav class=\"WSL9JP\"><a class=\"cn++Ap A1msZJ\" href=\"/search?q=mobiles&amp;as=on&amp;as-show=on&amp;otracker=AS_Query_HistoryAutoSuggest_1_6_na_na_na&amp;otracker1=AS_Query_HistoryAutoSuggest_1_6_na_na_na&amp;as-pos=1&amp;as-type=HISTORY&amp;suggestionId=mobiles&amp;requestId=a4b17236-22a6-4fa3-800b-37acc52f0ff0&amp;as-searchtext=mobile&amp;page=1\">1</a><a class=\"cn++Ap\" href=\"/search?q=mobiles&amp;as=on&amp;as-show=on&amp;otracker=AS_Query_HistoryAutoSuggest_1_6_na_na_na&amp;otracker1=AS_Query_HistoryAutoSuggest_1_6_na_na_na&amp;as-pos=1&amp;as-type=HISTORY&amp;suggestionId=mobiles&amp;requestId=a4b17236-22a6-4fa3-800b-37acc52f0ff0&amp;as-searchtext=mobile&amp;page=2\">2</a><a class=\"cn++Ap\" href=\"/search?q=mobiles&amp;as=on&amp;as-show=on&amp;otracker=AS_Query_HistoryAutoSuggest_1_6_na_na_na&amp;otracker1=AS_Query_HistoryAutoSuggest_1_6_na_na_na&amp;as-pos=1&amp;as-type=HISTORY&amp;suggestionId=mobiles&amp;requestId=a4b17236-22a6-4fa3-800b-37acc52f0ff0&amp;as-searchtext=mobile&amp;page=3\">3</a><a class=\"cn++Ap\" href=\"/search?q=mobiles&amp;as=on&amp;as-show=on&amp;otracker=AS_Query_HistoryAutoSuggest_1_6_na_na_na&amp;otracker1=AS_Query_HistoryAutoSuggest_1_6_na_na_na&amp;as-pos=1&amp;as-type=HISTORY&amp;suggestionId=mobiles&amp;requestId=a4b17236-22a6-4fa3-800b-37acc52f0ff0&amp;as-searchtext=mobile&amp;page=4\">4</a><a class=\"cn++Ap\" href=\"/search?q=mobiles&amp;as=on&amp;as-show=on&amp;otracker=AS_Query_HistoryAutoSuggest_1_6_na_na_na&amp;otracker1=AS_Query_HistoryAutoSuggest_1_6_na_na_na&amp;as-pos=1&amp;as-type=HISTORY&amp;suggestionId=mobiles&amp;requestId=a4b17236-22a6-4fa3-800b-37acc52f0ff0&amp;as-searchtext=mobile&amp;page=5\">5</a><a class=\"cn++Ap\" href=\"/search?q=mobiles&amp;as=on&amp;as-show=on&amp;otracker=AS_Query_HistoryAutoSuggest_1_6_na_na_na&amp;otracker1=AS_Query_HistoryAutoSuggest_1_6_na_na_na&amp;as-pos=1&amp;as-type=HISTORY&amp;suggestionId=mobiles&amp;requestId=a4b17236-22a6-4fa3-800b-37acc52f0ff0&amp;as-searchtext=mobile&amp;page=6\">6</a><a class=\"cn++Ap\" href=\"/search?q=mobiles&amp;as=on&amp;as-show=on&amp;otracker=AS_Query_HistoryAutoSuggest_1_6_na_na_na&amp;otracker1=AS_Query_HistoryAutoSuggest_1_6_na_na_na&amp;as-pos=1&amp;as-type=HISTORY&amp;suggestionId=mobiles&amp;requestId=a4b17236-22a6-4fa3-800b-37acc52f0ff0&amp;as-searchtext=mobile&amp;page=7\">7</a><a class=\"cn++Ap\" href=\"/search?q=mobiles&amp;as=on&amp;as-show=on&amp;otracker=AS_Query_HistoryAutoSuggest_1_6_na_na_na&amp;otracker1=AS_Query_HistoryAutoSuggest_1_6_na_na_na&amp;as-pos=1&amp;as-type=HISTORY&amp;suggestionId=mobiles&amp;requestId=a4b17236-22a6-4fa3-800b-37acc52f0ff0&amp;as-searchtext=mobile&amp;page=8\">8</a><a class=\"cn++Ap\" href=\"/search?q=mobiles&amp;as=on&amp;as-show=on&amp;otracker=AS_Query_HistoryAutoSuggest_1_6_na_na_na&amp;otracker1=AS_Query_HistoryAutoSuggest_1_6_na_na_na&amp;as-pos=1&amp;as-type=HISTORY&amp;suggestionId=mobiles&amp;requestId=a4b17236-22a6-4fa3-800b-37acc52f0ff0&amp;as-searchtext=mobile&amp;page=9\">9</a><a class=\"cn++Ap\" href=\"/search?q=mobiles&amp;as=on&amp;as-show=on&amp;otracker=AS_Query_HistoryAutoSuggest_1_6_na_na_na&amp;otracker1=AS_Query_HistoryAutoSuggest_1_6_na_na_na&amp;as-pos=1&amp;as-type=HISTORY&amp;suggestionId=mobiles&amp;requestId=a4b17236-22a6-4fa3-800b-37acc52f0ff0&amp;as-searchtext=mobile&amp;page=10\">10</a><a class=\"_9QVEpD\" href=\"/search?q=mobiles&amp;as=on&amp;as-show=on&amp;otracker=AS_Query_HistoryAutoSuggest_1_6_na_na_na&amp;otracker1=AS_Query_HistoryAutoSuggest_1_6_na_na_na&amp;as-pos=1&amp;as-type=HISTORY&amp;suggestionId=mobiles&amp;requestId=a4b17236-22a6-4fa3-800b-37acc52f0ff0&amp;as-searchtext=mobile&amp;page=2\"><span>Next</span></a></nav><span class=\"TEAQU1\"></span></div></div></div><div class=\"cPHDOP col-12-12\" style=\"margin:10px 0px 0px 0px\"><div class=\"b5p4CI\"><span class=\"H+18AT\">Did you find what you were looking for?</span><div class=\"c6QpTS oWf9LO\"><span class=\"WZkjSk eQ1o1C\">Yes</span><span class=\"WZkjSk eQ1o1C\">No</span></div></div></div></div></div><div class=\"cPHDOP col-12-12\" style=\"padding:16px 0px 0px 0px\"><div class=\"Pg+ADy -u2ZnE row\"><div class=\"naMJjQ\">Reviews for Popular Mobiles</div><div class=\"ybB1XH\"><div class=\"MohBBj\"><div class=\"Ld8TWM\"><div class=\"_4WELSP\" style=\"height:150px;width:150px\"><img alt=\"vivo T4x 5G (Marine Blue, 128 GB)\" class=\"DByuf4\" loading=\"lazy\" src=\"https://rukminim2.flixcart.com/image/300/300/xif0q/mobile/m/n/v/-original-imahavdveeghweea.jpeg?q=90\"/></div></div><div class=\"_8zhCRP\"><a href=\"/vivo-t4x-5g-marine-blue-128-gb/p/itm017656bdd097b?pid=MOBH9JUSTWEMVADU&amp;marketplace=FLIPKART\" rel=\"noopener noreferrer\" target=\"_blank\"><div class=\"kv0tEm\"><div>1. vivo T4x 5G (Marine Blue, 1...</div></div><div class=\"sRoN4i\"><div class=\"XQDdHH\">4.4<img class=\"Rza2QY\" src=\"data:image/svg+xml;base64,PHN2ZyB4bWxucz0iaHR0cDovL3d3dy53My5vcmcvMjAwMC9zdmciIHdpZHRoPSIxMyIgaGVpZ2h0PSIxMiI+PHBhdGggZmlsbD0iI0ZGRiIgZD0iTTYuNSA5LjQzOWwtMy42NzQgMi4yMy45NC00LjI2LTMuMjEtMi44ODMgNC4yNTQtLjQwNEw2LjUuMTEybDEuNjkgNC4wMSA0LjI1NC40MDQtMy4yMSAyLjg4Mi45NCA0LjI2eiIvPjwvc3ZnPg==\"/></div><span class=\"Bz-crL\"><span>70,982 Ratings</span><span><span class=\"_8O4+-w\">&amp;</span><span>3,914 Reviews</span></span></span></div><div class=\"Xrs8Tf\"><div class=\"hl05eU\"><div class=\"Nx9bqj OQ4U3k\">₹13,999</div><div class=\"UkUFwK WMQHm1\"><span>22% off</span></div></div></div></a><ul class=\"akQAfe\"><li class=\"Ov4d6Q\">6 GB RAM | 128 GB ROM</li><li class=\"Ov4d6Q\">17.07 cm (6.72 inch) Display</li><li class=\"Ov4d6Q\">50MP + 2MP | 8MP Front Camera</li></ul></div></div><div class=\"vQjHak\"><div class=\"VEuN0R\">Most Helpful Review</div><div class=\"col\"><div class=\"col EPCmJX xJgaqh\"><div class=\"row\"><div class=\"XQDdHH Ga3i8K\">4<img class=\"Rza2QY\" src=\"data:image/svg+xml;base64,PHN2ZyB4bWxucz0iaHR0cDovL3d3dy53My5vcmcvMjAwMC9zdmciIHdpZHRoPSIxMyIgaGVpZ2h0PSIxMiI+PHBhdGggZmlsbD0iI0ZGRiIgZD0iTTYuNSA5LjQzOWwtMy42NzQgMi4yMy45NC00LjI2LTMuMjEtMi44ODMgNC4yNTQtLjQwNEw2LjUuMTEybDEuNjkgNC4wMSA0LjI1NC40MDQtMy4yMSAyLjg4Mi45NCA0LjI2eiIvPjwvc3ZnPg==\"/></div><p class=\"z9E0IG\">Good quality product</p></div><div class=\"row\"><div class=\"ZmyHeo\"><div><div class=\"\">This phone is performance wise decent but display quality is not that perfect. 💫<br/><br/>Battery life is amazing 🤩 <br/>Charging speed is a bit slow 😔 <br/>App openings ...</div><span class=\"b4x-fr\"><span>Read full review</span></span></div></div></div><div class=\"row gHqwa8\"><div class=\"row\"><p class=\"_2NsDsF AwS1CA\">Abhishek Chattopadhyay</p><svg class=\"VjlQyz\" height=\"14\" viewbox=\"0 0 12 12\" width=\"14\" xmlns=\"http://www.w3.org/2000/svg\"><g><circle cx=\"6\" cy=\"6\" fill=\"#878787\" r=\"6\"></circle><path d=\"M3 6l2 2 4-4\" fill=\"#878787\" stroke=\"#FFF\" stroke-width=\"1.5\"></path></g></svg><p class=\"MztJPv\" id=\"review-9eafcc3b-1e82-4f6d-aeea-453d916d0b44\"><span>Certified Buyer</span></p><p class=\"_2NsDsF\">3 months ago</p></div></div></div></div></div><div class=\"vQjHak\"><div class=\"VEuN0R\">Recent Review</div><div class=\"col\"><div class=\"col EPCmJX xJgaqh\"><div class=\"row\"><div class=\"XQDdHH Ga3i8K\">5<img class=\"Rza2QY\" src=\"data:image/svg+xml;base64,PHN2ZyB4bWxucz0iaHR0cDovL3d3dy53My5vcmcvMjAwMC9zdmciIHdpZHRoPSIxMyIgaGVpZ2h0PSIxMiI+PHBhdGggZmlsbD0iI0ZGRiIgZD0iTTYuNSA5LjQzOWwtMy42NzQgMi4yMy45NC00LjI2LTMuMjEtMi44ODMgNC4yNTQtLjQwNEw2LjUuMTEybDEuNjkgNC4wMSA0LjI1NC40MDQtMy4yMSAyLjg4Mi45NCA0LjI2eiIvPjwvc3ZnPg==\"/></div><p class=\"z9E0IG\">Classy product</p></div><div class=\"row\"><div class=\"ZmyHeo\"><div><div class=\"\">Good bu delivery charge very bad</div><span class=\"wTYmpv\"><span>Read full review</span></span></div></div></div><div class=\"row gHqwa8\"><div class=\"row\"><p class=\"_2NsDsF AwS1CA\">Flipkart Customer</p><svg class=\"VjlQyz\" height=\"14\" viewbox=\"0 0 12 12\" width=\"14\" xmlns=\"http://www.w3.org/2000/svg\"><g><circle cx=\"6\" cy=\"6\" fill=\"#878787\" r=\"6\"></circle><path d=\"M3 6l2 2 4-4\" fill=\"#878787\" stroke=\"#FFF\" stroke-width=\"1.5\"></path></g></svg><p class=\"MztJPv\" id=\"review-309504d4-1327-4958-97f5-c2f3fdcbb28d\"><span>Certified Buyer</span></p><p class=\"_2NsDsF\">3 days ago</p></div></div></div></div></div></div><div class=\"ybB1XH\"><div class=\"MohBBj\"><div class=\"Ld8TWM\"><div class=\"_4WELSP\" style=\"height:150px;width:150px\"><img alt=\"Infinix Note 50s 5G+ (Titanium Grey, 128 GB)\" class=\"DByuf4\" loading=\"lazy\" src=\"https://rukminim2.flixcart.com/image/300/300/xif0q/mobile/o/s/z/-original-imahdg6srhwshjuz.jpeg?q=90\"/></div></div><div class=\"_8zhCRP\"><a href=\"/infinix-note-50s-5g-titanium-grey-128-gb/p/itmfbc62747a37e7?pid=MOBHD6FJ37GZFJBD&amp;marketplace=FLIPKART\" rel=\"noopener noreferrer\" target=\"_blank\"><div class=\"kv0tEm\"><div>2. Infinix Note 50s 5G+ (Titan...</div></div><div class=\"sRoN4i\"><div class=\"XQDdHH\">4.4<img class=\"Rza2QY\" src=\"data:image/svg+xml;base64,PHN2ZyB4bWxucz0iaHR0cDovL3d3dy53My5vcmcvMjAwMC9zdmciIHdpZHRoPSIxMyIgaGVpZ2h0PSIxMiI+PHBhdGggZmlsbD0iI0ZGRiIgZD0iTTYuNSA5LjQzOWwtMy42NzQgMi4yMy45NC00LjI2LTMuMjEtMi44ODMgNC4yNTQtLjQwNEw2LjUuMTEybDEuNjkgNC4wMSA0LjI1NC40MDQtMy4yMSAyLjg4Mi45NCA0LjI2eiIvPjwvc3ZnPg==\"/></div><span class=\"Bz-crL\"><span>127 Ratings</span><span><span class=\"_8O4+-w\">&amp;</span><span>14 Reviews</span></span></span></div><div class=\"Xrs8Tf\"><div class=\"hl05eU\"><div class=\"Nx9bqj OQ4U3k\">₹14,999</div><div class=\"UkUFwK WMQHm1\"><span>25% off</span></div></div></div></a><ul class=\"akQAfe\"><li class=\"Ov4d6Q\">6 GB RAM | 128 GB ROM</li><li class=\"Ov4d6Q\">17.22 cm (6.78 inch) Full HD+ Display</li><li class=\"Ov4d6Q\">64MP + 2MP | 13MP Front Camera</li></ul></div></div><div class=\"vQjHak\"><div class=\"VEuN0R\">Most Helpful Review</div><div class=\"col\"><div class=\"col EPCmJX xJgaqh\"><div class=\"row\"><div class=\"XQDdHH Ga3i8K\">5<img class=\"Rza2QY\" src=\"data:image/svg+xml;base64,PHN2ZyB4bWxucz0iaHR0cDovL3d3dy53My5vcmcvMjAwMC9zdmciIHdpZHRoPSIxMyIgaGVpZ2h0PSIxMiI+PHBhdGggZmlsbD0iI0ZGRiIgZD0iTTYuNSA5LjQzOWwtMy42NzQgMi4yMy45NC00LjI2LTMuMjEtMi44ODMgNC4yNTQtLjQwNEw2LjUuMTEybDEuNjkgNC4wMSA0LjI1NC40MDQtMy4yMSAyLjg4Mi45NCA0LjI2eiIvPjwvc3ZnPg==\"/></div><p class=\"z9E0IG\">Mind-blowing purchase</p></div><div class=\"row\"><div class=\"ZmyHeo\"><div><div class=\"\">Very good Mobile Thank you flipcart</div><span class=\"wTYmpv\"><span>Read full review</span></span></div></div></div><div class=\"row gHqwa8\"><div class=\"row\"><p class=\"_2NsDsF AwS1CA\">Flipkart Customer</p><svg class=\"VjlQyz\" height=\"14\" viewbox=\"0 0 12 12\" width=\"14\" xmlns=\"http://www.w3.org/2000/svg\"><g><circle cx=\"6\" cy=\"6\" fill=\"#878787\" r=\"6\"></circle><path d=\"M3 6l2 2 4-4\" fill=\"#878787\" stroke=\"#FFF\" stroke-width=\"1.5\"></path></g></svg><p class=\"MztJPv\" id=\"review-68e846cc-f722-4262-ad1b-85cf606bc078\"><span>Certified Buyer</span></p><p class=\"_2NsDsF\">5 days ago</p></div></div></div></div></div><div class=\"vQjHak\"><div class=\"VEuN0R\">Recent Review</div><div class=\"col\"><div class=\"col EPCmJX xJgaqh\"><div class=\"row\"><div class=\"XQDdHH Ga3i8K\">4<img class=\"Rza2QY\" src=\"data:image/svg+xml;base64,PHN2ZyB4bWxucz0iaHR0cDovL3d3dy53My5vcmcvMjAwMC9zdmciIHdpZHRoPSIxMyIgaGVpZ2h0PSIxMiI+PHBhdGggZmlsbD0iI0ZGRiIgZD0iTTYuNSA5LjQzOWwtMy42NzQgMi4yMy45NC00LjI2LTMuMjEtMi44ODMgNC4yNTQtLjQwNEw2LjUuMTEybDEuNjkgNC4wMSA0LjI1NC40MDQtMy4yMSAyLjg4Mi45NCA0LjI2eiIvPjwvc3ZnPg==\"/></div><p class=\"z9E0IG\">Value-for-money</p></div><div class=\"row\"><div class=\"ZmyHeo\"><div><div class=\"\">Everything good in first day use ... But speaker is very low in this budget . For better speaker go with Samsung m35 ..</div><span class=\"wTYmpv\"><span>Read full review</span></span></div></div></div><div class=\"row gHqwa8\"><div class=\"row\"><p class=\"_2NsDsF AwS1CA\">Flipkart Customer</p><svg class=\"VjlQyz\" height=\"14\" viewbox=\"0 0 12 12\" width=\"14\" xmlns=\"http://www.w3.org/2000/svg\"><g><circle cx=\"6\" cy=\"6\" fill=\"#878787\" r=\"6\"></circle><path d=\"M3 6l2 2 4-4\" fill=\"#878787\" stroke=\"#FFF\" stroke-width=\"1.5\"></path></g></svg><p class=\"MztJPv\" id=\"review-89f0782e-02b6-4fe1-90b2-009a4f701eba\"><span>Certified Buyer</span></p><p class=\"_2NsDsF\">1 day ago</p></div></div></div></div></div></div><div class=\"ybB1XH\"><div class=\"MohBBj\"><div class=\"Ld8TWM\"><div class=\"_4WELSP\" style=\"height:150px;width:150px\"><img alt=\"Nokia 105 Single SIM, Keypad Mobile Phone with Wireless FM Radio\" class=\"DByuf4\" loading=\"lazy\" src=\"https://rukminim2.flixcart.com/image/300/300/xif0q/mobile/g/s/r/105-single-sim-keypad-mobile-phone-with-wireless-fm-radio-ta-original-imah53fqhhqyadgd.jpeg?q=90\"/></div></div><div class=\"_8zhCRP\"><a href=\"/nokia-105-single-sim-keypad-mobile-phone-wireless-fm-radio/p/itm1e2206f816463?pid=MOBGQFVG9WPRN3TH&amp;marketplace=FLIPKART\" rel=\"noopener noreferrer\" target=\"_blank\"><div class=\"kv0tEm\"><div>3. Nokia 105 Single SIM, Keypa...</div></div><div class=\"sRoN4i\"><div class=\"XQDdHH\">3.9<img class=\"Rza2QY\" src=\"data:image/svg+xml;base64,PHN2ZyB4bWxucz0iaHR0cDovL3d3dy53My5vcmcvMjAwMC9zdmciIHdpZHRoPSIxMyIgaGVpZ2h0PSIxMiI+PHBhdGggZmlsbD0iI0ZGRiIgZD0iTTYuNSA5LjQzOWwtMy42NzQgMi4yMy45NC00LjI2LTMuMjEtMi44ODMgNC4yNTQtLjQwNEw2LjUuMTEybDEuNjkgNC4wMSA0LjI1NC40MDQtMy4yMSAyLjg4Mi45NCA0LjI2eiIvPjwvc3ZnPg==\"/></div><span class=\"Bz-crL\"><span>1,57,035 Ratings</span><span><span class=\"_8O4+-w\">&amp;</span><span>9,914 Reviews</span></span></span></div><div class=\"Xrs8Tf\"><div class=\"hl05eU\"><div class=\"Nx9bqj OQ4U3k\">₹989</div><div class=\"UkUFwK WMQHm1\"><span>34% off</span></div></div></div></a><ul class=\"akQAfe\"><li class=\"Ov4d6Q\">32 MB RAM | 32 MB ROM</li><li class=\"Ov4d6Q\">4.5 cm (1.77 inch) Display</li><li class=\"Ov4d6Q\">0MP | 0MP Front Camera</li></ul></div></div><div class=\"vQjHak\"><div class=\"VEuN0R\">Most Helpful Review</div><div class=\"col\"><div class=\"col EPCmJX xJgaqh\"><div class=\"row\"><div class=\"XQDdHH Ga3i8K\">5<img class=\"Rza2QY\" src=\"data:image/svg+xml;base64,PHN2ZyB4bWxucz0iaHR0cDovL3d3dy53My5vcmcvMjAwMC9zdmciIHdpZHRoPSIxMyIgaGVpZ2h0PSIxMiI+PHBhdGggZmlsbD0iI0ZGRiIgZD0iTTYuNSA5LjQzOWwtMy42NzQgMi4yMy45NC00LjI2LTMuMjEtMi44ODMgNC4yNTQtLjQwNEw2LjUuMTEybDEuNjkgNC4wMSA0LjI1NC40MDQtMy4yMSAyLjg4Mi45NCA0LjI2eiIvPjwvc3ZnPg==\"/></div><p class=\"z9E0IG\">Classy product</p></div><div class=\"row\"><div class=\"ZmyHeo\"><div><div class=\"\">Super cute and beautiful mobile 😍. worth of money 💰. thank you so much Flipkart for giving this wonderful product 😁</div><span class=\"wTYmpv\"><span>Read full review</span></span></div></div></div><div class=\"row gHqwa8\"><div class=\"row\"><p class=\"_2NsDsF AwS1CA\">Keerthysai</p><svg class=\"VjlQyz\" height=\"14\" viewbox=\"0 0 12 12\" width=\"14\" xmlns=\"http://www.w3.org/2000/svg\"><g><circle cx=\"6\" cy=\"6\" fill=\"#878787\" r=\"6\"></circle><path d=\"M3 6l2 2 4-4\" fill=\"#878787\" stroke=\"#FFF\" stroke-width=\"1.5\"></path></g></svg><p class=\"MztJPv\" id=\"review-cd6399f5-d379-47d6-90b8-aa505c04a981\"><span>Certified Buyer</span></p><p class=\"_2NsDsF\">Nov, 2022</p></div></div></div></div></div><div class=\"vQjHak\"><div class=\"VEuN0R\">Recent Review</div><div class=\"col\"><div class=\"col EPCmJX xJgaqh\"><div class=\"row\"><div class=\"XQDdHH Ga3i8K\">3<img class=\"Rza2QY\" src=\"data:image/svg+xml;base64,PHN2ZyB4bWxucz0iaHR0cDovL3d3dy53My5vcmcvMjAwMC9zdmciIHdpZHRoPSIxMyIgaGVpZ2h0PSIxMiI+PHBhdGggZmlsbD0iI0ZGRiIgZD0iTTYuNSA5LjQzOWwtMy42NzQgMi4yMy45NC00LjI2LTMuMjEtMi44ODMgNC4yNTQtLjQwNEw2LjUuMTEybDEuNjkgNC4wMSA0LjI1NC40MDQtMy4yMSAyLjg4Mi45NCA0LjI2eiIvPjwvc3ZnPg==\"/></div><p class=\"z9E0IG\">Does the job</p></div><div class=\"row\"><div class=\"ZmyHeo\"><div><div class=\"\">Product good but Very slow sound</div><span class=\"wTYmpv\"><span>Read full review</span></span></div></div></div><div class=\"row gHqwa8\"><div class=\"row\"><p class=\"_2NsDsF AwS1CA\">Harapriya Das</p><svg class=\"VjlQyz\" height=\"14\" viewbox=\"0 0 12 12\" width=\"14\" xmlns=\"http://www.w3.org/2000/svg\"><g><circle cx=\"6\" cy=\"6\" fill=\"#878787\" r=\"6\"></circle><path d=\"M3 6l2 2 4-4\" fill=\"#878787\" stroke=\"#FFF\" stroke-width=\"1.5\"></path></g></svg><p class=\"MztJPv\" id=\"review-3ee5352d-8301-4030-a1db-e5bf22514a6f\"><span>Certified Buyer</span></p><p class=\"_2NsDsF\">5 days ago</p></div></div></div></div></div></div><div class=\"ybB1XH\"><div class=\"MohBBj\"><div class=\"Ld8TWM\"><div class=\"_4WELSP\" style=\"height:150px;width:150px\"><img alt=\"vivo T4x 5G (Pronto Purple, 128 GB)\" class=\"DByuf4\" loading=\"lazy\" src=\"https://rukminim2.flixcart.com/image/300/300/xif0q/mobile/j/t/v/-original-imahavdv28z4nrkn.jpeg?q=90\"/></div></div><div class=\"_8zhCRP\"><a href=\"/vivo-t4x-5g-pronto-purple-128-gb/p/itm017656bdd097b?pid=MOBH9JUSZHCX3JRG&amp;marketplace=FLIPKART\" rel=\"noopener noreferrer\" target=\"_blank\"><div class=\"kv0tEm\"><div>4. vivo T4x 5G (Pronto Purple,...</div></div><div class=\"sRoN4i\"><div class=\"XQDdHH\">4.5<img class=\"Rza2QY\" src=\"data:image/svg+xml;base64,PHN2ZyB4bWxucz0iaHR0cDovL3d3dy53My5vcmcvMjAwMC9zdmciIHdpZHRoPSIxMyIgaGVpZ2h0PSIxMiI+PHBhdGggZmlsbD0iI0ZGRiIgZD0iTTYuNSA5LjQzOWwtMy42NzQgMi4yMy45NC00LjI2LTMuMjEtMi44ODMgNC4yNTQtLjQwNEw2LjUuMTEybDEuNjkgNC4wMSA0LjI1NC40MDQtMy4yMSAyLjg4Mi45NCA0LjI2eiIvPjwvc3ZnPg==\"/></div><span class=\"Bz-crL\"><span>53,828 Ratings</span><span><span class=\"_8O4+-w\">&amp;</span><span>3,165 Reviews</span></span></span></div><div class=\"Xrs8Tf\"><div class=\"hl05eU\"><div class=\"Nx9bqj OQ4U3k\">₹14,999</div><div class=\"UkUFwK WMQHm1\"><span>23% off</span></div></div></div></a><ul class=\"akQAfe\"><li class=\"Ov4d6Q\">8 GB RAM | 128 GB ROM</li><li class=\"Ov4d6Q\">17.07 cm (6.72 inch) Display</li><li class=\"Ov4d6Q\">50MP + 2MP | 8MP Front Camera</li></ul></div></div><div class=\"vQjHak\"><div class=\"VEuN0R\">Most Helpful Review</div><div class=\"col\"><div class=\"col EPCmJX xJgaqh\"><div class=\"row\"><div class=\"XQDdHH Ga3i8K\">4<img class=\"Rza2QY\" src=\"data:image/svg+xml;base64,PHN2ZyB4bWxucz0iaHR0cDovL3d3dy53My5vcmcvMjAwMC9zdmciIHdpZHRoPSIxMyIgaGVpZ2h0PSIxMiI+PHBhdGggZmlsbD0iI0ZGRiIgZD0iTTYuNSA5LjQzOWwtMy42NzQgMi4yMy45NC00LjI2LTMuMjEtMi44ODMgNC4yNTQtLjQwNEw2LjUuMTEybDEuNjkgNC4wMSA0LjI1NC40MDQtMy4yMSAyLjg4Mi45NCA0LjI2eiIvPjwvc3ZnPg==\"/></div><p class=\"z9E0IG\">Nice product</p></div><div class=\"row\"><div class=\"ZmyHeo\"><div><div class=\"\">Excellent Performance with good Battery Backup.<br/>Camera is Decent.<br/>The Processor is good.<br/>Looks very Unique</div><span class=\"wTYmpv\"><span>Read full review</span></span></div></div></div><div class=\"row gHqwa8\"><div class=\"row\"><p class=\"_2NsDsF AwS1CA\">Deepak</p><svg class=\"VjlQyz\" height=\"14\" viewbox=\"0 0 12 12\" width=\"14\" xmlns=\"http://www.w3.org/2000/svg\"><g><circle cx=\"6\" cy=\"6\" fill=\"#878787\" r=\"6\"></circle><path d=\"M3 6l2 2 4-4\" fill=\"#878787\" stroke=\"#FFF\" stroke-width=\"1.5\"></path></g></svg><p class=\"MztJPv\" id=\"review-2f7ece58-f458-4a6a-8858-e7bdcf27f5ae\"><span>Certified Buyer</span></p><p class=\"_2NsDsF\">3 months ago</p></div></div></div></div></div><div class=\"vQjHak\"><div class=\"VEuN0R\">Recent Review</div><div class=\"col\"><div class=\"col EPCmJX xJgaqh\"><div class=\"row\"><div class=\"XQDdHH Ga3i8K\">5<img class=\"Rza2QY\" src=\"data:image/svg+xml;base64,PHN2ZyB4bWxucz0iaHR0cDovL3d3dy53My5vcmcvMjAwMC9zdmciIHdpZHRoPSIxMyIgaGVpZ2h0PSIxMiI+PHBhdGggZmlsbD0iI0ZGRiIgZD0iTTYuNSA5LjQzOWwtMy42NzQgMi4yMy45NC00LjI2LTMuMjEtMi44ODMgNC4yNTQtLjQwNEw2LjUuMTEybDEuNjkgNC4wMSA0LjI1NC40MDQtMy4yMSAyLjg4Mi45NCA0LjI2eiIvPjwvc3ZnPg==\"/></div><p class=\"z9E0IG\">Great product</p></div><div class=\"row\"><div class=\"ZmyHeo\"><div><div class=\"\">Superb battery backup, for normal use it gives 2 days..... Camera is wonderful.... Overall value for money</div><span class=\"wTYmpv\"><span>Read full review</span></span></div></div></div><div class=\"row gHqwa8\"><div class=\"row\"><p class=\"_2NsDsF AwS1CA\">SUMANTA CHATTERJEE</p><svg class=\"VjlQyz\" height=\"14\" viewbox=\"0 0 12 12\" width=\"14\" xmlns=\"http://www.w3.org/2000/svg\"><g><circle cx=\"6\" cy=\"6\" fill=\"#878787\" r=\"6\"></circle><path d=\"M3 6l2 2 4-4\" fill=\"#878787\" stroke=\"#FFF\" stroke-width=\"1.5\"></path></g></svg><p class=\"MztJPv\" id=\"review-58865e22-115d-4390-8ea7-366921b6d248\"><span>Certified Buyer</span></p><p class=\"_2NsDsF\">2 days ago</p></div></div></div></div></div></div><div class=\"ybB1XH\"><div class=\"MohBBj\"><div class=\"Ld8TWM\"><div class=\"_4WELSP\" style=\"height:150px;width:150px\"><img alt=\"Samsung Galaxy F05 (Twilight Blue, 64 GB)\" class=\"DByuf4\" loading=\"lazy\" src=\"https://rukminim2.flixcart.com/image/300/300/xif0q/mobile/e/r/f/-original-imah56hkgehywn5b.jpeg?q=90\"/></div></div><div class=\"_8zhCRP\"><a href=\"/samsung-galaxy-f05-twilight-blue-64-gb/p/itm84a914081ab93?pid=MOBH4GTXZ9ZRQ3SU&amp;marketplace=FLIPKART\" rel=\"noopener noreferrer\" target=\"_blank\"><div class=\"kv0tEm\"><div>5. Samsung Galaxy F05 (Twiligh...</div></div><div class=\"sRoN4i\"><div class=\"XQDdHH\">4.2<img class=\"Rza2QY\" src=\"data:image/svg+xml;base64,PHN2ZyB4bWxucz0iaHR0cDovL3d3dy53My5vcmcvMjAwMC9zdmciIHdpZHRoPSIxMyIgaGVpZ2h0PSIxMiI+PHBhdGggZmlsbD0iI0ZGRiIgZD0iTTYuNSA5LjQzOWwtMy42NzQgMi4yMy45NC00LjI2LTMuMjEtMi44ODMgNC4yNTQtLjQwNEw2LjUuMTEybDEuNjkgNC4wMSA0LjI1NC40MDQtMy4yMSAyLjg4Mi45NCA0LjI2eiIvPjwvc3ZnPg==\"/></div><span class=\"Bz-crL\"><span>55,419 Ratings</span><span><span class=\"_8O4+-w\">&amp;</span><span>3,257 Reviews</span></span></span></div><div class=\"Xrs8Tf\"><div class=\"hl05eU\"><div class=\"Nx9bqj OQ4U3k\">₹6,499</div><div class=\"UkUFwK WMQHm1\"><span>35% off</span></div></div></div></a><ul class=\"akQAfe\"><li class=\"Ov4d6Q\">4 GB RAM | 64 GB ROM | Expandable Upto 1 TB</li><li class=\"Ov4d6Q\">17.12 cm (6.74 inch) HD+ Display</li><li class=\"Ov4d6Q\">50MP + 2MP | 8MP Front Camera</li></ul></div></div><div class=\"vQjHak\"><div class=\"VEuN0R\">Most Helpful Review</div><div class=\"col\"><div class=\"col EPCmJX xJgaqh\"><div class=\"row\"><div class=\"XQDdHH Ga3i8K\">4<img class=\"Rza2QY\" src=\"data:image/svg+xml;base64,PHN2ZyB4bWxucz0iaHR0cDovL3d3dy53My5vcmcvMjAwMC9zdmciIHdpZHRoPSIxMyIgaGVpZ2h0PSIxMiI+PHBhdGggZmlsbD0iI0ZGRiIgZD0iTTYuNSA5LjQzOWwtMy42NzQgMi4yMy45NC00LjI2LTMuMjEtMi44ODMgNC4yNTQtLjQwNEw2LjUuMTEybDEuNjkgNC4wMSA0LjI1NC40MDQtMy4yMSAyLjg4Mi45NCA0LjI2eiIvPjwvc3ZnPg==\"/></div><p class=\"z9E0IG\">Good quality product</p></div><div class=\"row\"><div class=\"ZmyHeo\"><div><div class=\"\">Nice phone and amazing look and UI</div><span class=\"wTYmpv\"><span>Read full review</span></span></div></div></div><div class=\"row gHqwa8\"><div class=\"row\"><p class=\"_2NsDsF AwS1CA\">Rohan Singh</p><svg class=\"VjlQyz\" height=\"14\" viewbox=\"0 0 12 12\" width=\"14\" xmlns=\"http://www.w3.org/2000/svg\"><g><circle cx=\"6\" cy=\"6\" fill=\"#878787\" r=\"6\"></circle><path d=\"M3 6l2 2 4-4\" fill=\"#878787\" stroke=\"#FFF\" stroke-width=\"1.5\"></path></g></svg><p class=\"MztJPv\" id=\"review-205fe216-ba6d-40fa-a243-5ada735ba66f\"><span>Certified Buyer</span></p><p class=\"_2NsDsF\">9 months ago</p></div></div></div></div></div><div class=\"vQjHak\"><div class=\"VEuN0R\">Recent Review</div><div class=\"col\"><div class=\"col EPCmJX xJgaqh\"><div class=\"row\"><div class=\"XQDdHH Ga3i8K\">4<img class=\"Rza2QY\" src=\"data:image/svg+xml;base64,PHN2ZyB4bWxucz0iaHR0cDovL3d3dy53My5vcmcvMjAwMC9zdmciIHdpZHRoPSIxMyIgaGVpZ2h0PSIxMiI+PHBhdGggZmlsbD0iI0ZGRiIgZD0iTTYuNSA5LjQzOWwtMy42NzQgMi4yMy45NC00LjI2LTMuMjEtMi44ODMgNC4yNTQtLjQwNEw2LjUuMTEybDEuNjkgNC4wMSA0LjI1NC40MDQtMy4yMSAyLjg4Mi45NCA0LjI2eiIvPjwvc3ZnPg==\"/></div><p class=\"z9E0IG\">Really Nice</p></div><div class=\"row\"><div class=\"ZmyHeo\"><div><div class=\"\">Best of it  but make much better</div><span class=\"wTYmpv\"><span>Read full review</span></span></div></div></div><div class=\"row gHqwa8\"><div class=\"row\"><p class=\"_2NsDsF AwS1CA\">Flipkart Customer</p><svg class=\"VjlQyz\" height=\"14\" viewbox=\"0 0 12 12\" width=\"14\" xmlns=\"http://www.w3.org/2000/svg\"><g><circle cx=\"6\" cy=\"6\" fill=\"#878787\" r=\"6\"></circle><path d=\"M3 6l2 2 4-4\" fill=\"#878787\" stroke=\"#FFF\" stroke-width=\"1.5\"></path></g></svg><p class=\"MztJPv\" id=\"review-7a3649a8-edcf-499a-92ea-e060ffe46069\"><span>Certified Buyer</span></p><p class=\"_2NsDsF\">2 days ago</p></div></div></div></div></div></div></div></div><div class=\"cPHDOP col-12-12\"></div></div><footer class=\"+NQyZq\"><div class=\"xLsVdV\"><div class=\"row\"><div class=\"col gu12 QVgdtd\"></div></div><div><div class=\"_8K2S+t row\"><div class=\"bowO0w\"><div class=\"AZc3lB\">ABOUT</div><a class=\"bXmsT+\" href=\"/helpcentre?otracker=footer_navlinks\">Contact Us</a><a class=\"bXmsT+\" href=\"https://corporate.flipkart.net/corporate-home\">About Us</a><a class=\"bXmsT+\" href=\"https://www.flipkartcareers.com/?otracker=footer_navlinks\">Careers</a><a class=\"bXmsT+\" href=\"http://stories.flipkart.com/?otracker=footer_navlinks\">Flipkart Stories</a><a class=\"bXmsT+\" href=\"http://stories.flipkart.com/category/top-stories/news/\">Press</a><a class=\"bXmsT+\" href=\"/corporate-information\">Corporate Information</a></div><div class=\"bowO0w\"><div class=\"AZc3lB\">GROUP COMPANIES</div><a class=\"bXmsT+\" href=\"https://www.myntra.com/\" rel=\"noopener noreferrer\" target=\"_blank\" title=\"Myntra\">Myntra</a><a class=\"bXmsT+\" href=\"https://www.cleartrip.com/\" rel=\"noopener noreferrer\" target=\"_blank\" title=\"Cleartrip: #1 Site for Booking Flights Tickets, Buses &amp; Hotels Online\">Cleartrip</a><a class=\"bXmsT+\" href=\"https://www.shopsy.in/\" rel=\"noopener noreferrer\" target=\"_blank\" title=\"Shopsy\">Shopsy</a></div><div class=\"bowO0w\"><div class=\"AZc3lB\">HELP</div><a class=\"bXmsT+\" href=\"/pages/payments\">Payments</a><a class=\"bXmsT+\" href=\"/pages/shipping\">Shipping</a><a class=\"bXmsT+\" href=\"/helpcentre?catalog=55c9c6edb000002e002c1701&amp;view=CATALOG\">Cancellation &amp; Returns</a><a class=\"bXmsT+\" href=\"/helpcentre?catalog=55c9c8e2b0000023002c1702&amp;view=CATALOG\">FAQ</a></div><div class=\"bowO0w\"><div class=\"AZc3lB\">CONSUMER POLICY</div><a class=\"bXmsT+\" href=\"/pages/returnpolicy?otracker=footer_navlinks\">Cancellation &amp; Returns</a><a class=\"bXmsT+\" href=\"/pages/terms?otracker=footer_navlinks\">Terms Of Use</a><a class=\"bXmsT+\" href=\"/pages/paymentsecurity?otracker=footer_navlinks\">Security</a><a class=\"bXmsT+\" href=\"/pages/privacypolicy?otracker=footer_navlinks\">Privacy</a><a class=\"bXmsT+\" href=\"/sitemap?otracker=footer_navlinks\">Sitemap</a><a class=\"bXmsT+\" href=\"/pages/grievance-redressal-mechanism?otracker=footer_navlinks\">Grievance Redressal</a><a class=\"bXmsT+\" href=\"/pages/ewaste-compliance-tnc?otracker=footer_navlinks\">EPR Compliance</a></div><div class=\"bowO0w address\"><div class=\"_8W+7ID\"><div class=\"AZc3lB\"><span>Mail Us:</span></div><div class=\"iE4xEP\"><div class=\"aL22KS\"><div class=\"KalC6f iE4xEP\"><p>Flipkart Internet Private Limited, </p>\n",
      "<p> Buildings Alyssa, Begonia &amp; </p>\n",
      "<p> Clove Embassy Tech Village, </p>\n",
      "<p> Outer Ring Road, Devarabeesanahalli Village, </p>\n",
      "<p> Bengaluru, 560103, </p>\n",
      "<p> Karnataka, India</p>\n",
      "</div></div></div><div class=\"AZc3lB\">Social</div><div class=\"mK8LcN\"><span class=\"RbqUpy\"><a href=\"https://www.facebook.com/flipkart\"><img height=\"24\" src=\"data:image/svg+xml;base64,PHN2ZyB3aWR0aD0iMjUiIGhlaWdodD0iMjQiIHZpZXdCb3g9IjAgMCAyNSAyNCIgZmlsbD0ibm9uZSIgeG1sbnM9Imh0dHA6Ly93d3cudzMub3JnLzIwMDAvc3ZnIj4KPHBhdGggZD0iTTEyLjkzMzEgMjFDMTcuOTAzNyAyMSAyMS45MzMxIDE2Ljk3MDYgMjEuOTMzMSAxMkMyMS45MzMxIDcuMDI5NDQgMTcuOTAzNyAzIDEyLjkzMzEgM0M3Ljk2MjU0IDMgMy45MzMxMSA3LjAyOTQ0IDMuOTMzMTEgMTJDMy45MzMxMSAxNi45NzA2IDcuOTYyNTQgMjEgMTIuOTMzMSAyMVoiIHN0cm9rZT0id2hpdGUiIHN0cm9rZS13aWR0aD0iMS41IiBzdHJva2UtbGluZWNhcD0icm91bmQiIHN0cm9rZS1saW5lam9pbj0icm91bmQiLz4KPHBhdGggZD0iTTE2LjY4MzEgOC4yNUgxNS4xODMxQzE0LjU4NjQgOC4yNSAxNC4wMTQxIDguNDg3MDUgMTMuNTkyMSA4LjkwOTAxQzEzLjE3MDIgOS4zMzA5NyAxMi45MzMxIDkuOTAzMjYgMTIuOTMzMSAxMC41VjIxIiBzdHJva2U9IndoaXRlIiBzdHJva2Utd2lkdGg9IjEuNSIgc3Ryb2tlLWxpbmVjYXA9InJvdW5kIiBzdHJva2UtbGluZWpvaW49InJvdW5kIi8+CjxwYXRoIGQ9Ik05LjkzMzExIDEzLjVIMTUuOTMzMSIgc3Ryb2tlPSJ3aGl0ZSIgc3Ryb2tlLXdpZHRoPSIxLjUiIHN0cm9rZS1saW5lY2FwPSJyb3VuZCIgc3Ryb2tlLWxpbmVqb2luPSJyb3VuZCIvPgo8L3N2Zz4K\" width=\"24\"/></a></span><span class=\"RbqUpy\"><a href=\"https://www.twitter.com/flipkart\"><img height=\"24\" src=\"data:image/svg+xml;base64,PHN2ZyB3aWR0aD0iMjQiIGhlaWdodD0iMjQiIHZpZXdCb3g9IjAgMCAyNCAyNCIgZmlsbD0ibm9uZSIgeG1sbnM9Imh0dHA6Ly93d3cudzMub3JnLzIwMDAvc3ZnIj4KPGcgY2xpcC1wYXRoPSJ1cmwoI2NsaXAwXzE4M18yMCkiPgo8cGF0aCBkPSJNMTMuNTQzNiAxMC42MTc5TDIwLjA5NzEgM0gxOC41NDQxTDEyLjg1MzcgOS42MTQ0OEw4LjMwODg3IDNIMy4wNjY4OUw5LjkzOTY0IDEzLjAwMjNMMy4wNjY4OSAyMC45OTA4SDQuNjE5OTRMMTAuNjI5MSAxNC4wMDU2TDE1LjQyODggMjAuOTkwOEgyMC42NzA4TDEzLjU0MzIgMTAuNjE3OUgxMy41NDM2Wk0xMS40MTY1IDEzLjA5MDRMMTAuNzIwMiAxMi4wOTQ0TDUuMTc5NTMgNC4xNjkxMUg3LjU2NDkxTDEyLjAzNjMgMTAuNTY1MUwxMi43MzI2IDExLjU2MTFMMTguNTQ0OCAxOS44NzQ4SDE2LjE1OTVMMTEuNDE2NSAxMy4wOTA4VjEzLjA5MDRaIiBmaWxsPSJ3aGl0ZSIvPgo8L2c+CjxkZWZzPgo8Y2xpcFBhdGggaWQ9ImNsaXAwXzE4M18yMCI+CjxyZWN0IHg9IjMuMDY2ODkiIHk9IjMiIHdpZHRoPSIxNy42MDM5IiBoZWlnaHQ9IjE4IiByeD0iMC4yIiBmaWxsPSJ3aGl0ZSIvPgo8L2NsaXBQYXRoPgo8L2RlZnM+Cjwvc3ZnPgo=\" width=\"24\"/></a></span><span class=\"RbqUpy\"><a href=\"https://www.youtube.com/flipkart\"><img height=\"24\" src=\"//static-assets-web.flixcart.com/fk-p-linchpin-web/fk-cp-zion/img/YoutubeLogo_958b78.svg\" width=\"24\"/></a></span><span class=\"RbqUpy\"><a href=\"https://www.instagram.com/flipkart\"><img height=\"20\" src=\"//static-assets-web.flixcart.com/fk-p-linchpin-web/fk-cp-zion/img/InstagramLogo_854a2c.svg\" width=\"20\"/></a></span></div></div></div><div class=\"bowO0w address\"><div class=\"QYRYF-\"><div class=\"AZc3lB\"><span>Registered Office Address:</span></div><div class=\"iE4xEP\"><div class=\"aL22KS\"><div class=\"KalC6f iE4xEP\"><p>Flipkart Internet Private Limited, </p>\n",
      "<p> Buildings Alyssa, Begonia &amp; </p>\n",
      "<p> Clove Embassy Tech Village, </p>\n",
      "<p> Outer Ring Road, Devarabeesanahalli Village, </p>\n",
      "<p> Bengaluru, 560103, </p>\n",
      "<p> Karnataka, India </p>\n",
      "<p> CIN : U51109KA2012PTC066107 </p>\n",
      "<p> Telephone: <a href=\"tel:044-45614700\">044-45614700</a> / <a href=\"tel:044-67415800\">044-67415800</a></p>\n",
      "</div></div></div></div></div></div><div><div class=\"pXtEV2\"><div><img src=\"data:image/svg+xml;base64,PHN2ZyB4bWxucz0iaHR0cDovL3d3dy53My5vcmcvMjAwMC9zdmciIHdpZHRoPSIxNiIgaGVpZ2h0PSIxNSIgdmlld0JveD0iMCAwIDE2IDE1Ij4KICAgIDxkZWZzPgogICAgICAgIDxsaW5lYXJHcmFkaWVudCBpZD0iYSIgeDE9IjAlIiB4Mj0iODYuODc2JSIgeTE9IjAlIiB5Mj0iODAuMjAyJSI+CiAgICAgICAgICAgIDxzdG9wIG9mZnNldD0iMCUiIHN0b3AtY29sb3I9IiNGRkQ4MDAiLz4KICAgICAgICAgICAgPHN0b3Agb2Zmc2V0PSIxMDAlIiBzdG9wLWNvbG9yPSIjRkZBRjAwIi8+CiAgICAgICAgPC9saW5lYXJHcmFkaWVudD4KICAgIDwvZGVmcz4KICAgIDxnIGZpbGw9Im5vbmUiIGZpbGwtcnVsZT0iZXZlbm9kZCI+CiAgICAgICAgPHBhdGggZD0iTS0yLTJoMjB2MjBILTJ6Ii8+CiAgICAgICAgPHBhdGggZmlsbD0idXJsKCNhKSIgZmlsbC1ydWxlPSJub256ZXJvIiBkPSJNMTUuOTMgNS42MTRoLTIuOTQ4VjQuMTRjMC0uODE4LS42NTUtMS40NzMtMS40NzMtMS40NzNIOC41NmMtLjgxNyAwLTEuNDczLjY1NS0xLjQ3MyAxLjQ3M3YxLjQ3NEg0LjE0Yy0uODE4IDAtMS40NjYuNjU2LTEuNDY2IDEuNDc0bC0uMDA3IDguMTA1YzAgLjgxOC42NTUgMS40NzQgMS40NzMgMS40NzRoMTEuNzljLjgxOCAwIDEuNDc0LS42NTYgMS40NzQtMS40NzRWNy4wODhjMC0uODE4LS42NTYtMS40NzQtMS40NzQtMS40NzR6bS00LjQyMSAwSDguNTZWNC4xNGgyLjk0OHYxLjQ3NHoiIHRyYW5zZm9ybT0idHJhbnNsYXRlKC0yIC0yKSIvPgogICAgPC9nPgo8L3N2Zz4K\"/><a href=\"https://seller.flipkart.com/?utm_source=fkwebsite&amp;utm_medium=websitedirect\"><span class=\"XqVBP0\">Become a Seller</span></a></div><div><img src=\"data:image/svg+xml;base64,PHN2ZyB4bWxucz0iaHR0cDovL3d3dy53My5vcmcvMjAwMC9zdmciIHdpZHRoPSIxNSIgaGVpZ2h0PSIxNSIgdmlld0JveD0iMCAwIDE1IDE1Ij4KICAgIDxkZWZzPgogICAgICAgIDxsaW5lYXJHcmFkaWVudCBpZD0iYSIgeDE9IjAlIiB4Mj0iODYuODc2JSIgeTE9IjAlIiB5Mj0iODAuMjAyJSI+CiAgICAgICAgICAgIDxzdG9wIG9mZnNldD0iMCUiIHN0b3AtY29sb3I9IiNGRkQ4MDAiLz4KICAgICAgICAgICAgPHN0b3Agb2Zmc2V0PSIxMDAlIiBzdG9wLWNvbG9yPSIjRkZBRjAwIi8+CiAgICAgICAgPC9saW5lYXJHcmFkaWVudD4KICAgIDwvZGVmcz4KICAgIDxnIGZpbGw9Im5vbmUiIGZpbGwtcnVsZT0iZXZlbm9kZCI+CiAgICAgICAgPHBhdGggZD0iTS0zLTNoMjB2MjBILTN6Ii8+CiAgICAgICAgPHBhdGggZmlsbD0idXJsKCNhKSIgZmlsbC1ydWxlPSJub256ZXJvIiBkPSJNMTAuNDkyIDNDNi4zNTMgMyAzIDYuMzYgMyAxMC41YzAgNC4xNCAzLjM1MyA3LjUgNy40OTIgNy41QzE0LjY0IDE4IDE4IDE0LjY0IDE4IDEwLjUgMTggNi4zNiAxNC42NCAzIDEwLjQ5MiAzem0zLjE4IDEyTDEwLjUgMTMuMDg4IDcuMzI3IDE1bC44NC0zLjYwN0w1LjM3IDguOTdsMy42OS0uMzE1TDEwLjUgNS4yNWwxLjQ0IDMuMzk4IDMuNjkuMzE1LTIuNzk4IDIuNDIyLjg0IDMuNjE1eiIgdHJhbnNmb3JtPSJ0cmFuc2xhdGUoLTMgLTMpIi8+CiAgICA8L2c+Cjwvc3ZnPgo=\"/><a href=\"https://brands.flipkart.com\"><span class=\"XqVBP0\">Advertise</span></a></div><div><img src=\"data:image/svg+xml;base64,PHN2ZyB4bWxucz0iaHR0cDovL3d3dy53My5vcmcvMjAwMC9zdmciIHdpZHRoPSIxOCIgaGVpZ2h0PSIxNyIgdmlld0JveD0iMCAwIDE4IDE3Ij4KICAgIDxkZWZzPgogICAgICAgIDxsaW5lYXJHcmFkaWVudCBpZD0iYSIgeDE9IjAlIiB4Mj0iODYuODc2JSIgeTE9IjAlIiB5Mj0iODAuMjAyJSI+CiAgICAgICAgICAgIDxzdG9wIG9mZnNldD0iMCUiIHN0b3AtY29sb3I9IiNGRkQ4MDAiLz4KICAgICAgICAgICAgPHN0b3Agb2Zmc2V0PSIxMDAlIiBzdG9wLWNvbG9yPSIjRkZBRjAwIi8+CiAgICAgICAgPC9saW5lYXJHcmFkaWVudD4KICAgIDwvZGVmcz4KICAgIDxnIGZpbGw9Im5vbmUiIGZpbGwtcnVsZT0iZXZlbm9kZCI+CiAgICAgICAgPHBhdGggZD0iTS0xLTFoMjB2MjBILTF6Ii8+CiAgICAgICAgPHBhdGggZmlsbD0idXJsKCNhKSIgZmlsbC1ydWxlPSJub256ZXJvIiBkPSJNMTYuNjY3IDVIMTQuODVjLjA5Mi0uMjU4LjE1LS41NDIuMTUtLjgzM2EyLjQ5NyAyLjQ5NyAwIDAgMC00LjU4My0xLjM3NUwxMCAzLjM1bC0uNDE3LS41NjdBMi41MSAyLjUxIDAgMCAwIDcuNSAxLjY2N2EyLjQ5NyAyLjQ5NyAwIDAgMC0yLjUgMi41YzAgLjI5MS4wNTguNTc1LjE1LjgzM0gzLjMzM2MtLjkyNSAwLTEuNjU4Ljc0Mi0xLjY1OCAxLjY2N2wtLjAwOCA5LjE2NkExLjY2IDEuNjYgMCAwIDAgMy4zMzMgMTcuNWgxMy4zMzRhMS42NiAxLjY2IDAgMCAwIDEuNjY2LTEuNjY3VjYuNjY3QTEuNjYgMS42NiAwIDAgMCAxNi42NjcgNXptMCA2LjY2N0gzLjMzM3YtNWg0LjIzNEw1LjgzMyA5LjAyNWwxLjM1Ljk3NSAxLjk4NC0yLjdMMTAgNi4xNjdsLjgzMyAxLjEzMyAxLjk4NCAyLjcgMS4zNS0uOTc1LTEuNzM0LTIuMzU4aDQuMjM0djV6IiB0cmFuc2Zvcm09InRyYW5zbGF0ZSgtMSAtMSkiLz4KICAgIDwvZz4KPC9zdmc+Cg==\"/><a href=\"/the-gift-card-store?otracker=footer_navlinks\"><span class=\"XqVBP0\">Gift Cards</span></a></div><div><img src=\"data:image/svg+xml;base64,PHN2ZyB4bWxucz0iaHR0cDovL3d3dy53My5vcmcvMjAwMC9zdmciIHdpZHRoPSIxNSIgaGVpZ2h0PSIxNSIgdmlld0JveD0iMCAwIDE1IDE1Ij4KICAgIDxkZWZzPgogICAgICAgIDxsaW5lYXJHcmFkaWVudCBpZD0iYSIgeDE9IjAlIiB4Mj0iODYuODc2JSIgeTE9IjAlIiB5Mj0iODAuMjAyJSI+CiAgICAgICAgICAgIDxzdG9wIG9mZnNldD0iMCUiIHN0b3AtY29sb3I9IiNGRkQ4MDAiLz4KICAgICAgICAgICAgPHN0b3Agb2Zmc2V0PSIxMDAlIiBzdG9wLWNvbG9yPSIjRkZBRjAwIi8+CiAgICAgICAgPC9saW5lYXJHcmFkaWVudD4KICAgIDwvZGVmcz4KICAgIDxnIGZpbGw9Im5vbmUiIGZpbGwtcnVsZT0iZXZlbm9kZCI+CiAgICAgICAgPHBhdGggZD0iTS0yLTNoMjB2MjBILTJ6Ii8+CiAgICAgICAgPHBhdGggZmlsbD0idXJsKCNhKSIgZmlsbC1ydWxlPSJub256ZXJvIiBkPSJNOS41IDNDNS4zNiAzIDIgNi4zNiAyIDEwLjUgMiAxNC42NCA1LjM2IDE4IDkuNSAxOGM0LjE0IDAgNy41LTMuMzYgNy41LTcuNUMxNyA2LjM2IDEzLjY0IDMgOS41IDN6bS43NSAxMi43NWgtMS41di0xLjVoMS41djEuNXptMS41NTMtNS44MTNsLS42NzYuNjljLS41NC41NDgtLjg3Ny45OTgtLjg3NyAyLjEyM2gtMS41di0uMzc1YzAtLjgyNS4zMzgtMS41NzUuODc3LTIuMTIzbC45My0uOTQ1Yy4yNzgtLjI3LjQ0My0uNjQ1LjQ0My0xLjA1NyAwLS44MjUtLjY3NS0xLjUtMS41LTEuNVM4IDcuNDI1IDggOC4yNUg2LjVhMyAzIDAgMSAxIDYgMGMwIC42Ni0uMjcgMS4yNi0uNjk3IDEuNjg4eiIgdHJhbnNmb3JtPSJ0cmFuc2xhdGUoLTIgLTMpIi8+CiAgICA8L2c+Cjwvc3ZnPgo=\"/><a href=\"/helpcentre?otracker=footer_navlinks\"><span class=\"XqVBP0\">Help Center</span></a></div><span class=\"T8+RtG\">© 2007-<!-- -->2025<!-- --> <span>Flipkart.com</span></span><img src=\"//static-assets-web.flixcart.com/fk-p-linchpin-web/fk-cp-zion/img/payment-method_69e7ec.svg\"/></div></div></div></div></footer><div class=\"XiSiPK AqhsUa\"><div class=\"sRIueJ\"><svg class=\"jY-KQI\" height=\"27\" viewbox=\"0 0 16 27\" width=\"16\" xmlns=\"http://www.w3.org/2000/svg\"><path class=\"laqJUS\" d=\"M16 23.207L6.11 13.161 16 3.093 12.955 0 0 13.161l12.955 13.161z\" fill=\"#fff\"></path></svg><span>Back to top</span></div></div></div></div> <script id=\"jsonLD\" nonce=\"1490781247681810480\" type=\"application/ld+json\">{}</script> <script id=\"jsonLD\" nonce=\"1490781247681810480\" type=\"application/ld+json\">{}</script><script nonce=\"1490781247681810480\" type=\"application/ld+json\">{\n",
      "    \"@context\": \"http://schema.org\",\n",
      "    \"@type\": \"WebSite\",\n",
      "    \"url\": \"http://www.flipkart.com/\",\n",
      "    \"potentialAction\": [{\n",
      "        \"@type\": \"SearchAction\",\n",
      "        \"target\": \"http://www.flipkart.com/search?q={search_term_string}\",\n",
      "        \"query-input\": \"required name=search_term_string\"\n",
      "        },{\n",
      "        \"@type\": \"SearchAction\",\n",
      "        \"target\": \"android-app://com.flipkart.android/flipkart/de_sq_seg_-search.flipkart.com-_{search_term_string}\",\n",
      "        \"query-input\": \"required name=search_term_string\"\n",
      "    }]\n",
      "}</script><script id=\"is_script\" nonce=\"1490781247681810480\">window.__INITIAL_STATE__ = {};</script> <link data-chunk=\"NavMenu\" href=\"//static-assets-web.flixcart.com/fk-p-linchpin-web/fk-cp-zion/css/NavMenu.chunk.9995bd.css\" rel=\"stylesheet\"/>\n",
      "<link data-chunk=\"SearchFeedback\" href=\"//static-assets-web.flixcart.com/fk-p-linchpin-web/fk-cp-zion/css/SearchFeedback.chunk.244b23.css\" rel=\"stylesheet\"/> <script id=\"__LOADABLE_REQUIRED_CHUNKS__\" type=\"application/json\">[132,208]</script><script id=\"__LOADABLE_REQUIRED_CHUNKS___ext\" type=\"application/json\">{\"namedChunks\":[\"NavMenu\",\"SearchFeedback\"]}</script>\n",
      "<script async=\"\" data-chunk=\"NavMenu\" src=\"//static-assets-web.flixcart.com/fk-p-linchpin-web/fk-cp-zion/js/NavMenu.chunk.c89c8ffa.js\"></script>\n",
      "<script async=\"\" data-chunk=\"SearchFeedback\" src=\"//static-assets-web.flixcart.com/fk-p-linchpin-web/fk-cp-zion/js/SearchFeedback.chunk.81260451.js\"></script><script nonce=\"1490781247681810480\">window.omniture={tpv:[],tl:[]};window.omniture.trackPageView=function(){window.omniture.tpv.push(arguments)};window.omniture.trackLink=function(){window.omniture.tl.push(arguments)}\n",
      "\n",
      "    if(window.location.host === 'www.flipkart.com' || /\\.store\\.flipkart\\.com/i.test(window.location.host)){\n",
      "        window.s_account = \"flipkart-prd\"; //omniture account id\n",
      "    }else{\n",
      "        window.s_account = \"flipkart-prd-test\";\n",
      "    }\n",
      "    window.s_isDesktop = true;</script><script nonce=\"1490781247681810480\">function isMobile(){\n",
      "\t\tif (!!(navigator.userAgentData && navigator.userAgentData.mobile) || navigator.userAgent.indexOf(\"Mobile\") !== -1){\n",
      "\t\t\treturn true;\n",
      "\t\t}\n",
      "\t\telse {\n",
      "\t\t\treturn false;\n",
      "\t\t}\n",
      "\t}\n",
      "\n",
      "\tif ('serviceWorker' in navigator && !isMobile()) {\n",
      "\t\tnavigator.serviceWorker.register('/sw.js').then(function(registration) {\n",
      "\t\t\tconsole.log('ServiceWorker registration successful with scope: ', registration.scope);\n",
      "\t\t\tnavigator.onLine && navigator.serviceWorker.controller && navigator.serviceWorker.controller.postMessage('BANDWIDTH_COMPUTE');\n",
      "\t\t\tnavigator.serviceWorker.addEventListener('message', function (event) {\n",
      "\t\t\t\ttry {\n",
      "\t\t\t\t\tconst bandwidthData = JSON.parse(event.data);\n",
      "\t\t\t\t\tif (bandwidthData && bandwidthData.data) {\n",
      "\t\t\t\t\t\twindow.bandwidth = bandwidthData.data.downlink + '_' + bandwidthData.data.computeMethod + '_' + bandwidthData.data.effectiveType + '_' + bandwidthData.data.type;\n",
      "\t\t\t\t\t}\n",
      "\t\t\t\t}catch(err) {\n",
      "\t\t\t\t\tconsole.error('JSON.parse failed:', err);\n",
      "\t\t\t\t}\n",
      "\t\t\t});\n",
      "\t\t})\n",
      "\t\t.catch(function(err) {\n",
      "\t\t\tconsole.log('%c ServiceWorker registration failed: ', \"color:red;\", err);\n",
      "\t\t});\n",
      "\t} else if('serviceWorker' in navigator && isMobile()){\n",
      "        navigator.serviceWorker.getRegistration().then(function(registration) {\n",
      "            var serviceWorkerUnregistered=false;\n",
      "            if(registration) {\n",
      "                registration.unregister();\n",
      "                serviceWorkerUnregistered=true;\n",
      "            }\n",
      "            serviceWorkerUnregistered && window.location.reload();\n",
      "        });\n",
      "    }</script> <script async=\"\" defer=\"defer\" id=\"omni_script\" nonce=\"1490781247681810480\" src=\"//static-assets-web.flixcart.com/www/linchpin/batman-returns/omni/omni16.js\"></script> </body></html>\n"
     ]
    }
   ],
   "source": [
    "print(page_soup)"
   ]
  },
  {
   "cell_type": "code",
   "execution_count": 12,
   "id": "e9e70cc4",
   "metadata": {},
   "outputs": [],
   "source": [
    "all_info_class_name = \"yKfJKb row\""
   ]
  },
  {
   "cell_type": "code",
   "execution_count": 13,
   "id": "3d9ea9ef",
   "metadata": {},
   "outputs": [],
   "source": [
    "containers = page_soup.find_all(\"div\", {\"class\": all_info_class_name})"
   ]
  },
  {
   "cell_type": "code",
   "execution_count": 14,
   "id": "d8eafe9e",
   "metadata": {},
   "outputs": [
    {
     "data": {
      "text/plain": [
       "24"
      ]
     },
     "execution_count": 14,
     "metadata": {},
     "output_type": "execute_result"
    }
   ],
   "source": [
    "len(containers)"
   ]
  },
  {
   "cell_type": "code",
   "execution_count": null,
   "id": "4051c3d6",
   "metadata": {},
   "outputs": [],
   "source": [
    "required_cols = [\"product_name\", \"actual_price\", \"sale_price\", \"raview & rattings\",\n",
    "                 \"Offer\", \"Camera\", \"processor\", \"memory\", \"Battery\", \"Display\"]"
   ]
  },
  {
   "cell_type": "code",
   "execution_count": 19,
   "id": "d7b63995",
   "metadata": {},
   "outputs": [],
   "source": [
    "product_name = containers[0].find_all(\"div\", {\"class\": \"KzDlHZ\"})[0].text"
   ]
  },
  {
   "cell_type": "code",
   "execution_count": 21,
   "id": "4bbb4fa0",
   "metadata": {},
   "outputs": [],
   "source": [
    "review_and_ratting = containers[0].find_all(\"div\", {\"class\": \"_5OesEi\"})[0].text"
   ]
  },
  {
   "cell_type": "code",
   "execution_count": 45,
   "id": "11cfbfa8",
   "metadata": {},
   "outputs": [
    {
     "data": {
      "text/plain": [
       "'4.15,334 Ratings\\xa0&\\xa0324 Reviews'"
      ]
     },
     "execution_count": 45,
     "metadata": {},
     "output_type": "execute_result"
    }
   ],
   "source": [
    "review_and_ratting"
   ]
  },
  {
   "cell_type": "code",
   "execution_count": 24,
   "id": "1cc8b680",
   "metadata": {},
   "outputs": [],
   "source": [
    "specifictations = containers[0].find_all(\"div\", {\"class\": \"_6NESgJ\"})[0]"
   ]
  },
  {
   "cell_type": "code",
   "execution_count": 27,
   "id": "665285c3",
   "metadata": {},
   "outputs": [
    {
     "data": {
      "text/plain": [
       "<div class=\"_6NESgJ\"><ul class=\"G4BRas\"><li class=\"J+igdf\">6 GB RAM | 128 GB ROM | Expandable Upto 2 TB</li><li class=\"J+igdf\">17.48 cm (6.88 inch) HD+ Display</li><li class=\"J+igdf\">32MP Rear Camera | 8MP Front Camera</li><li class=\"J+igdf\">5200 mAh Battery</li><li class=\"J+igdf\">Unisoc T7250\n",
       "Max clock speed: \n",
       "2 x A75@1.8GHz\n",
       "6 x A55@1.6GHz Processor</li><li class=\"J+igdf\">1 Year Manufacturer Warranty for Phone and 6 Months Warranty for In the Box Accessories</li></ul></div>"
      ]
     },
     "execution_count": 27,
     "metadata": {},
     "output_type": "execute_result"
    }
   ],
   "source": [
    "specifictations"
   ]
  },
  {
   "cell_type": "code",
   "execution_count": 49,
   "id": "eb07c611",
   "metadata": {},
   "outputs": [
    {
     "data": {
      "text/plain": [
       "'6 GB RAM | 128 GB ROM | Expandable Upto 2 TB'"
      ]
     },
     "execution_count": 49,
     "metadata": {},
     "output_type": "execute_result"
    }
   ],
   "source": [
    "memory_info = specifictations.find_all('li')[0].text\n",
    "memory_info"
   ]
  },
  {
   "cell_type": "code",
   "execution_count": 32,
   "id": "09ada011",
   "metadata": {},
   "outputs": [
    {
     "data": {
      "text/plain": [
       "'17.48 cm (6.88 inch) HD+ Display'"
      ]
     },
     "execution_count": 32,
     "metadata": {},
     "output_type": "execute_result"
    }
   ],
   "source": [
    "specifictations.find_all('li')[1].text"
   ]
  },
  {
   "cell_type": "code",
   "execution_count": 36,
   "id": "2c373b35",
   "metadata": {},
   "outputs": [
    {
     "data": {
      "text/plain": [
       "'32MP Rear Camera | 8MP Front Camera'"
      ]
     },
     "execution_count": 36,
     "metadata": {},
     "output_type": "execute_result"
    }
   ],
   "source": [
    "specifictations.find_all('li')[2].text"
   ]
  },
  {
   "cell_type": "code",
   "execution_count": 37,
   "id": "3c0347a6",
   "metadata": {},
   "outputs": [
    {
     "data": {
      "text/plain": [
       "'5200 mAh Battery'"
      ]
     },
     "execution_count": 37,
     "metadata": {},
     "output_type": "execute_result"
    }
   ],
   "source": [
    "specifictations.find_all('li')[3].text"
   ]
  },
  {
   "cell_type": "code",
   "execution_count": 40,
   "id": "e846d75f",
   "metadata": {},
   "outputs": [
    {
     "data": {
      "text/plain": [
       "'₹6,999₹9,99930% off'"
      ]
     },
     "execution_count": 40,
     "metadata": {},
     "output_type": "execute_result"
    }
   ],
   "source": [
    "price = containers[0].find_all(\"div\", {\"class\": \"hl05eU\"})[0].text\n",
    "price"
   ]
  },
  {
   "cell_type": "code",
   "execution_count": 41,
   "id": "8d0500a2",
   "metadata": {},
   "outputs": [
    {
     "data": {
      "text/plain": [
       "'30% off'"
      ]
     },
     "execution_count": 41,
     "metadata": {},
     "output_type": "execute_result"
    }
   ],
   "source": [
    "containers[0].find_all(\"div\", {\"class\": \"UkUFwK\"})[0].text"
   ]
  },
  {
   "cell_type": "code",
   "execution_count": 46,
   "id": "9896dd6f",
   "metadata": {},
   "outputs": [],
   "source": [
    "data_cols = [\"Product Name\", \"Sale & Actual Price\", \"Raview & Rattings\",\n",
    "                 \"Offer\", \"Camera\", \"Memory\", \"Battery\", \"Display\", \"Ratting Number\"]"
   ]
  },
  {
   "cell_type": "code",
   "execution_count": 47,
   "id": "9f88a059",
   "metadata": {},
   "outputs": [],
   "source": []
  },
  {
   "cell_type": "code",
   "execution_count": 48,
   "id": "5c1fafcc",
   "metadata": {},
   "outputs": [
    {
     "data": {
      "text/plain": [
       "{'Product Name': [],\n",
       " 'Sale & Actual Price': [],\n",
       " 'Raview & Rattings': [],\n",
       " 'Offer': [],\n",
       " 'Camera': [],\n",
       " 'Memory': [],\n",
       " 'Battery': [],\n",
       " 'Display': [],\n",
       " 'Ratting Number': []}"
      ]
     },
     "execution_count": 48,
     "metadata": {},
     "output_type": "execute_result"
    }
   ],
   "source": [
    "data"
   ]
  },
  {
   "cell_type": "code",
   "execution_count": 96,
   "id": "9d7d955c",
   "metadata": {},
   "outputs": [],
   "source": [
    "data = {\"Product Name\": [],\n",
    "        \"Sale & Actual Price\": [],\n",
    "        \"Raview & Rattings\": [],\n",
    "        \"Offer\": [],\n",
    "        \"Camera\": [],\n",
    "        \"Memory\": [],\n",
    "        \"Battery\": [],\n",
    "        \"Display\": [],\n",
    "        \"Ratting Number\": []}\n",
    "\n",
    "for contain in containers:\n",
    "    product_name = contain.find_all(\"div\", {\"class\": \"KzDlHZ\"})[0].text\n",
    "    data[\"Product Name\"].append(product_name)\n",
    "    \n",
    "    rr = contain.find_all(\"span\", {\"class\": \"Wphh3N\"})\n",
    "    if len(rr) == 0:\n",
    "        review_and_ratting = None\n",
    "        ratting_number = None\n",
    "    else:\n",
    "        review_and_ratting = rr[0].text\n",
    "        ratting_number = contain.find_all(\"div\", {\"class\": \"XQDdHH\"})[0].text\n",
    "        \n",
    "    data[\"Raview & Rattings\"].append(review_and_ratting)\n",
    "    data[\"Ratting Number\"].append(ratting_number)\n",
    "    \n",
    "    specifictations = contain.find_all(\"div\", {\"class\": \"_6NESgJ\"})[0]\n",
    "    \n",
    "    data[\"Memory\"].append(specifictations.find_all('li')[0].text)\n",
    "    data[\"Display\"].append(specifictations.find_all('li')[1].text)\n",
    "    data[\"Camera\"].append(specifictations.find_all('li')[2].text)\n",
    "    data[\"Battery\"].append(specifictations.find_all('li')[3].text)\n",
    "    \n",
    "    price = contain.find_all(\"div\", {\"class\": \"hl05eU\"})[0].text\n",
    "    data[\"Sale & Actual Price\"].append(price)\n",
    "    \n",
    "    offer_list = contain.find_all(\"div\", {\"class\": \"UkUFwK\"})\n",
    "    if len(offer_list) == 0:\n",
    "        data[\"Offer\"].append(\"No Offer\")\n",
    "    else:\n",
    "        data[\"Offer\"].append(offer_list[0].text)\n",
    "    "
   ]
  },
  {
   "cell_type": "code",
   "execution_count": 97,
   "id": "9a729c4c",
   "metadata": {},
   "outputs": [
    {
     "data": {
      "text/html": [
       "<div>\n",
       "<style scoped>\n",
       "    .dataframe tbody tr th:only-of-type {\n",
       "        vertical-align: middle;\n",
       "    }\n",
       "\n",
       "    .dataframe tbody tr th {\n",
       "        vertical-align: top;\n",
       "    }\n",
       "\n",
       "    .dataframe thead th {\n",
       "        text-align: right;\n",
       "    }\n",
       "</style>\n",
       "<table border=\"1\" class=\"dataframe\">\n",
       "  <thead>\n",
       "    <tr style=\"text-align: right;\">\n",
       "      <th></th>\n",
       "      <th>Product Name</th>\n",
       "      <th>Sale &amp; Actual Price</th>\n",
       "      <th>Raview &amp; Rattings</th>\n",
       "      <th>Offer</th>\n",
       "      <th>Camera</th>\n",
       "      <th>Memory</th>\n",
       "      <th>Battery</th>\n",
       "      <th>Display</th>\n",
       "      <th>Ratting Number</th>\n",
       "    </tr>\n",
       "  </thead>\n",
       "  <tbody>\n",
       "    <tr>\n",
       "      <th>0</th>\n",
       "      <td>POCO C71 (Cool Blue, 128 GB)</td>\n",
       "      <td>₹6,999₹9,99930% off</td>\n",
       "      <td>5,334 Ratings &amp; 324 Reviews</td>\n",
       "      <td>30% off</td>\n",
       "      <td>32MP Rear Camera | 8MP Front Camera</td>\n",
       "      <td>6 GB RAM | 128 GB ROM | Expandable Upto 2 TB</td>\n",
       "      <td>5200 mAh Battery</td>\n",
       "      <td>17.48 cm (6.88 inch) HD+ Display</td>\n",
       "      <td>4.1</td>\n",
       "    </tr>\n",
       "    <tr>\n",
       "      <th>1</th>\n",
       "      <td>Samsung Galaxy F05 (Twilight Blue, 64 GB)</td>\n",
       "      <td>₹6,499₹9,99935% off</td>\n",
       "      <td>55,419 Ratings &amp; 3,257 Reviews</td>\n",
       "      <td>35% off</td>\n",
       "      <td>50MP + 2MP | 8MP Front Camera</td>\n",
       "      <td>4 GB RAM | 64 GB ROM | Expandable Upto 1 TB</td>\n",
       "      <td>5000 mAh Battery</td>\n",
       "      <td>17.12 cm (6.74 inch) HD+ Display</td>\n",
       "      <td>4.2</td>\n",
       "    </tr>\n",
       "    <tr>\n",
       "      <th>2</th>\n",
       "      <td>POCO C75 5G (Aqua Bliss, 64 GB)</td>\n",
       "      <td>₹7,699₹10,99930% off</td>\n",
       "      <td>70,650 Ratings &amp; 3,673 Reviews</td>\n",
       "      <td>30% off</td>\n",
       "      <td>50MP Rear Camera | 5MP Front Camera</td>\n",
       "      <td>4 GB RAM | 64 GB ROM | Expandable Upto 1 TB</td>\n",
       "      <td>5160 mAh Battery</td>\n",
       "      <td>17.48 cm (6.88 inch) HD+ Display</td>\n",
       "      <td>4.3</td>\n",
       "    </tr>\n",
       "    <tr>\n",
       "      <th>3</th>\n",
       "      <td>REDMI A3X (Midnight Black, 64 GB)</td>\n",
       "      <td>₹5,999₹9,99940% off</td>\n",
       "      <td>7,906 Ratings &amp; 355 Reviews</td>\n",
       "      <td>40% off</td>\n",
       "      <td>8MP Rear Camera | 5MP Front Camera</td>\n",
       "      <td>3 GB RAM | 64 GB ROM | Expandable Upto 1 TB</td>\n",
       "      <td>5000 mAh Battery</td>\n",
       "      <td>17.04 cm (6.71 inch) HD+ Display</td>\n",
       "      <td>4.1</td>\n",
       "    </tr>\n",
       "    <tr>\n",
       "      <th>4</th>\n",
       "      <td>vivo T4x 5G (Pronto Purple, 128 GB)</td>\n",
       "      <td>₹14,999₹19,49923% off</td>\n",
       "      <td>53,828 Ratings &amp; 3,165 Reviews</td>\n",
       "      <td>23% off</td>\n",
       "      <td>50MP + 2MP | 8MP Front Camera</td>\n",
       "      <td>8 GB RAM | 128 GB ROM</td>\n",
       "      <td>6500 mAh Battery</td>\n",
       "      <td>17.07 cm (6.72 inch) Display</td>\n",
       "      <td>4.5</td>\n",
       "    </tr>\n",
       "    <tr>\n",
       "      <th>5</th>\n",
       "      <td>Infinix Note 50s 5G+ (Titanium Grey, 128 GB)</td>\n",
       "      <td>₹14,999₹19,99925% off</td>\n",
       "      <td>127 Ratings &amp; 14 Reviews</td>\n",
       "      <td>25% off</td>\n",
       "      <td>64MP + 2MP | 13MP Front Camera</td>\n",
       "      <td>6 GB RAM | 128 GB ROM</td>\n",
       "      <td>5500 mAh Battery</td>\n",
       "      <td>17.22 cm (6.78 inch) Full HD+ Display</td>\n",
       "      <td>4.4</td>\n",
       "    </tr>\n",
       "    <tr>\n",
       "      <th>6</th>\n",
       "      <td>Samsung Guru Music 2 B310ED</td>\n",
       "      <td>₹990₹1,89947% off</td>\n",
       "      <td>12,843 Ratings &amp; 1,016 Reviews</td>\n",
       "      <td>47% off</td>\n",
       "      <td>800 mAh Battery</td>\n",
       "      <td>32 MB RAM | 32 MB ROM</td>\n",
       "      <td>No Warranty</td>\n",
       "      <td>4.57 cm (1.8 inch) Display</td>\n",
       "      <td>3.2</td>\n",
       "    </tr>\n",
       "    <tr>\n",
       "      <th>7</th>\n",
       "      <td>vivo T4x 5G (Marine Blue, 128 GB)</td>\n",
       "      <td>₹13,999₹17,99922% off</td>\n",
       "      <td>70,982 Ratings &amp; 3,914 Reviews</td>\n",
       "      <td>22% off</td>\n",
       "      <td>50MP + 2MP | 8MP Front Camera</td>\n",
       "      <td>6 GB RAM | 128 GB ROM</td>\n",
       "      <td>6500 mAh Battery</td>\n",
       "      <td>17.07 cm (6.72 inch) Display</td>\n",
       "      <td>4.4</td>\n",
       "    </tr>\n",
       "    <tr>\n",
       "      <th>8</th>\n",
       "      <td>MOTOROLA g35 5G (Guava Red, 128 GB)</td>\n",
       "      <td>₹9,999₹12,49920% off</td>\n",
       "      <td>56,851 Ratings &amp; 4,373 Reviews</td>\n",
       "      <td>20% off</td>\n",
       "      <td>50MP + 8MP | 16MP Front Camera</td>\n",
       "      <td>4 GB RAM | 128 GB ROM | Expandable Upto 1 TB</td>\n",
       "      <td>5000 mAh Battery</td>\n",
       "      <td>17.07 cm (6.72 inch) Full HD+ Display</td>\n",
       "      <td>4.2</td>\n",
       "    </tr>\n",
       "    <tr>\n",
       "      <th>9</th>\n",
       "      <td>POCO C75 5G (Enchanted Green, 64 GB)</td>\n",
       "      <td>₹7,699₹10,99930% off</td>\n",
       "      <td>70,650 Ratings &amp; 3,673 Reviews</td>\n",
       "      <td>30% off</td>\n",
       "      <td>50MP Rear Camera | 5MP Front Camera</td>\n",
       "      <td>4 GB RAM | 64 GB ROM | Expandable Upto 1 TB</td>\n",
       "      <td>5160 mAh Battery</td>\n",
       "      <td>17.48 cm (6.88 inch) HD+ Display</td>\n",
       "      <td>4.3</td>\n",
       "    </tr>\n",
       "    <tr>\n",
       "      <th>10</th>\n",
       "      <td>Nokia 105 Classic with Charger</td>\n",
       "      <td>₹935₹1,49937% off</td>\n",
       "      <td>5,435 Ratings &amp; 350 Reviews</td>\n",
       "      <td>37% off</td>\n",
       "      <td>0MP Front Camera</td>\n",
       "      <td>32 MB RAM | 32 MB ROM</td>\n",
       "      <td>800 mAh Battery</td>\n",
       "      <td>4.5 cm (1.77 inch) Display</td>\n",
       "      <td>3.7</td>\n",
       "    </tr>\n",
       "    <tr>\n",
       "      <th>11</th>\n",
       "      <td>POCO C75 5G (Silver Stardust, 64 GB)</td>\n",
       "      <td>₹7,699₹10,99930% off</td>\n",
       "      <td>70,650 Ratings &amp; 3,673 Reviews</td>\n",
       "      <td>30% off</td>\n",
       "      <td>50MP Rear Camera | 5MP Front Camera</td>\n",
       "      <td>4 GB RAM | 64 GB ROM | Expandable Upto 1 TB</td>\n",
       "      <td>5160 mAh Battery</td>\n",
       "      <td>17.48 cm (6.88 inch) HD+ Display</td>\n",
       "      <td>4.3</td>\n",
       "    </tr>\n",
       "    <tr>\n",
       "      <th>12</th>\n",
       "      <td>POCO C71 (Desert Gold, 128 GB)</td>\n",
       "      <td>₹6,999₹9,99930% off</td>\n",
       "      <td>5,334 Ratings &amp; 324 Reviews</td>\n",
       "      <td>30% off</td>\n",
       "      <td>32MP Rear Camera | 8MP Front Camera</td>\n",
       "      <td>6 GB RAM | 128 GB ROM | Expandable Upto 2 TB</td>\n",
       "      <td>5200 mAh Battery</td>\n",
       "      <td>17.48 cm (6.88 inch) HD+ Display</td>\n",
       "      <td>4.1</td>\n",
       "    </tr>\n",
       "    <tr>\n",
       "      <th>13</th>\n",
       "      <td>MOTOROLA g05 (Plum Red, 64 GB)</td>\n",
       "      <td>₹7,299₹9,99927% off</td>\n",
       "      <td>36,685 Ratings &amp; 2,753 Reviews</td>\n",
       "      <td>27% off</td>\n",
       "      <td>50MP Rear Camera | 8MP Front Camera</td>\n",
       "      <td>4 GB RAM | 64 GB ROM | Expandable Upto 1 TB</td>\n",
       "      <td>5200 mAh Battery</td>\n",
       "      <td>16.94 cm (6.67 inch) HD+ Display</td>\n",
       "      <td>4.2</td>\n",
       "    </tr>\n",
       "    <tr>\n",
       "      <th>14</th>\n",
       "      <td>REDMI A5 (Just Black, 64 GB)</td>\n",
       "      <td>₹6,499₹8,99927% off</td>\n",
       "      <td>1,547 Ratings &amp; 79 Reviews</td>\n",
       "      <td>27% off</td>\n",
       "      <td>32MP Rear Camera | 8MP Front Camera</td>\n",
       "      <td>3 GB RAM | 64 GB ROM | Expandable Upto 2 TB</td>\n",
       "      <td>5200 mAh Battery</td>\n",
       "      <td>17.48 cm (6.88 inch) HD+ Display</td>\n",
       "      <td>4.2</td>\n",
       "    </tr>\n",
       "    <tr>\n",
       "      <th>15</th>\n",
       "      <td>REDMI A3X (Ocean Green, 64 GB)</td>\n",
       "      <td>₹5,999₹9,99940% off</td>\n",
       "      <td>7,906 Ratings &amp; 355 Reviews</td>\n",
       "      <td>40% off</td>\n",
       "      <td>8MP Rear Camera | 5MP Front Camera</td>\n",
       "      <td>3 GB RAM | 64 GB ROM | Expandable Upto 1 TB</td>\n",
       "      <td>5000 mAh Battery</td>\n",
       "      <td>17.04 cm (6.71 inch) HD+ Display</td>\n",
       "      <td>4.1</td>\n",
       "    </tr>\n",
       "    <tr>\n",
       "      <th>16</th>\n",
       "      <td>REDMI A3X (Olive Green, 64 GB)</td>\n",
       "      <td>₹5,999₹9,99940% off</td>\n",
       "      <td>7,906 Ratings &amp; 355 Reviews</td>\n",
       "      <td>40% off</td>\n",
       "      <td>8MP Rear Camera | 5MP Front Camera</td>\n",
       "      <td>3 GB RAM | 64 GB ROM | Expandable Upto 1 TB</td>\n",
       "      <td>5000 mAh Battery</td>\n",
       "      <td>17.04 cm (6.71 inch) HD+ Display</td>\n",
       "      <td>4.1</td>\n",
       "    </tr>\n",
       "    <tr>\n",
       "      <th>17</th>\n",
       "      <td>POCO M7 Pro 5G (Lunar Dust, 128 GB)</td>\n",
       "      <td>₹12,999₹18,99931% off</td>\n",
       "      <td>14,240 Ratings &amp; 1,314 Reviews</td>\n",
       "      <td>31% off</td>\n",
       "      <td>50MP + 2MP | 20MP Front Camera</td>\n",
       "      <td>6 GB RAM | 128 GB ROM</td>\n",
       "      <td>5110 mAh Battery</td>\n",
       "      <td>16.94 cm (6.67 inch) Full HD+ Display</td>\n",
       "      <td>4.3</td>\n",
       "    </tr>\n",
       "    <tr>\n",
       "      <th>18</th>\n",
       "      <td>Nokia 105 Single SIM, Keypad Mobile Phone with...</td>\n",
       "      <td>₹989₹1,49934% off</td>\n",
       "      <td>1,57,035 Ratings &amp; 9,914 Reviews</td>\n",
       "      <td>34% off</td>\n",
       "      <td>0MP | 0MP Front Camera</td>\n",
       "      <td>32 MB RAM | 32 MB ROM</td>\n",
       "      <td>1000 mAh Battery</td>\n",
       "      <td>4.5 cm (1.77 inch) Display</td>\n",
       "      <td>3.9</td>\n",
       "    </tr>\n",
       "    <tr>\n",
       "      <th>19</th>\n",
       "      <td>vivo T4x 5G (Pronto Purple, 256 GB)</td>\n",
       "      <td>₹16,999₹20,99919% off</td>\n",
       "      <td>53,828 Ratings &amp; 3,165 Reviews</td>\n",
       "      <td>19% off</td>\n",
       "      <td>50MP + 2MP | 8MP Front Camera</td>\n",
       "      <td>8 GB RAM | 256 GB ROM</td>\n",
       "      <td>6500 mAh Battery</td>\n",
       "      <td>17.07 cm (6.72 inch) Display</td>\n",
       "      <td>4.5</td>\n",
       "    </tr>\n",
       "    <tr>\n",
       "      <th>20</th>\n",
       "      <td>Motorola g45 5G (Brilliant Blue, 128 GB)</td>\n",
       "      <td>₹11,999₹14,99920% off</td>\n",
       "      <td>1,78,517 Ratings &amp; 9,433 Reviews</td>\n",
       "      <td>20% off</td>\n",
       "      <td>50MP + 2MP | 16MP Front Camera</td>\n",
       "      <td>8 GB RAM | 128 GB ROM | Expandable Upto 1 TB</td>\n",
       "      <td>5000 mAh Battery</td>\n",
       "      <td>16.51 cm (6.5 inch) HD+ Display</td>\n",
       "      <td>4.3</td>\n",
       "    </tr>\n",
       "    <tr>\n",
       "      <th>21</th>\n",
       "      <td>Motorola g45 5G (Pink Lavender, 128 GB)</td>\n",
       "      <td>₹10,999₹12,99915% off</td>\n",
       "      <td>45,456 Ratings &amp; 2,848 Reviews</td>\n",
       "      <td>15% off</td>\n",
       "      <td>50MP + 2MP | 16MP Front Camera</td>\n",
       "      <td>4 GB RAM | 128 GB ROM | Expandable Upto 1 TB</td>\n",
       "      <td>5000 mAh Battery</td>\n",
       "      <td>16.51 cm (6.5 inch) HD+ Display</td>\n",
       "      <td>4.3</td>\n",
       "    </tr>\n",
       "    <tr>\n",
       "      <th>22</th>\n",
       "      <td>POCO M6 Plus 5G (Ice Silver, 128 GB)</td>\n",
       "      <td>₹10,080₹15,99936% off</td>\n",
       "      <td>51,965 Ratings &amp; 3,198 Reviews</td>\n",
       "      <td>36% off</td>\n",
       "      <td>108MP + 2MP | 13MP Front Camera</td>\n",
       "      <td>6 GB RAM | 128 GB ROM | Expandable Upto 1 TB</td>\n",
       "      <td>5030 mAh Battery</td>\n",
       "      <td>17.25 cm (6.79 inch) Full HD+ Display</td>\n",
       "      <td>4.2</td>\n",
       "    </tr>\n",
       "    <tr>\n",
       "      <th>23</th>\n",
       "      <td>REDMI 13 5G (Orchid Pink, 128 GB)</td>\n",
       "      <td>₹12,499₹17,99930% off</td>\n",
       "      <td>39,203 Ratings &amp; 2,047 Reviews</td>\n",
       "      <td>30% off</td>\n",
       "      <td>108MP + 2MP | 13MP Front Camera</td>\n",
       "      <td>6 GB RAM | 128 GB ROM | Expandable Upto 1 TB</td>\n",
       "      <td>5030 mAh Lithium Polymer Battery</td>\n",
       "      <td>17.25 cm (6.79 inch) Full HD+ Display</td>\n",
       "      <td>4.3</td>\n",
       "    </tr>\n",
       "  </tbody>\n",
       "</table>\n",
       "</div>"
      ],
      "text/plain": [
       "                                         Product Name    Sale & Actual Price  \\\n",
       "0                        POCO C71 (Cool Blue, 128 GB)    ₹6,999₹9,99930% off   \n",
       "1           Samsung Galaxy F05 (Twilight Blue, 64 GB)    ₹6,499₹9,99935% off   \n",
       "2                     POCO C75 5G (Aqua Bliss, 64 GB)   ₹7,699₹10,99930% off   \n",
       "3                   REDMI A3X (Midnight Black, 64 GB)    ₹5,999₹9,99940% off   \n",
       "4                 vivo T4x 5G (Pronto Purple, 128 GB)  ₹14,999₹19,49923% off   \n",
       "5        Infinix Note 50s 5G+ (Titanium Grey, 128 GB)  ₹14,999₹19,99925% off   \n",
       "6                         Samsung Guru Music 2 B310ED      ₹990₹1,89947% off   \n",
       "7                   vivo T4x 5G (Marine Blue, 128 GB)  ₹13,999₹17,99922% off   \n",
       "8                 MOTOROLA g35 5G (Guava Red, 128 GB)   ₹9,999₹12,49920% off   \n",
       "9                POCO C75 5G (Enchanted Green, 64 GB)   ₹7,699₹10,99930% off   \n",
       "10                     Nokia 105 Classic with Charger      ₹935₹1,49937% off   \n",
       "11               POCO C75 5G (Silver Stardust, 64 GB)   ₹7,699₹10,99930% off   \n",
       "12                     POCO C71 (Desert Gold, 128 GB)    ₹6,999₹9,99930% off   \n",
       "13                     MOTOROLA g05 (Plum Red, 64 GB)    ₹7,299₹9,99927% off   \n",
       "14                       REDMI A5 (Just Black, 64 GB)    ₹6,499₹8,99927% off   \n",
       "15                     REDMI A3X (Ocean Green, 64 GB)    ₹5,999₹9,99940% off   \n",
       "16                     REDMI A3X (Olive Green, 64 GB)    ₹5,999₹9,99940% off   \n",
       "17                POCO M7 Pro 5G (Lunar Dust, 128 GB)  ₹12,999₹18,99931% off   \n",
       "18  Nokia 105 Single SIM, Keypad Mobile Phone with...      ₹989₹1,49934% off   \n",
       "19                vivo T4x 5G (Pronto Purple, 256 GB)  ₹16,999₹20,99919% off   \n",
       "20           Motorola g45 5G (Brilliant Blue, 128 GB)  ₹11,999₹14,99920% off   \n",
       "21            Motorola g45 5G (Pink Lavender, 128 GB)  ₹10,999₹12,99915% off   \n",
       "22               POCO M6 Plus 5G (Ice Silver, 128 GB)  ₹10,080₹15,99936% off   \n",
       "23                  REDMI 13 5G (Orchid Pink, 128 GB)  ₹12,499₹17,99930% off   \n",
       "\n",
       "                   Raview & Rattings    Offer  \\\n",
       "0        5,334 Ratings & 324 Reviews  30% off   \n",
       "1     55,419 Ratings & 3,257 Reviews  35% off   \n",
       "2     70,650 Ratings & 3,673 Reviews  30% off   \n",
       "3        7,906 Ratings & 355 Reviews  40% off   \n",
       "4     53,828 Ratings & 3,165 Reviews  23% off   \n",
       "5           127 Ratings & 14 Reviews  25% off   \n",
       "6     12,843 Ratings & 1,016 Reviews  47% off   \n",
       "7     70,982 Ratings & 3,914 Reviews  22% off   \n",
       "8     56,851 Ratings & 4,373 Reviews  20% off   \n",
       "9     70,650 Ratings & 3,673 Reviews  30% off   \n",
       "10       5,435 Ratings & 350 Reviews  37% off   \n",
       "11    70,650 Ratings & 3,673 Reviews  30% off   \n",
       "12       5,334 Ratings & 324 Reviews  30% off   \n",
       "13    36,685 Ratings & 2,753 Reviews  27% off   \n",
       "14        1,547 Ratings & 79 Reviews  27% off   \n",
       "15       7,906 Ratings & 355 Reviews  40% off   \n",
       "16       7,906 Ratings & 355 Reviews  40% off   \n",
       "17    14,240 Ratings & 1,314 Reviews  31% off   \n",
       "18  1,57,035 Ratings & 9,914 Reviews  34% off   \n",
       "19    53,828 Ratings & 3,165 Reviews  19% off   \n",
       "20  1,78,517 Ratings & 9,433 Reviews  20% off   \n",
       "21    45,456 Ratings & 2,848 Reviews  15% off   \n",
       "22    51,965 Ratings & 3,198 Reviews  36% off   \n",
       "23    39,203 Ratings & 2,047 Reviews  30% off   \n",
       "\n",
       "                                 Camera  \\\n",
       "0   32MP Rear Camera | 8MP Front Camera   \n",
       "1         50MP + 2MP | 8MP Front Camera   \n",
       "2   50MP Rear Camera | 5MP Front Camera   \n",
       "3    8MP Rear Camera | 5MP Front Camera   \n",
       "4         50MP + 2MP | 8MP Front Camera   \n",
       "5        64MP + 2MP | 13MP Front Camera   \n",
       "6                       800 mAh Battery   \n",
       "7         50MP + 2MP | 8MP Front Camera   \n",
       "8        50MP + 8MP | 16MP Front Camera   \n",
       "9   50MP Rear Camera | 5MP Front Camera   \n",
       "10                     0MP Front Camera   \n",
       "11  50MP Rear Camera | 5MP Front Camera   \n",
       "12  32MP Rear Camera | 8MP Front Camera   \n",
       "13  50MP Rear Camera | 8MP Front Camera   \n",
       "14  32MP Rear Camera | 8MP Front Camera   \n",
       "15   8MP Rear Camera | 5MP Front Camera   \n",
       "16   8MP Rear Camera | 5MP Front Camera   \n",
       "17       50MP + 2MP | 20MP Front Camera   \n",
       "18               0MP | 0MP Front Camera   \n",
       "19        50MP + 2MP | 8MP Front Camera   \n",
       "20       50MP + 2MP | 16MP Front Camera   \n",
       "21       50MP + 2MP | 16MP Front Camera   \n",
       "22      108MP + 2MP | 13MP Front Camera   \n",
       "23      108MP + 2MP | 13MP Front Camera   \n",
       "\n",
       "                                          Memory  \\\n",
       "0   6 GB RAM | 128 GB ROM | Expandable Upto 2 TB   \n",
       "1    4 GB RAM | 64 GB ROM | Expandable Upto 1 TB   \n",
       "2    4 GB RAM | 64 GB ROM | Expandable Upto 1 TB   \n",
       "3    3 GB RAM | 64 GB ROM | Expandable Upto 1 TB   \n",
       "4                          8 GB RAM | 128 GB ROM   \n",
       "5                          6 GB RAM | 128 GB ROM   \n",
       "6                          32 MB RAM | 32 MB ROM   \n",
       "7                          6 GB RAM | 128 GB ROM   \n",
       "8   4 GB RAM | 128 GB ROM | Expandable Upto 1 TB   \n",
       "9    4 GB RAM | 64 GB ROM | Expandable Upto 1 TB   \n",
       "10                         32 MB RAM | 32 MB ROM   \n",
       "11   4 GB RAM | 64 GB ROM | Expandable Upto 1 TB   \n",
       "12  6 GB RAM | 128 GB ROM | Expandable Upto 2 TB   \n",
       "13   4 GB RAM | 64 GB ROM | Expandable Upto 1 TB   \n",
       "14   3 GB RAM | 64 GB ROM | Expandable Upto 2 TB   \n",
       "15   3 GB RAM | 64 GB ROM | Expandable Upto 1 TB   \n",
       "16   3 GB RAM | 64 GB ROM | Expandable Upto 1 TB   \n",
       "17                         6 GB RAM | 128 GB ROM   \n",
       "18                         32 MB RAM | 32 MB ROM   \n",
       "19                         8 GB RAM | 256 GB ROM   \n",
       "20  8 GB RAM | 128 GB ROM | Expandable Upto 1 TB   \n",
       "21  4 GB RAM | 128 GB ROM | Expandable Upto 1 TB   \n",
       "22  6 GB RAM | 128 GB ROM | Expandable Upto 1 TB   \n",
       "23  6 GB RAM | 128 GB ROM | Expandable Upto 1 TB   \n",
       "\n",
       "                             Battery                                Display  \\\n",
       "0                   5200 mAh Battery       17.48 cm (6.88 inch) HD+ Display   \n",
       "1                   5000 mAh Battery       17.12 cm (6.74 inch) HD+ Display   \n",
       "2                   5160 mAh Battery       17.48 cm (6.88 inch) HD+ Display   \n",
       "3                   5000 mAh Battery       17.04 cm (6.71 inch) HD+ Display   \n",
       "4                   6500 mAh Battery           17.07 cm (6.72 inch) Display   \n",
       "5                   5500 mAh Battery  17.22 cm (6.78 inch) Full HD+ Display   \n",
       "6                        No Warranty             4.57 cm (1.8 inch) Display   \n",
       "7                   6500 mAh Battery           17.07 cm (6.72 inch) Display   \n",
       "8                   5000 mAh Battery  17.07 cm (6.72 inch) Full HD+ Display   \n",
       "9                   5160 mAh Battery       17.48 cm (6.88 inch) HD+ Display   \n",
       "10                   800 mAh Battery             4.5 cm (1.77 inch) Display   \n",
       "11                  5160 mAh Battery       17.48 cm (6.88 inch) HD+ Display   \n",
       "12                  5200 mAh Battery       17.48 cm (6.88 inch) HD+ Display   \n",
       "13                  5200 mAh Battery       16.94 cm (6.67 inch) HD+ Display   \n",
       "14                  5200 mAh Battery       17.48 cm (6.88 inch) HD+ Display   \n",
       "15                  5000 mAh Battery       17.04 cm (6.71 inch) HD+ Display   \n",
       "16                  5000 mAh Battery       17.04 cm (6.71 inch) HD+ Display   \n",
       "17                  5110 mAh Battery  16.94 cm (6.67 inch) Full HD+ Display   \n",
       "18                  1000 mAh Battery             4.5 cm (1.77 inch) Display   \n",
       "19                  6500 mAh Battery           17.07 cm (6.72 inch) Display   \n",
       "20                  5000 mAh Battery        16.51 cm (6.5 inch) HD+ Display   \n",
       "21                  5000 mAh Battery        16.51 cm (6.5 inch) HD+ Display   \n",
       "22                  5030 mAh Battery  17.25 cm (6.79 inch) Full HD+ Display   \n",
       "23  5030 mAh Lithium Polymer Battery  17.25 cm (6.79 inch) Full HD+ Display   \n",
       "\n",
       "   Ratting Number  \n",
       "0             4.1  \n",
       "1             4.2  \n",
       "2             4.3  \n",
       "3             4.1  \n",
       "4             4.5  \n",
       "5             4.4  \n",
       "6             3.2  \n",
       "7             4.4  \n",
       "8             4.2  \n",
       "9             4.3  \n",
       "10            3.7  \n",
       "11            4.3  \n",
       "12            4.1  \n",
       "13            4.2  \n",
       "14            4.2  \n",
       "15            4.1  \n",
       "16            4.1  \n",
       "17            4.3  \n",
       "18            3.9  \n",
       "19            4.5  \n",
       "20            4.3  \n",
       "21            4.3  \n",
       "22            4.2  \n",
       "23            4.3  "
      ]
     },
     "execution_count": 97,
     "metadata": {},
     "output_type": "execute_result"
    }
   ],
   "source": [
    "pd.DataFrame(data)"
   ]
  },
  {
   "cell_type": "code",
   "execution_count": null,
   "id": "b921f3cc",
   "metadata": {},
   "outputs": [],
   "source": []
  },
  {
   "cell_type": "code",
   "execution_count": null,
   "id": "849f2be2",
   "metadata": {},
   "outputs": [],
   "source": []
  },
  {
   "cell_type": "code",
   "execution_count": null,
   "id": "3a4eb340",
   "metadata": {},
   "outputs": [],
   "source": []
  },
  {
   "cell_type": "code",
   "execution_count": null,
   "id": "9d4c5963",
   "metadata": {},
   "outputs": [],
   "source": []
  },
  {
   "cell_type": "code",
   "execution_count": null,
   "id": "545fe1dd",
   "metadata": {},
   "outputs": [],
   "source": []
  },
  {
   "cell_type": "code",
   "execution_count": null,
   "id": "25a8442d",
   "metadata": {},
   "outputs": [],
   "source": []
  },
  {
   "cell_type": "code",
   "execution_count": null,
   "id": "dfae27c8",
   "metadata": {},
   "outputs": [],
   "source": []
  },
  {
   "cell_type": "code",
   "execution_count": 86,
   "id": "b9fed810",
   "metadata": {},
   "outputs": [],
   "source": [
    "data = {\"Product Name\":[],\n",
    "        \"Sale & Actual Price\":[],\n",
    "        \"Raview & Rattings\":[],\n",
    "        \"Offer\": [],\n",
    "        \"Camera\": [],\n",
    "        \"Memory\": [],\n",
    "        \"Battery\": [],\n",
    "        \"Display\": [],\n",
    "        \"Ratting Number\": []}\n"
   ]
  },
  {
   "cell_type": "code",
   "execution_count": 87,
   "id": "9af2b5bc",
   "metadata": {},
   "outputs": [],
   "source": [
    "data.get(\"Product Name\").append(\"Jey\")"
   ]
  },
  {
   "cell_type": "code",
   "execution_count": 88,
   "id": "00d5771e",
   "metadata": {},
   "outputs": [
    {
     "data": {
      "text/plain": [
       "{'Product Name': ['Jey'],\n",
       " 'Sale & Actual Price': [],\n",
       " 'Raview & Rattings': [],\n",
       " 'Offer': [],\n",
       " 'Camera': [],\n",
       " 'Memory': [],\n",
       " 'Battery': [],\n",
       " 'Display': [],\n",
       " 'Ratting Number': []}"
      ]
     },
     "execution_count": 88,
     "metadata": {},
     "output_type": "execute_result"
    }
   ],
   "source": [
    "dict(data)"
   ]
  },
  {
   "cell_type": "code",
   "execution_count": null,
   "id": "94d53426",
   "metadata": {},
   "outputs": [],
   "source": []
  },
  {
   "cell_type": "code",
   "execution_count": 69,
   "id": "388ba419",
   "metadata": {},
   "outputs": [],
   "source": [
    "data[\"Product Name\"].append(\"HI\")"
   ]
  },
  {
   "cell_type": "code",
   "execution_count": 70,
   "id": "947cc4fe",
   "metadata": {},
   "outputs": [
    {
     "data": {
      "text/plain": [
       "{'Product Name': ['HI'],\n",
       " 'Sale & Actual Price': ['HI'],\n",
       " 'Raview & Rattings': ['HI'],\n",
       " 'Offer': ['HI'],\n",
       " 'Camera': ['HI'],\n",
       " 'Memory': ['HI'],\n",
       " 'Battery': ['HI'],\n",
       " 'Display': ['HI'],\n",
       " 'Ratting Number': ['HI']}"
      ]
     },
     "execution_count": 70,
     "metadata": {},
     "output_type": "execute_result"
    }
   ],
   "source": [
    "data"
   ]
  },
  {
   "cell_type": "code",
   "execution_count": 76,
   "id": "7b6dab69",
   "metadata": {},
   "outputs": [],
   "source": [
    "dummy_data = {\"A\":[], \"B\":[]}"
   ]
  },
  {
   "cell_type": "code",
   "execution_count": 78,
   "id": "d1785b67",
   "metadata": {},
   "outputs": [],
   "source": [
    "dummy_data[\"A\"].append(\"IIII\")"
   ]
  },
  {
   "cell_type": "code",
   "execution_count": 79,
   "id": "1afaf8c1",
   "metadata": {},
   "outputs": [
    {
     "data": {
      "text/plain": [
       "{'A': ['IIII'], 'B': []}"
      ]
     },
     "execution_count": 79,
     "metadata": {},
     "output_type": "execute_result"
    }
   ],
   "source": [
    "dummy_data"
   ]
  },
  {
   "cell_type": "code",
   "execution_count": null,
   "id": "747423d5",
   "metadata": {},
   "outputs": [],
   "source": []
  }
 ],
 "metadata": {
  "kernelspec": {
   "display_name": "Python 3 (ipykernel)",
   "language": "python",
   "name": "python3"
  },
  "language_info": {
   "codemirror_mode": {
    "name": "ipython",
    "version": 3
   },
   "file_extension": ".py",
   "mimetype": "text/x-python",
   "name": "python",
   "nbconvert_exporter": "python",
   "pygments_lexer": "ipython3",
   "version": "3.11.5"
  }
 },
 "nbformat": 4,
 "nbformat_minor": 5
}
