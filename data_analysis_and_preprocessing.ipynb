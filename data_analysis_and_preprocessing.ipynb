{
 "cells": [
  {
   "cell_type": "code",
   "execution_count": 1,
   "id": "236567f2",
   "metadata": {},
   "outputs": [],
   "source": [
    "import warnings\n",
    "warnings.filterwarnings(\"ignore\")\n",
    "\n",
    "import pandas as pd\n",
    "import numpy as np\n",
    "import matplotlib.pyplot as plt"
   ]
  },
  {
   "cell_type": "code",
   "execution_count": 2,
   "id": "7c6994f0",
   "metadata": {},
   "outputs": [],
   "source": [
    "df = pd.read_csv(\"flipkart_mobile_phones.csv\")"
   ]
  },
  {
   "cell_type": "code",
   "execution_count": 5,
   "id": "f46a388b",
   "metadata": {},
   "outputs": [],
   "source": [
    "df = df.drop(\"Unnamed: 0\", axis = 1)"
   ]
  },
  {
   "cell_type": "code",
   "execution_count": 14,
   "id": "1b07a8f8",
   "metadata": {},
   "outputs": [
    {
     "data": {
      "text/plain": [
       "'6999'"
      ]
     },
     "execution_count": 14,
     "metadata": {},
     "output_type": "execute_result"
    }
   ],
   "source": [
    "df[\"Sale & Actual Price\"][0].split(df[\"Offer\"][0])[0].split(\"₹\")[1].replace(\",\", \"\")"
   ]
  },
  {
   "cell_type": "code",
   "execution_count": 19,
   "id": "1046a2fa",
   "metadata": {},
   "outputs": [
    {
     "data": {
      "text/plain": [
       "Product Name            Samsung Galaxy A06 5G (Light Green, 64 GB)\n",
       "Sale & Actual Price                           Price: Not Available\n",
       "Raview & Rattings                         338 Ratings & 47 Reviews\n",
       "Offer                                                     No Offer\n",
       "Camera                   50MP + 50MP | 2MP + 2MP Dual Front Camera\n",
       "Memory                 4 GB RAM | 64 GB ROM | Expandable Upto 1 TB\n",
       "Battery                                           5000 mAh Battery\n",
       "Display                            17.02 cm (6.7 inch) HD+ Display\n",
       "Ratting Number                                                 4.2\n",
       "Name: 219, dtype: object"
      ]
     },
     "execution_count": 19,
     "metadata": {},
     "output_type": "execute_result"
    }
   ],
   "source": [
    "df.iloc[219]"
   ]
  },
  {
   "cell_type": "code",
   "execution_count": 21,
   "id": "f7304f91",
   "metadata": {},
   "outputs": [],
   "source": [
    "sale_price = []\n",
    "actual_price = []\n",
    "\n",
    "for i in range(df.shape[0]):\n",
    "    try:\n",
    "        a = df[\"Sale & Actual Price\"][i].split(df[\"Offer\"][i])[0].split(\"₹\")[1]\n",
    "        sale_price.append(int(a.replace(\",\", \"\")))\n",
    "\n",
    "        try:\n",
    "            b = df[\"Sale & Actual Price\"][i].split(df[\"Offer\"][i])[0].split(\"₹\")[2]\n",
    "        except IndexError:\n",
    "            b = a\n",
    "\n",
    "        actual_price.append(int(b.replace(\",\", \"\")))\n",
    "    except IndexError:\n",
    "        sale_price.append(df[\"Sale & Actual Price\"][i])\n",
    "        actual_price.append(df[\"Sale & Actual Price\"][i])\n"
   ]
  },
  {
   "cell_type": "code",
   "execution_count": 22,
   "id": "32e92305",
   "metadata": {},
   "outputs": [],
   "source": [
    "df[\"Sale Price\"] = sale_price\n",
    "df[\"Actual Price\"] = actual_price"
   ]
  },
  {
   "cell_type": "code",
   "execution_count": 25,
   "id": "b49e1cd8",
   "metadata": {},
   "outputs": [],
   "source": [
    "df = df.drop(\"Sale & Actual Price\", axis = 1)"
   ]
  },
  {
   "cell_type": "code",
   "execution_count": 29,
   "id": "f79acc7f",
   "metadata": {},
   "outputs": [],
   "source": [
    "splitted_cols = df['Raview & Rattings'].str.split(\"&\", expand=True)"
   ]
  },
  {
   "cell_type": "code",
   "execution_count": 35,
   "id": "f311f29f",
   "metadata": {},
   "outputs": [],
   "source": [
    "df[\"No of Reviews\"] = splitted_cols[0].str.replace(\",\", \"\").str.extract(r\"(\\d+)\").astype(int)\n",
    "df[\"No of Rattings\"] = splitted_cols[1].str.replace(\",\", \"\").str.extract(r\"(\\d+)\").astype(int)"
   ]
  },
  {
   "cell_type": "code",
   "execution_count": 38,
   "id": "e87636bc",
   "metadata": {},
   "outputs": [],
   "source": [
    "final_df = df.drop(\"Raview & Rattings\", axis = 1)"
   ]
  },
  {
   "cell_type": "code",
   "execution_count": 39,
   "id": "9165cd3f",
   "metadata": {},
   "outputs": [],
   "source": [
    "final_df.to_csv(\"processed_flipkart_mobile_phones.csv\")"
   ]
  },
  {
   "cell_type": "code",
   "execution_count": 40,
   "id": "389a1d8e",
   "metadata": {},
   "outputs": [
    {
     "data": {
      "text/plain": [
       "(240, 11)"
      ]
     },
     "execution_count": 40,
     "metadata": {},
     "output_type": "execute_result"
    }
   ],
   "source": [
    "final_df.shape"
   ]
  },
  {
   "cell_type": "markdown",
   "id": "f21481f2",
   "metadata": {},
   "source": [
    "# Store into MongoDB"
   ]
  },
  {
   "cell_type": "code",
   "execution_count": 47,
   "id": "ad1f0f75",
   "metadata": {},
   "outputs": [],
   "source": [
    "from pymongo import MongoClient"
   ]
  },
  {
   "cell_type": "code",
   "execution_count": 43,
   "id": "8f42075d",
   "metadata": {
    "collapsed": true
   },
   "outputs": [
    {
     "data": {
      "text/html": [
       "<div>\n",
       "<style scoped>\n",
       "    .dataframe tbody tr th:only-of-type {\n",
       "        vertical-align: middle;\n",
       "    }\n",
       "\n",
       "    .dataframe tbody tr th {\n",
       "        vertical-align: top;\n",
       "    }\n",
       "\n",
       "    .dataframe thead th {\n",
       "        text-align: right;\n",
       "    }\n",
       "</style>\n",
       "<table border=\"1\" class=\"dataframe\">\n",
       "  <thead>\n",
       "    <tr style=\"text-align: right;\">\n",
       "      <th></th>\n",
       "      <th>Product Name</th>\n",
       "      <th>Offer</th>\n",
       "      <th>Camera</th>\n",
       "      <th>Memory</th>\n",
       "      <th>Battery</th>\n",
       "      <th>Display</th>\n",
       "      <th>Ratting Number</th>\n",
       "      <th>Sale Price</th>\n",
       "      <th>Actual Price</th>\n",
       "      <th>No of Reviews</th>\n",
       "      <th>No of Rattings</th>\n",
       "    </tr>\n",
       "  </thead>\n",
       "  <tbody>\n",
       "    <tr>\n",
       "      <th>0</th>\n",
       "      <td>POCO C71 (Cool Blue, 128 GB)</td>\n",
       "      <td>30% off</td>\n",
       "      <td>32MP Rear Camera | 8MP Front Camera</td>\n",
       "      <td>6 GB RAM | 128 GB ROM | Expandable Upto 2 TB</td>\n",
       "      <td>5200 mAh Battery</td>\n",
       "      <td>17.48 cm (6.88 inch) HD+ Display</td>\n",
       "      <td>4.1</td>\n",
       "      <td>6999</td>\n",
       "      <td>9999</td>\n",
       "      <td>5334</td>\n",
       "      <td>324</td>\n",
       "    </tr>\n",
       "    <tr>\n",
       "      <th>1</th>\n",
       "      <td>Samsung Galaxy F05 (Twilight Blue, 64 GB)</td>\n",
       "      <td>35% off</td>\n",
       "      <td>50MP + 2MP | 8MP Front Camera</td>\n",
       "      <td>4 GB RAM | 64 GB ROM | Expandable Upto 1 TB</td>\n",
       "      <td>5000 mAh Battery</td>\n",
       "      <td>17.12 cm (6.74 inch) HD+ Display</td>\n",
       "      <td>4.2</td>\n",
       "      <td>6499</td>\n",
       "      <td>9999</td>\n",
       "      <td>55419</td>\n",
       "      <td>3257</td>\n",
       "    </tr>\n",
       "    <tr>\n",
       "      <th>2</th>\n",
       "      <td>REDMI A3X (Midnight Black, 64 GB)</td>\n",
       "      <td>40% off</td>\n",
       "      <td>8MP Rear Camera | 5MP Front Camera</td>\n",
       "      <td>3 GB RAM | 64 GB ROM | Expandable Upto 1 TB</td>\n",
       "      <td>5000 mAh Battery</td>\n",
       "      <td>17.04 cm (6.71 inch) HD+ Display</td>\n",
       "      <td>4.1</td>\n",
       "      <td>5999</td>\n",
       "      <td>9999</td>\n",
       "      <td>7906</td>\n",
       "      <td>355</td>\n",
       "    </tr>\n",
       "    <tr>\n",
       "      <th>3</th>\n",
       "      <td>MOTOROLA g35 5G (Guava Red, 128 GB)</td>\n",
       "      <td>20% off</td>\n",
       "      <td>50MP + 8MP | 16MP Front Camera</td>\n",
       "      <td>4 GB RAM | 128 GB ROM | Expandable Upto 1 TB</td>\n",
       "      <td>5000 mAh Battery</td>\n",
       "      <td>17.07 cm (6.72 inch) Full HD+ Display</td>\n",
       "      <td>4.2</td>\n",
       "      <td>9999</td>\n",
       "      <td>12499</td>\n",
       "      <td>56851</td>\n",
       "      <td>4373</td>\n",
       "    </tr>\n",
       "    <tr>\n",
       "      <th>4</th>\n",
       "      <td>vivo T4x 5G (Marine Blue, 128 GB)</td>\n",
       "      <td>22% off</td>\n",
       "      <td>50MP + 2MP | 8MP Front Camera</td>\n",
       "      <td>6 GB RAM | 128 GB ROM</td>\n",
       "      <td>6500 mAh Battery</td>\n",
       "      <td>17.07 cm (6.72 inch) Display</td>\n",
       "      <td>4.4</td>\n",
       "      <td>13999</td>\n",
       "      <td>17999</td>\n",
       "      <td>73091</td>\n",
       "      <td>4034</td>\n",
       "    </tr>\n",
       "    <tr>\n",
       "      <th>...</th>\n",
       "      <td>...</td>\n",
       "      <td>...</td>\n",
       "      <td>...</td>\n",
       "      <td>...</td>\n",
       "      <td>...</td>\n",
       "      <td>...</td>\n",
       "      <td>...</td>\n",
       "      <td>...</td>\n",
       "      <td>...</td>\n",
       "      <td>...</td>\n",
       "      <td>...</td>\n",
       "    </tr>\n",
       "    <tr>\n",
       "      <th>235</th>\n",
       "      <td>realme 14 Pro 5G (Pearl White, 256 GB)</td>\n",
       "      <td>10% off</td>\n",
       "      <td>50MP + 2MP | 16MP Front Camera</td>\n",
       "      <td>8 GB RAM | 256 GB ROM</td>\n",
       "      <td>6000 mAh Battery</td>\n",
       "      <td>17.2 cm (6.77 inch) Full HD+ Display</td>\n",
       "      <td>4.4</td>\n",
       "      <td>26999</td>\n",
       "      <td>29999</td>\n",
       "      <td>8530</td>\n",
       "      <td>732</td>\n",
       "    </tr>\n",
       "    <tr>\n",
       "      <th>236</th>\n",
       "      <td>realme 14 Pro 5G (Jaipur Pink, 128 GB)</td>\n",
       "      <td>10% off</td>\n",
       "      <td>50MP + 2MP | 16MP Front Camera</td>\n",
       "      <td>8 GB RAM | 128 GB ROM</td>\n",
       "      <td>6000 mAh Battery</td>\n",
       "      <td>17.2 cm (6.77 inch) Full HD+ Display</td>\n",
       "      <td>4.4</td>\n",
       "      <td>24999</td>\n",
       "      <td>27999</td>\n",
       "      <td>8530</td>\n",
       "      <td>732</td>\n",
       "    </tr>\n",
       "    <tr>\n",
       "      <th>237</th>\n",
       "      <td>Google Pixel 9A (Porcelain, 256 GB)</td>\n",
       "      <td>No Offer</td>\n",
       "      <td>48MP + 12MP | 12MP Front Camera</td>\n",
       "      <td>8 GB RAM | 256 GB ROM</td>\n",
       "      <td>5100 mAh Battery</td>\n",
       "      <td>15.96 cm (6.285 inch) Full HD+ Display</td>\n",
       "      <td>4.5</td>\n",
       "      <td>49999</td>\n",
       "      <td>49999</td>\n",
       "      <td>1304</td>\n",
       "      <td>147</td>\n",
       "    </tr>\n",
       "    <tr>\n",
       "      <th>238</th>\n",
       "      <td>Samsung Guru Music 2 B310ED</td>\n",
       "      <td>47% off</td>\n",
       "      <td>800 mAh Battery</td>\n",
       "      <td>32 MB RAM | 32 MB ROM</td>\n",
       "      <td>No Warranty</td>\n",
       "      <td>4.57 cm (1.8 inch) Display</td>\n",
       "      <td>3.2</td>\n",
       "      <td>990</td>\n",
       "      <td>1899</td>\n",
       "      <td>12843</td>\n",
       "      <td>1016</td>\n",
       "    </tr>\n",
       "    <tr>\n",
       "      <th>239</th>\n",
       "      <td>POCO C75 5G (Enchanted Green, 128 GB)</td>\n",
       "      <td>26% off</td>\n",
       "      <td>50MP Rear Camera | 5MP Front Camera</td>\n",
       "      <td>4 GB RAM | 128 GB ROM | Expandable Upto 1 TB</td>\n",
       "      <td>5160 mAh Battery</td>\n",
       "      <td>17.48 cm (6.88 inch) HD+ Display</td>\n",
       "      <td>4.3</td>\n",
       "      <td>8499</td>\n",
       "      <td>11499</td>\n",
       "      <td>70650</td>\n",
       "      <td>3673</td>\n",
       "    </tr>\n",
       "  </tbody>\n",
       "</table>\n",
       "<p>240 rows × 11 columns</p>\n",
       "</div>"
      ],
      "text/plain": [
       "                                  Product Name     Offer  \\\n",
       "0                 POCO C71 (Cool Blue, 128 GB)   30% off   \n",
       "1    Samsung Galaxy F05 (Twilight Blue, 64 GB)   35% off   \n",
       "2            REDMI A3X (Midnight Black, 64 GB)   40% off   \n",
       "3          MOTOROLA g35 5G (Guava Red, 128 GB)   20% off   \n",
       "4            vivo T4x 5G (Marine Blue, 128 GB)   22% off   \n",
       "..                                         ...       ...   \n",
       "235     realme 14 Pro 5G (Pearl White, 256 GB)   10% off   \n",
       "236     realme 14 Pro 5G (Jaipur Pink, 128 GB)   10% off   \n",
       "237        Google Pixel 9A (Porcelain, 256 GB)  No Offer   \n",
       "238                Samsung Guru Music 2 B310ED   47% off   \n",
       "239      POCO C75 5G (Enchanted Green, 128 GB)   26% off   \n",
       "\n",
       "                                  Camera  \\\n",
       "0    32MP Rear Camera | 8MP Front Camera   \n",
       "1          50MP + 2MP | 8MP Front Camera   \n",
       "2     8MP Rear Camera | 5MP Front Camera   \n",
       "3         50MP + 8MP | 16MP Front Camera   \n",
       "4          50MP + 2MP | 8MP Front Camera   \n",
       "..                                   ...   \n",
       "235       50MP + 2MP | 16MP Front Camera   \n",
       "236       50MP + 2MP | 16MP Front Camera   \n",
       "237      48MP + 12MP | 12MP Front Camera   \n",
       "238                      800 mAh Battery   \n",
       "239  50MP Rear Camera | 5MP Front Camera   \n",
       "\n",
       "                                           Memory           Battery  \\\n",
       "0    6 GB RAM | 128 GB ROM | Expandable Upto 2 TB  5200 mAh Battery   \n",
       "1     4 GB RAM | 64 GB ROM | Expandable Upto 1 TB  5000 mAh Battery   \n",
       "2     3 GB RAM | 64 GB ROM | Expandable Upto 1 TB  5000 mAh Battery   \n",
       "3    4 GB RAM | 128 GB ROM | Expandable Upto 1 TB  5000 mAh Battery   \n",
       "4                           6 GB RAM | 128 GB ROM  6500 mAh Battery   \n",
       "..                                            ...               ...   \n",
       "235                         8 GB RAM | 256 GB ROM  6000 mAh Battery   \n",
       "236                         8 GB RAM | 128 GB ROM  6000 mAh Battery   \n",
       "237                         8 GB RAM | 256 GB ROM  5100 mAh Battery   \n",
       "238                         32 MB RAM | 32 MB ROM       No Warranty   \n",
       "239  4 GB RAM | 128 GB ROM | Expandable Upto 1 TB  5160 mAh Battery   \n",
       "\n",
       "                                    Display  Ratting Number Sale Price  \\\n",
       "0          17.48 cm (6.88 inch) HD+ Display             4.1       6999   \n",
       "1          17.12 cm (6.74 inch) HD+ Display             4.2       6499   \n",
       "2          17.04 cm (6.71 inch) HD+ Display             4.1       5999   \n",
       "3     17.07 cm (6.72 inch) Full HD+ Display             4.2       9999   \n",
       "4              17.07 cm (6.72 inch) Display             4.4      13999   \n",
       "..                                      ...             ...        ...   \n",
       "235    17.2 cm (6.77 inch) Full HD+ Display             4.4      26999   \n",
       "236    17.2 cm (6.77 inch) Full HD+ Display             4.4      24999   \n",
       "237  15.96 cm (6.285 inch) Full HD+ Display             4.5      49999   \n",
       "238              4.57 cm (1.8 inch) Display             3.2        990   \n",
       "239        17.48 cm (6.88 inch) HD+ Display             4.3       8499   \n",
       "\n",
       "    Actual Price  No of Reviews  No of Rattings  \n",
       "0           9999           5334             324  \n",
       "1           9999          55419            3257  \n",
       "2           9999           7906             355  \n",
       "3          12499          56851            4373  \n",
       "4          17999          73091            4034  \n",
       "..           ...            ...             ...  \n",
       "235        29999           8530             732  \n",
       "236        27999           8530             732  \n",
       "237        49999           1304             147  \n",
       "238         1899          12843            1016  \n",
       "239        11499          70650            3673  \n",
       "\n",
       "[240 rows x 11 columns]"
      ]
     },
     "execution_count": 43,
     "metadata": {},
     "output_type": "execute_result"
    }
   ],
   "source": [
    "final_df"
   ]
  },
  {
   "cell_type": "code",
   "execution_count": 48,
   "id": "30cea9bd",
   "metadata": {},
   "outputs": [],
   "source": [
    "client = MongoClient('mongodb://localhost:27017/')"
   ]
  },
  {
   "cell_type": "code",
   "execution_count": 49,
   "id": "c2e889dc",
   "metadata": {},
   "outputs": [],
   "source": [
    "db = client[\"flipkart_database\"]\n",
    "collection = db[\"mobile_phones\"]"
   ]
  },
  {
   "cell_type": "code",
   "execution_count": 51,
   "id": "add05b4f",
   "metadata": {},
   "outputs": [],
   "source": [
    "data_dict = final_df.to_dict(\"records\")"
   ]
  },
  {
   "cell_type": "code",
   "execution_count": 53,
   "id": "3a0660e2",
   "metadata": {},
   "outputs": [
    {
     "name": "stdout",
     "output_type": "stream",
     "text": [
      "Dataframe inserted\n"
     ]
    }
   ],
   "source": [
    "collection.insert_many(data_dict)\n",
    "print(\"Dataframe inserted\")"
   ]
  },
  {
   "cell_type": "code",
   "execution_count": null,
   "id": "f9543420",
   "metadata": {},
   "outputs": [],
   "source": []
  }
 ],
 "metadata": {
  "kernelspec": {
   "display_name": "Python 3 (ipykernel)",
   "language": "python",
   "name": "python3"
  },
  "language_info": {
   "codemirror_mode": {
    "name": "ipython",
    "version": 3
   },
   "file_extension": ".py",
   "mimetype": "text/x-python",
   "name": "python",
   "nbconvert_exporter": "python",
   "pygments_lexer": "ipython3",
   "version": "3.11.5"
  }
 },
 "nbformat": 4,
 "nbformat_minor": 5
}
